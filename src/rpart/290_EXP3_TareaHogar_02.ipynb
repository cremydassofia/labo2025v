{
  "nbformat": 4,
  "nbformat_minor": 0,
  "metadata": {
    "colab": {
      "provenance": [],
      "include_colab_link": true
    },
    "kernelspec": {
      "name": "ir",
      "display_name": "R"
    },
    "language_info": {
      "name": "R"
    }
  },
  "cells": [
    {
      "cell_type": "markdown",
      "metadata": {
        "id": "view-in-github",
        "colab_type": "text"
      },
      "source": [
        "<a href=\"https://colab.research.google.com/github/cremydassofia/labo2025v/blob/main/src/rpart/290_EXP3_TareaHogar_02.ipynb\" target=\"_parent\"><img src=\"https://colab.research.google.com/assets/colab-badge.svg\" alt=\"Open In Colab\"/></a>"
      ]
    },
    {
      "cell_type": "markdown",
      "source": [
        "# Tarea para el Hogar 02"
      ],
      "metadata": {
        "id": "F3r8aa3pBigj"
      }
    },
    {
      "cell_type": "markdown",
      "source": [
        "Esta Tarea para el Hogar 02 se entrega el final de la segunda clase\n",
        "<br> se espera de usted que intente avanzar con los desafios propuestos y que los traiga terminados para la Clase 03, ya que se analizarán los resultados"
      ],
      "metadata": {
        "id": "nBm4ktHUBmZt"
      }
    },
    {
      "cell_type": "markdown",
      "source": [
        "##  1. Ensembles de Modelos"
      ],
      "metadata": {
        "id": "TK-M04ElCESC"
      }
    },
    {
      "cell_type": "markdown",
      "source": [
        "Vea el siguiente video [BBC - The Code - The Wisdom of the Crowd](https://www.youtube.com/watch?v=iOucwX7Z1HU)    ( 5 min)\n"
      ],
      "metadata": {
        "id": "biPYxgobCOSS"
      }
    },
    {
      "cell_type": "markdown",
      "source": [
        "Lea los siguientes artículos\n",
        "\n",
        "\n",
        "*   [The Wisdom of Crowds (Vox Populi) by Francis Galton](https://www.all-about-psychology.com/the-wisdom-of-crowds.html)  (10 min)\n",
        "*   [A Gentle Introduction to Ensemble Learning](https://machinelearningmastery.com/what-is-ensemble-learning/)  (10 min)\n",
        "\n"
      ],
      "metadata": {
        "id": "FBszBRyNCcjp"
      }
    },
    {
      "cell_type": "markdown",
      "source": [
        "\n",
        "\n",
        "---\n",
        "\n"
      ],
      "metadata": {
        "id": "x7SebtV2lpHQ"
      }
    },
    {
      "cell_type": "markdown",
      "source": [
        "##  2.  Zero2Hero   primera parte\n",
        "Se han lanzado los primeros fascículos coleccionables llamados \"from Zero to Hero\" que muy detalladamente, paso a paso enseñan todo lo necesario de R para entender los scripts oficiales de la asignatura.\n",
        "Están en el repositorio oficial de la asignatura, carpeta  **src/zero2hero**"
      ],
      "metadata": {
        "id": "NQcY8u2MDSLT"
      }
    },
    {
      "cell_type": "markdown",
      "source": [
        "\n",
        "\n",
        "---\n",
        "\n"
      ],
      "metadata": {
        "id": "GcO0OSiIEAGy"
      }
    },
    {
      "cell_type": "markdown",
      "source": [
        "## 3.  Grid Search"
      ],
      "metadata": {
        "id": "6MStcyn0EBdT"
      }
    },
    {
      "cell_type": "markdown",
      "source": [
        "Busque en internet el precido significado de los hiperparámetros de la librería **rpart**  que está implementando el algoritmo **CART**  Classification and Regression Trees  propuesto en el año 1984 por Leo Brieman:\n",
        "\n",
        "*   cp\n",
        "*   maxdepth\n",
        "*   minsplit\n",
        "*   minbucket\n",
        "\n",
        "Entienda que valores es razonable tome cada hiperparámetro,  en particular profundice en el hiperparámetro  **cp**  y la posibilidad que tome valores negativos.  Es válido consultar a su amigo de *capacidades especiales*  ChatGPT\n"
      ],
      "metadata": {
        "id": "gM8RKXDgEIY0"
      }
    },
    {
      "cell_type": "markdown",
      "source": [
        "En las siguientes celdas a un notebook incompleto, un esqueleto de codigo brindado a modo de facilitarle la tarea de codeo y permitir que su valiosa cognición se concentre temas conceptuales de Ciencia de Datos\n",
        "\n",
        "Modifiquelo agregando loops para que recorra TODOS los hiperparámetros de rpart  < cp, maxdepth, minsplit, minbucket >, y luego póngalo a correr. Recuerde cambiar por SU semilla\n",
        "Tenga muy presente la granularidad que eligirá para cada hiperparámetro."
      ],
      "metadata": {
        "id": "_k7eT3HIFy9y"
      }
    },
    {
      "cell_type": "markdown",
      "source": [
        "### Seteo del ambiente en Google Colab"
      ],
      "metadata": {
        "id": "kmLygy1TYPfg"
      }
    },
    {
      "cell_type": "markdown",
      "source": [
        "Esta parte se debe correr con el runtime en Python3\n",
        "<br>Ir al menu, Runtime -> Change Runtime Tipe -> Runtime type ->  **Python 3**"
      ],
      "metadata": {
        "id": "OikOm5K2YU3X"
      }
    },
    {
      "cell_type": "markdown",
      "source": [
        "Conectar la virtual machine donde esta corriendo Google Colab con el  Google Drive, para poder tener persistencia de archivos"
      ],
      "metadata": {
        "id": "4fmV5LyZdFyI"
      }
    },
    {
      "cell_type": "code",
      "source": [
        "# primero establecer el Runtime de Python 3\n",
        "from google.colab import drive\n",
        "drive.mount('/content/.drive')"
      ],
      "metadata": {
        "id": "ilEZ-bE2VybW",
        "outputId": "910d7a16-c1ff-4db2-e860-5bb78ba38e4b",
        "colab": {
          "base_uri": "https://localhost:8080/"
        }
      },
      "execution_count": 2,
      "outputs": [
        {
          "output_type": "stream",
          "name": "stdout",
          "text": [
            "Mounted at /content/.drive\n"
          ]
        }
      ]
    },
    {
      "cell_type": "markdown",
      "source": [
        "Para correr la siguiente celda es fundamental en Arranque en Frio haber copiado el archivo kaggle.json al Google Drive, en la carpeta indicada en el instructivo\n",
        "\n",
        "<br>los siguientes comando estan en shell script de Linux\n",
        "*   Crear las carpetas en el Google Drive\n",
        "*   \"instalar\" el archivo kaggle.json desde el Google Drive a la virtual machine para que pueda ser utilizado por la libreria  kaggle de Python\n",
        "*   Bajar el  **dataset_pequeno**  al  Google Drive  y tambien al disco local de la virtual machine que esta corriendo Google Colab\n",
        "\n"
      ],
      "metadata": {
        "id": "ilaKtqWldeWg"
      }
    },
    {
      "cell_type": "code",
      "source": [
        "%%shell\n",
        "\n",
        "mkdir -p \"/content/.drive/My Drive/labo1\"\n",
        "mkdir -p \"/content/buckets\"\n",
        "ln -s \"/content/.drive/My Drive/labo1\" /content/buckets/b1\n",
        "\n",
        "mkdir -p ~/.kaggle\n",
        "cp /content/buckets/b1/kaggle/kaggle.json  ~/.kaggle\n",
        "chmod 600 ~/.kaggle/kaggle.json\n",
        "\n",
        "\n",
        "mkdir -p /content/buckets/b1/exp\n",
        "mkdir -p /content/buckets/b1/datasets\n",
        "mkdir -p /content/datasets\n",
        "\n",
        "\n",
        "\n",
        "archivo_origen=\"https://storage.googleapis.com/open-courses/austral2025-af91/dataset_pequeno.csv\"\n",
        "archivo_destino=\"/content/datasets/dataset_pequeno.csv\"\n",
        "archivo_destino_bucket=\"/content/buckets/b1/datasets/dataset_pequeno.csv\"\n",
        "\n",
        "if ! test -f $archivo_destino_bucket; then\n",
        "  wget  $archivo_origen  -O $archivo_destino_bucket\n",
        "fi\n",
        "\n",
        "\n",
        "if ! test -f $archivo_destino; then\n",
        "  cp  $archivo_destino_bucket  $archivo_destino\n",
        "fi\n",
        "\n"
      ],
      "metadata": {
        "id": "W8dQFI5QYCFa",
        "outputId": "a8e774d7-72e0-4984-8896-832eb4028d7f",
        "colab": {
          "base_uri": "https://localhost:8080/"
        }
      },
      "execution_count": 3,
      "outputs": [
        {
          "output_type": "stream",
          "name": "stdout",
          "text": [
            "cp: cannot stat '/content/buckets/b1/kaggle/kaggle.json': No such file or directory\n",
            "chmod: cannot access '/root/.kaggle/kaggle.json': No such file or directory\n"
          ]
        },
        {
          "output_type": "execute_result",
          "data": {
            "text/plain": []
          },
          "metadata": {},
          "execution_count": 3
        }
      ]
    },
    {
      "cell_type": "markdown",
      "source": [
        "limpio el ambiente de R"
      ],
      "metadata": {
        "id": "SE94XRhWsxkX"
      }
    },
    {
      "cell_type": "code",
      "source": [
        "# limpio la memoria\n",
        "rm(list=ls(all.names=TRUE)) # remove all objects\n",
        "gc(full=TRUE, verbose=FALSE) # garbage collection"
      ],
      "metadata": {
        "id": "oZG_4br6szlT",
        "outputId": "e01665f5-937a-4f79-e137-8cfe74960326",
        "colab": {
          "base_uri": "https://localhost:8080/",
          "height": 129
        }
      },
      "execution_count": 1,
      "outputs": [
        {
          "output_type": "display_data",
          "data": {
            "text/html": [
              "<table class=\"dataframe\">\n",
              "<caption>A matrix: 2 × 6 of type dbl</caption>\n",
              "<thead>\n",
              "\t<tr><th></th><th scope=col>used</th><th scope=col>(Mb)</th><th scope=col>gc trigger</th><th scope=col>(Mb)</th><th scope=col>max used</th><th scope=col>(Mb)</th></tr>\n",
              "</thead>\n",
              "<tbody>\n",
              "\t<tr><th scope=row>Ncells</th><td> 657245</td><td>35.2</td><td>1454474</td><td>77.7</td><td>1326115</td><td>70.9</td></tr>\n",
              "\t<tr><th scope=row>Vcells</th><td>1220272</td><td> 9.4</td><td>8388608</td><td>64.0</td><td>1975127</td><td>15.1</td></tr>\n",
              "</tbody>\n",
              "</table>\n"
            ],
            "text/markdown": "\nA matrix: 2 × 6 of type dbl\n\n| <!--/--> | used | (Mb) | gc trigger | (Mb) | max used | (Mb) |\n|---|---|---|---|---|---|---|\n| Ncells |  657245 | 35.2 | 1454474 | 77.7 | 1326115 | 70.9 |\n| Vcells | 1220272 |  9.4 | 8388608 | 64.0 | 1975127 | 15.1 |\n\n",
            "text/latex": "A matrix: 2 × 6 of type dbl\n\\begin{tabular}{r|llllll}\n  & used & (Mb) & gc trigger & (Mb) & max used & (Mb)\\\\\n\\hline\n\tNcells &  657245 & 35.2 & 1454474 & 77.7 & 1326115 & 70.9\\\\\n\tVcells & 1220272 &  9.4 & 8388608 & 64.0 & 1975127 & 15.1\\\\\n\\end{tabular}\n",
            "text/plain": [
              "       used    (Mb) gc trigger (Mb) max used (Mb)\n",
              "Ncells  657245 35.2 1454474    77.7 1326115  70.9\n",
              "Vcells 1220272  9.4 8388608    64.0 1975127  15.1"
            ]
          },
          "metadata": {}
        }
      ]
    },
    {
      "cell_type": "code",
      "source": [
        "# cargo las librerias que necesito\n",
        "require(\"data.table\")\n",
        "require(\"rpart\")\n",
        "require(\"parallel\")\n",
        "if (!require(\"primes\")) install.packages(\"primes\")\n",
        "require(\"primes\")"
      ],
      "metadata": {
        "id": "JO-12d7YHkWy",
        "outputId": "03bd8733-5346-4016-c148-4c8d0e083e0c",
        "colab": {
          "base_uri": "https://localhost:8080/"
        }
      },
      "execution_count": 2,
      "outputs": [
        {
          "output_type": "stream",
          "name": "stderr",
          "text": [
            "Loading required package: data.table\n",
            "\n",
            "Loading required package: rpart\n",
            "\n",
            "Loading required package: parallel\n",
            "\n",
            "Loading required package: primes\n",
            "\n",
            "Warning message in library(package, lib.loc = lib.loc, character.only = TRUE, logical.return = TRUE, :\n",
            "“there is no package called ‘primes’”\n",
            "Installing package into ‘/usr/local/lib/R/site-library’\n",
            "(as ‘lib’ is unspecified)\n",
            "\n",
            "Loading required package: primes\n",
            "\n"
          ]
        }
      ]
    },
    {
      "cell_type": "markdown",
      "source": [
        "Aqui debe poner SU semiila primigenia"
      ],
      "metadata": {
        "id": "0MclPEJ6Q8Bp"
      }
    },
    {
      "cell_type": "code",
      "source": [
        "PARAM <- list()\n",
        "# reemplazar por su primer semilla\n",
        "PARAM$semilla_primigenia <- 200003\n",
        "PARAM$qsemillas <- 1\n",
        "\n",
        "PARAM$training_pct <- 70L  # entre  1L y 99L\n",
        "\n",
        "# elegir SU dataset comentando/ descomentando\n",
        "PARAM$dataset_nom <- \"~/datasets/dataset_pequeno.csv\""
      ],
      "metadata": {
        "id": "Vt5fC6bWHu5r"
      },
      "execution_count": 3,
      "outputs": []
    },
    {
      "cell_type": "code",
      "source": [
        "# particionar agrega una columna llamada fold a un dataset\n",
        "#  que consiste en una particion estratificada segun agrupa\n",
        "# particionar( data=dataset, division=c(70,30), agrupa=clase_ternaria, seed=semilla)\n",
        "#   crea una particion 70, 30\n",
        "\n",
        "particionar <- function(data, division, agrupa = \"\", campo = \"fold\", start = 1, seed = NA) {\n",
        "  if (!is.na(seed)) set.seed(seed)\n",
        "\n",
        "  bloque <- unlist(mapply(function(x, y) {\n",
        "    rep(y, x)\n",
        "  }, division, seq(from = start, length.out = length(division))))\n",
        "\n",
        "  data[, (campo) := sample(rep(bloque, ceiling(.N / length(bloque))))[1:.N],\n",
        "    by = agrupa\n",
        "  ]\n",
        "}\n"
      ],
      "metadata": {
        "id": "Z1dchsrWH4MD"
      },
      "execution_count": 4,
      "outputs": []
    },
    {
      "cell_type": "code",
      "source": [
        "ArbolEstimarGanancia <- function(semilla, training_pct, param_basicos) {\n",
        "  # particiono estratificadamente el dataset\n",
        "  particionar(dataset,\n",
        "    division = c(training_pct, 100L -training_pct),\n",
        "    agrupa = \"clase_ternaria\",\n",
        "    seed = semilla # aqui se usa SU semilla\n",
        "  )\n",
        "\n",
        "  # genero el modelo\n",
        "  # predecir clase_ternaria a partir del resto\n",
        "  modelo <- rpart(\"clase_ternaria ~ .\",\n",
        "    data = dataset[fold == 1], # fold==1  es training,  el 70% de los datos\n",
        "    xval = 0,\n",
        "    control = param_basicos\n",
        "  ) # aqui van los parametros del arbol\n",
        "\n",
        "  # aplico el modelo a los datos de testing\n",
        "  prediccion <- predict(modelo, # el modelo que genere recien\n",
        "    dataset[fold == 2], # fold==2  es testing, el 30% de los datos\n",
        "    type = \"prob\"\n",
        "  ) # type= \"prob\"  es que devuelva la probabilidad\n",
        "\n",
        "  # prediccion es una matriz con TRES columnas,\n",
        "  #  llamadas \"BAJA+1\", \"BAJA+2\"  y \"CONTINUA\"\n",
        "  # cada columna es el vector de probabilidades\n",
        "\n",
        "\n",
        "  # calculo la ganancia en testing  qu es fold==2\n",
        "  ganancia_test <- dataset[\n",
        "    fold == 2,\n",
        "    sum(ifelse(prediccion[, \"BAJA+2\"] > 0.025,\n",
        "      ifelse(clase_ternaria == \"BAJA+2\", 117000, -3000),\n",
        "      0\n",
        "    ))\n",
        "  ]\n",
        "\n",
        "  # escalo la ganancia como si fuera todo el dataset\n",
        "  ganancia_test_normalizada <- ganancia_test / (( 100 - PARAM$training_pct ) / 100 )\n",
        "\n",
        "  return(\n",
        "    c( list(\"semilla\" = semilla),\n",
        "      param_basicos,\n",
        "      list( \"ganancia_test\" = ganancia_test_normalizada )\n",
        "     )\n",
        "  )\n",
        "}\n"
      ],
      "metadata": {
        "id": "xsHwS1CzIA70"
      },
      "execution_count": 5,
      "outputs": []
    },
    {
      "cell_type": "code",
      "source": [
        "ArbolesMontecarlo <- function(semillas, param_basicos) {\n",
        "\n",
        "  # la funcion mcmapply  llama a la funcion ArbolEstimarGanancia\n",
        "  #  tantas veces como valores tenga el vector  PARAM$semillas\n",
        "  salida <- mcmapply(ArbolEstimarGanancia,\n",
        "    semillas, # paso el vector de semillas\n",
        "    MoreArgs = list(PARAM$training_pct, param_basicos), # aqui paso el segundo parametro\n",
        "    SIMPLIFY = FALSE,\n",
        "    mc.cores = detectCores()\n",
        "  )\n",
        "\n",
        "  return(salida)\n",
        "}\n"
      ],
      "metadata": {
        "id": "BvBVOuhqIEjD"
      },
      "execution_count": 6,
      "outputs": []
    },
    {
      "cell_type": "code",
      "source": [
        "# carpeta de trabajo\n",
        "# por fabor cambiar numero de experimento si se cambia el loop principal\n",
        "setwd(\"/content/buckets/b1/exp\")\n",
        "experimento <- \"HT2903\"\n",
        "dir.create(experimento, showWarnings=FALSE)\n",
        "setwd( paste0(\"/content/buckets/b1/exp/\", experimento ))"
      ],
      "metadata": {
        "id": "L-DOGHOjIG7G"
      },
      "execution_count": 7,
      "outputs": []
    },
    {
      "cell_type": "code",
      "source": [
        "# lectura del dataset\n",
        "dataset <- fread(\"/content/datasets/dataset_pequeno.csv\")\n",
        "\n",
        "# trabajo solo con los datos con clase, es decir 202107\n",
        "dataset <- dataset[clase_ternaria != \"\"]"
      ],
      "metadata": {
        "id": "NM-mrLWcIPo6"
      },
      "execution_count": 8,
      "outputs": []
    },
    {
      "cell_type": "code",
      "source": [
        "\n",
        "# genero numeros primos\n",
        "primos <- generate_primes(min = 100000, max = 1000000)\n",
        "set.seed(PARAM$semilla_primigenia) # inicializo\n",
        "# me quedo con PARAM$qsemillas   semillas\n",
        "PARAM$semillas <- sample(primos, PARAM$qsemillas )\n"
      ],
      "metadata": {
        "id": "tSlY0EcgIWdi"
      },
      "execution_count": 9,
      "outputs": []
    },
    {
      "cell_type": "code",
      "source": [
        "# genero la data.table donde van los resultados detallados del Grid Search\n",
        "# un registro para cada combinacion de < semilla, parametros >\n",
        "\n",
        "if(file.exists(\"gridsearch_detalle.txt\")){\n",
        "  tb_grid_search_detalle <- fread(\"gridsearch_detalle.txt\")\n",
        "}else{\n",
        "  tb_grid_search_detalle <- data.table(\n",
        "    semilla = integer(),\n",
        "    cp = numeric(),\n",
        "    maxdepth = integer(),\n",
        "   minsplit = integer(),\n",
        "    minbucket = integer(),\n",
        "    ganancia_test = numeric()\n",
        "  )\n",
        "}\n",
        "\n",
        "nrow( tb_grid_search_detalle )"
      ],
      "metadata": {
        "id": "xxCAwIKyIaTl",
        "outputId": "ba6bcf86-f461-4b21-d78f-2ee81c7f1e62",
        "colab": {
          "base_uri": "https://localhost:8080/",
          "height": 34
        }
      },
      "execution_count": 10,
      "outputs": [
        {
          "output_type": "display_data",
          "data": {
            "text/html": [
              "972"
            ],
            "text/markdown": "972",
            "text/latex": "972",
            "text/plain": [
              "[1] 972"
            ]
          },
          "metadata": {}
        }
      ]
    },
    {
      "cell_type": "markdown",
      "source": [
        "Esta es la parte del código que usted debe expandir a TODOS los hiperparámetros de rpart,\n",
        "<br>ya que actualmente apenas recorre  maxdepth y  minsplit  dejando fijos  cp=-0.5  y minbucket=5"
      ],
      "metadata": {
        "id": "eAuGBNL8IkOD"
      }
    },
    {
      "cell_type": "code",
      "source": [
        "\n",
        "# itero por los loops anidados para cada hiperparametro\n",
        "iter <- 0\n",
        "\n",
        "for (vmax_depth in c(4, 6, 8, 10, 12, 14)) {\n",
        "  for (vmin_split in c(1000, 800, 600, 400, 200, 100, 50, 20, 10)) {\n",
        "    for (vcp in c(0.5, 0.1, 0)) {\n",
        "      for (vmin_bucket in c(133, 66, 33, 16, 6, 3)) {\n",
        "        # notar como se agrega\n",
        "\n",
        "        iter <- iter + 1\n",
        "        cat( iter, \" \" )\n",
        "        flush.console()\n",
        "        if( iter*PARAM$qsemillas < nrow(tb_grid_search_detalle)+1 ) next\n",
        "\n",
        "        # vminsplit  minima cantidad de registros en un nodo para hacer el split\n",
        "        param_basicos <- list(\n",
        "          \"cp\" = vcp, # complejidad minima\n",
        "          \"maxdepth\" = vmax_depth, # profundidad máxima del arbol\n",
        "          \"minsplit\" = vmin_split, # tamaño minimo de nodo para hacer split\n",
        "          \"minbucket\" = vmin_bucket # minima cantidad de registros en una hoja\n",
        "        )\n",
        "\n",
        "        # Un solo llamado, con la semilla 17\n",
        "        ganancias <- ArbolesMontecarlo(PARAM$semillas, param_basicos)\n",
        "\n",
        "        # agrego a la tabla\n",
        "        tb_grid_search_detalle <- rbindlist(\n",
        "          list( tb_grid_search_detalle,\n",
        "                rbindlist(ganancias) )\n",
        "        )\n",
        "      }\n",
        "    }\n",
        "  }\n",
        "\n",
        "  # grabo cada vez TODA la tabla en el loop mas externo\n",
        "  fwrite( tb_grid_search_detalle,\n",
        "          file = \"gridsearch_detalle.txt\",\n",
        "          sep = \"\\t\" )\n",
        "}\n"
      ],
      "metadata": {
        "id": "ipLHm3STIfmb",
        "outputId": "3ed55dbc-cb6c-4ed6-dd32-e74e5d275dbd",
        "colab": {
          "base_uri": "https://localhost:8080/"
        }
      },
      "execution_count": 11,
      "outputs": [
        {
          "output_type": "stream",
          "name": "stdout",
          "text": [
            "1  2  3  4  5  6  7  8  9  10  11  12  13  14  15  16  17  18  19  20  21  22  23  24  25  26  27  28  29  30  31  32  33  34  35  36  37  38  39  40  41  42  43  44  45  46  47  48  49  50  51  52  53  54  55  56  57  58  59  60  61  62  63  64  65  66  67  68  69  70  71  72  73  74  75  76  77  78  79  80  81  82  83  84  85  86  87  88  89  90  91  92  93  94  95  96  97  98  99  100  101  102  103  104  105  106  107  108  109  110  111  112  113  114  115  116  117  118  119  120  121  122  123  124  125  126  127  128  129  130  131  132  133  134  135  136  137  138  139  140  141  142  143  144  145  146  147  148  149  150  151  152  153  154  155  156  157  158  159  160  161  162  163  164  165  166  167  168  169  170  171  172  173  174  175  176  177  178  179  180  181  182  183  184  185  186  187  188  189  190  191  192  193  194  195  196  197  198  199  200  201  202  203  204  205  206  207  208  209  210  211  212  213  214  215  216  217  218  219  220  221  222  223  224  225  226  227  228  229  230  231  232  233  234  235  236  237  238  239  240  241  242  243  244  245  246  247  248  249  250  251  252  253  254  255  256  257  258  259  260  261  262  263  264  265  266  267  268  269  270  271  272  273  274  275  276  277  278  279  280  281  282  283  284  285  286  287  288  289  290  291  292  293  294  295  296  297  298  299  300  301  302  303  304  305  306  307  308  309  310  311  312  313  314  315  316  317  318  319  320  321  322  323  324  325  326  327  328  329  330  331  332  333  334  335  336  337  338  339  340  341  342  343  344  345  346  347  348  349  350  351  352  353  354  355  356  357  358  359  360  361  362  363  364  365  366  367  368  369  370  371  372  373  374  375  376  377  378  379  380  381  382  383  384  385  386  387  388  389  390  391  392  393  394  395  396  397  398  399  400  401  402  403  404  405  406  407  408  409  410  411  412  413  414  415  416  417  418  419  420  421  422  423  424  425  426  427  428  429  430  431  432  433  434  435  436  437  438  439  440  441  442  443  444  445  446  447  448  449  450  451  452  453  454  455  456  457  458  459  460  461  462  463  464  465  466  467  468  469  470  471  472  473  474  475  476  477  478  479  480  481  482  483  484  485  486  487  488  489  490  491  492  493  494  495  496  497  498  499  500  501  502  503  504  505  506  507  508  509  510  511  512  513  514  515  516  517  518  519  520  521  522  523  524  525  526  527  528  529  530  531  532  533  534  535  536  537  538  539  540  541  542  543  544  545  546  547  548  549  550  551  552  553  554  555  556  557  558  559  560  561  562  563  564  565  566  567  568  569  570  571  572  573  574  575  576  577  578  579  580  581  582  583  584  585  586  587  588  589  590  591  592  593  594  595  596  597  598  599  600  601  602  603  604  605  606  607  608  609  610  611  612  613  614  615  616  617  618  619  620  621  622  623  624  625  626  627  628  629  630  631  632  633  634  635  636  637  638  639  640  641  642  643  644  645  646  647  648  649  650  651  652  653  654  655  656  657  658  659  660  661  662  663  664  665  666  667  668  669  670  671  672  673  674  675  676  677  678  679  680  681  682  683  684  685  686  687  688  689  690  691  692  693  694  695  696  697  698  699  700  701  702  703  704  705  706  707  708  709  710  711  712  713  714  715  716  717  718  719  720  721  722  723  724  725  726  727  728  729  730  731  732  733  734  735  736  737  738  739  740  741  742  743  744  745  746  747  748  749  750  751  752  753  754  755  756  757  758  759  760  761  762  763  764  765  766  767  768  769  770  771  772  773  774  775  776  777  778  779  780  781  782  783  784  785  786  787  788  789  790  791  792  793  794  795  796  797  798  799  800  801  802  803  804  805  806  807  808  809  810  811  812  813  814  815  816  817  818  819  820  821  822  823  824  825  826  827  828  829  830  831  832  833  834  835  836  837  838  839  840  841  842  843  844  845  846  847  848  849  850  851  852  853  854  855  856  857  858  859  860  861  862  863  864  865  866  867  868  869  870  871  872  873  874  875  876  877  878  879  880  881  882  883  884  885  886  887  888  889  890  891  892  893  894  895  896  897  898  899  900  901  902  903  904  905  906  907  908  909  910  911  912  913  914  915  916  917  918  919  920  921  922  923  924  925  926  927  928  929  930  931  932  933  934  935  936  937  938  939  940  941  942  943  944  945  946  947  948  949  950  951  952  953  954  955  956  957  958  959  960  961  962  963  964  965  966  967  968  969  970  971  972  "
          ]
        }
      ]
    },
    {
      "cell_type": "code",
      "source": [
        "fwrite( tb_grid_search_detalle,\n",
        "   file = \"gridsearch_detalle.txt\",\n",
        "   sep = \"\\t\"\n",
        ")"
      ],
      "metadata": {
        "id": "WZaSqYBxiDFu"
      },
      "execution_count": 12,
      "outputs": []
    },
    {
      "cell_type": "code",
      "source": [
        "# cantidad de registros de la tabla\n",
        "nrow(tb_grid_search_detalle)"
      ],
      "metadata": {
        "id": "STp0duM-RYVJ",
        "outputId": "bd56a930-4388-46c1-e81d-1ace5e2df256",
        "colab": {
          "base_uri": "https://localhost:8080/",
          "height": 34
        }
      },
      "execution_count": 13,
      "outputs": [
        {
          "output_type": "display_data",
          "data": {
            "text/html": [
              "972"
            ],
            "text/markdown": "972",
            "text/latex": "972",
            "text/plain": [
              "[1] 972"
            ]
          },
          "metadata": {}
        }
      ]
    },
    {
      "cell_type": "code",
      "source": [
        "# muestro la tabla\n",
        "tb_grid_search_detalle"
      ],
      "metadata": {
        "id": "k7fhk_H0iNez",
        "outputId": "48da14c8-8688-47df-bd41-c3efebbf3b9c",
        "colab": {
          "base_uri": "https://localhost:8080/",
          "height": 1000
        }
      },
      "execution_count": 14,
      "outputs": [
        {
          "output_type": "display_data",
          "data": {
            "text/html": [
              "<table class=\"dataframe\">\n",
              "<caption>A data.table: 972 × 6</caption>\n",
              "<thead>\n",
              "\t<tr><th scope=col>semilla</th><th scope=col>cp</th><th scope=col>maxdepth</th><th scope=col>minsplit</th><th scope=col>minbucket</th><th scope=col>ganancia_test</th></tr>\n",
              "\t<tr><th scope=col>&lt;int&gt;</th><th scope=col>&lt;dbl&gt;</th><th scope=col>&lt;int&gt;</th><th scope=col>&lt;int&gt;</th><th scope=col>&lt;int&gt;</th><th scope=col>&lt;int&gt;</th></tr>\n",
              "</thead>\n",
              "<tbody>\n",
              "\t<tr><td>590819</td><td>0.5</td><td>4</td><td>1000</td><td>133</td><td>0</td></tr>\n",
              "\t<tr><td>590819</td><td>0.5</td><td>4</td><td>1000</td><td> 66</td><td>0</td></tr>\n",
              "\t<tr><td>590819</td><td>0.5</td><td>4</td><td>1000</td><td> 33</td><td>0</td></tr>\n",
              "\t<tr><td>590819</td><td>0.5</td><td>4</td><td>1000</td><td> 16</td><td>0</td></tr>\n",
              "\t<tr><td>590819</td><td>0.5</td><td>4</td><td>1000</td><td>  6</td><td>0</td></tr>\n",
              "\t<tr><td>590819</td><td>0.5</td><td>4</td><td>1000</td><td>  3</td><td>0</td></tr>\n",
              "\t<tr><td>590819</td><td>0.1</td><td>4</td><td>1000</td><td>133</td><td>0</td></tr>\n",
              "\t<tr><td>590819</td><td>0.1</td><td>4</td><td>1000</td><td> 66</td><td>0</td></tr>\n",
              "\t<tr><td>590819</td><td>0.1</td><td>4</td><td>1000</td><td> 33</td><td>0</td></tr>\n",
              "\t<tr><td>590819</td><td>0.1</td><td>4</td><td>1000</td><td> 16</td><td>0</td></tr>\n",
              "\t<tr><td>590819</td><td>0.1</td><td>4</td><td>1000</td><td>  6</td><td>0</td></tr>\n",
              "\t<tr><td>590819</td><td>0.1</td><td>4</td><td>1000</td><td>  3</td><td>0</td></tr>\n",
              "\t<tr><td>590819</td><td>0.0</td><td>4</td><td>1000</td><td>133</td><td>0</td></tr>\n",
              "\t<tr><td>590819</td><td>0.0</td><td>4</td><td>1000</td><td> 66</td><td>0</td></tr>\n",
              "\t<tr><td>590819</td><td>0.0</td><td>4</td><td>1000</td><td> 33</td><td>0</td></tr>\n",
              "\t<tr><td>590819</td><td>0.0</td><td>4</td><td>1000</td><td> 16</td><td>0</td></tr>\n",
              "\t<tr><td>590819</td><td>0.0</td><td>4</td><td>1000</td><td>  6</td><td>0</td></tr>\n",
              "\t<tr><td>590819</td><td>0.0</td><td>4</td><td>1000</td><td>  3</td><td>0</td></tr>\n",
              "\t<tr><td>590819</td><td>0.5</td><td>4</td><td> 800</td><td>133</td><td>0</td></tr>\n",
              "\t<tr><td>590819</td><td>0.5</td><td>4</td><td> 800</td><td> 66</td><td>0</td></tr>\n",
              "\t<tr><td>590819</td><td>0.5</td><td>4</td><td> 800</td><td> 33</td><td>0</td></tr>\n",
              "\t<tr><td>590819</td><td>0.5</td><td>4</td><td> 800</td><td> 16</td><td>0</td></tr>\n",
              "\t<tr><td>590819</td><td>0.5</td><td>4</td><td> 800</td><td>  6</td><td>0</td></tr>\n",
              "\t<tr><td>590819</td><td>0.5</td><td>4</td><td> 800</td><td>  3</td><td>0</td></tr>\n",
              "\t<tr><td>590819</td><td>0.1</td><td>4</td><td> 800</td><td>133</td><td>0</td></tr>\n",
              "\t<tr><td>590819</td><td>0.1</td><td>4</td><td> 800</td><td> 66</td><td>0</td></tr>\n",
              "\t<tr><td>590819</td><td>0.1</td><td>4</td><td> 800</td><td> 33</td><td>0</td></tr>\n",
              "\t<tr><td>590819</td><td>0.1</td><td>4</td><td> 800</td><td> 16</td><td>0</td></tr>\n",
              "\t<tr><td>590819</td><td>0.1</td><td>4</td><td> 800</td><td>  6</td><td>0</td></tr>\n",
              "\t<tr><td>590819</td><td>0.1</td><td>4</td><td> 800</td><td>  3</td><td>0</td></tr>\n",
              "\t<tr><td>⋮</td><td>⋮</td><td>⋮</td><td>⋮</td><td>⋮</td><td>⋮</td></tr>\n",
              "\t<tr><td>590819</td><td>0.1</td><td>14</td><td>20</td><td>133</td><td>       0</td></tr>\n",
              "\t<tr><td>590819</td><td>0.1</td><td>14</td><td>20</td><td> 66</td><td>       0</td></tr>\n",
              "\t<tr><td>590819</td><td>0.1</td><td>14</td><td>20</td><td> 33</td><td>       0</td></tr>\n",
              "\t<tr><td>590819</td><td>0.1</td><td>14</td><td>20</td><td> 16</td><td>       0</td></tr>\n",
              "\t<tr><td>590819</td><td>0.1</td><td>14</td><td>20</td><td>  6</td><td>       0</td></tr>\n",
              "\t<tr><td>590819</td><td>0.1</td><td>14</td><td>20</td><td>  3</td><td>       0</td></tr>\n",
              "\t<tr><td>590819</td><td>0.0</td><td>14</td><td>20</td><td>133</td><td>       0</td></tr>\n",
              "\t<tr><td>590819</td><td>0.0</td><td>14</td><td>20</td><td> 66</td><td>       0</td></tr>\n",
              "\t<tr><td>590819</td><td>0.0</td><td>14</td><td>20</td><td> 33</td><td>38600000</td></tr>\n",
              "\t<tr><td>590819</td><td>0.0</td><td>14</td><td>20</td><td> 16</td><td>44230000</td></tr>\n",
              "\t<tr><td>590819</td><td>0.0</td><td>14</td><td>20</td><td>  6</td><td>44460000</td></tr>\n",
              "\t<tr><td>590819</td><td>0.0</td><td>14</td><td>20</td><td>  3</td><td>45090000</td></tr>\n",
              "\t<tr><td>590819</td><td>0.5</td><td>14</td><td>10</td><td>133</td><td>       0</td></tr>\n",
              "\t<tr><td>590819</td><td>0.5</td><td>14</td><td>10</td><td> 66</td><td>       0</td></tr>\n",
              "\t<tr><td>590819</td><td>0.5</td><td>14</td><td>10</td><td> 33</td><td>       0</td></tr>\n",
              "\t<tr><td>590819</td><td>0.5</td><td>14</td><td>10</td><td> 16</td><td>       0</td></tr>\n",
              "\t<tr><td>590819</td><td>0.5</td><td>14</td><td>10</td><td>  6</td><td>       0</td></tr>\n",
              "\t<tr><td>590819</td><td>0.5</td><td>14</td><td>10</td><td>  3</td><td>       0</td></tr>\n",
              "\t<tr><td>590819</td><td>0.1</td><td>14</td><td>10</td><td>133</td><td>       0</td></tr>\n",
              "\t<tr><td>590819</td><td>0.1</td><td>14</td><td>10</td><td> 66</td><td>       0</td></tr>\n",
              "\t<tr><td>590819</td><td>0.1</td><td>14</td><td>10</td><td> 33</td><td>       0</td></tr>\n",
              "\t<tr><td>590819</td><td>0.1</td><td>14</td><td>10</td><td> 16</td><td>       0</td></tr>\n",
              "\t<tr><td>590819</td><td>0.1</td><td>14</td><td>10</td><td>  6</td><td>       0</td></tr>\n",
              "\t<tr><td>590819</td><td>0.1</td><td>14</td><td>10</td><td>  3</td><td>       0</td></tr>\n",
              "\t<tr><td>590819</td><td>0.0</td><td>14</td><td>10</td><td>133</td><td>       0</td></tr>\n",
              "\t<tr><td>590819</td><td>0.0</td><td>14</td><td>10</td><td> 66</td><td>       0</td></tr>\n",
              "\t<tr><td>590819</td><td>0.0</td><td>14</td><td>10</td><td> 33</td><td>38600000</td></tr>\n",
              "\t<tr><td>590819</td><td>0.0</td><td>14</td><td>10</td><td> 16</td><td>44230000</td></tr>\n",
              "\t<tr><td>590819</td><td>0.0</td><td>14</td><td>10</td><td>  6</td><td>43910000</td></tr>\n",
              "\t<tr><td>590819</td><td>0.0</td><td>14</td><td>10</td><td>  3</td><td>40070000</td></tr>\n",
              "</tbody>\n",
              "</table>\n"
            ],
            "text/markdown": "\nA data.table: 972 × 6\n\n| semilla &lt;int&gt; | cp &lt;dbl&gt; | maxdepth &lt;int&gt; | minsplit &lt;int&gt; | minbucket &lt;int&gt; | ganancia_test &lt;int&gt; |\n|---|---|---|---|---|---|\n| 590819 | 0.5 | 4 | 1000 | 133 | 0 |\n| 590819 | 0.5 | 4 | 1000 |  66 | 0 |\n| 590819 | 0.5 | 4 | 1000 |  33 | 0 |\n| 590819 | 0.5 | 4 | 1000 |  16 | 0 |\n| 590819 | 0.5 | 4 | 1000 |   6 | 0 |\n| 590819 | 0.5 | 4 | 1000 |   3 | 0 |\n| 590819 | 0.1 | 4 | 1000 | 133 | 0 |\n| 590819 | 0.1 | 4 | 1000 |  66 | 0 |\n| 590819 | 0.1 | 4 | 1000 |  33 | 0 |\n| 590819 | 0.1 | 4 | 1000 |  16 | 0 |\n| 590819 | 0.1 | 4 | 1000 |   6 | 0 |\n| 590819 | 0.1 | 4 | 1000 |   3 | 0 |\n| 590819 | 0.0 | 4 | 1000 | 133 | 0 |\n| 590819 | 0.0 | 4 | 1000 |  66 | 0 |\n| 590819 | 0.0 | 4 | 1000 |  33 | 0 |\n| 590819 | 0.0 | 4 | 1000 |  16 | 0 |\n| 590819 | 0.0 | 4 | 1000 |   6 | 0 |\n| 590819 | 0.0 | 4 | 1000 |   3 | 0 |\n| 590819 | 0.5 | 4 |  800 | 133 | 0 |\n| 590819 | 0.5 | 4 |  800 |  66 | 0 |\n| 590819 | 0.5 | 4 |  800 |  33 | 0 |\n| 590819 | 0.5 | 4 |  800 |  16 | 0 |\n| 590819 | 0.5 | 4 |  800 |   6 | 0 |\n| 590819 | 0.5 | 4 |  800 |   3 | 0 |\n| 590819 | 0.1 | 4 |  800 | 133 | 0 |\n| 590819 | 0.1 | 4 |  800 |  66 | 0 |\n| 590819 | 0.1 | 4 |  800 |  33 | 0 |\n| 590819 | 0.1 | 4 |  800 |  16 | 0 |\n| 590819 | 0.1 | 4 |  800 |   6 | 0 |\n| 590819 | 0.1 | 4 |  800 |   3 | 0 |\n| ⋮ | ⋮ | ⋮ | ⋮ | ⋮ | ⋮ |\n| 590819 | 0.1 | 14 | 20 | 133 |        0 |\n| 590819 | 0.1 | 14 | 20 |  66 |        0 |\n| 590819 | 0.1 | 14 | 20 |  33 |        0 |\n| 590819 | 0.1 | 14 | 20 |  16 |        0 |\n| 590819 | 0.1 | 14 | 20 |   6 |        0 |\n| 590819 | 0.1 | 14 | 20 |   3 |        0 |\n| 590819 | 0.0 | 14 | 20 | 133 |        0 |\n| 590819 | 0.0 | 14 | 20 |  66 |        0 |\n| 590819 | 0.0 | 14 | 20 |  33 | 38600000 |\n| 590819 | 0.0 | 14 | 20 |  16 | 44230000 |\n| 590819 | 0.0 | 14 | 20 |   6 | 44460000 |\n| 590819 | 0.0 | 14 | 20 |   3 | 45090000 |\n| 590819 | 0.5 | 14 | 10 | 133 |        0 |\n| 590819 | 0.5 | 14 | 10 |  66 |        0 |\n| 590819 | 0.5 | 14 | 10 |  33 |        0 |\n| 590819 | 0.5 | 14 | 10 |  16 |        0 |\n| 590819 | 0.5 | 14 | 10 |   6 |        0 |\n| 590819 | 0.5 | 14 | 10 |   3 |        0 |\n| 590819 | 0.1 | 14 | 10 | 133 |        0 |\n| 590819 | 0.1 | 14 | 10 |  66 |        0 |\n| 590819 | 0.1 | 14 | 10 |  33 |        0 |\n| 590819 | 0.1 | 14 | 10 |  16 |        0 |\n| 590819 | 0.1 | 14 | 10 |   6 |        0 |\n| 590819 | 0.1 | 14 | 10 |   3 |        0 |\n| 590819 | 0.0 | 14 | 10 | 133 |        0 |\n| 590819 | 0.0 | 14 | 10 |  66 |        0 |\n| 590819 | 0.0 | 14 | 10 |  33 | 38600000 |\n| 590819 | 0.0 | 14 | 10 |  16 | 44230000 |\n| 590819 | 0.0 | 14 | 10 |   6 | 43910000 |\n| 590819 | 0.0 | 14 | 10 |   3 | 40070000 |\n\n",
            "text/latex": "A data.table: 972 × 6\n\\begin{tabular}{llllll}\n semilla & cp & maxdepth & minsplit & minbucket & ganancia\\_test\\\\\n <int> & <dbl> & <int> & <int> & <int> & <int>\\\\\n\\hline\n\t 590819 & 0.5 & 4 & 1000 & 133 & 0\\\\\n\t 590819 & 0.5 & 4 & 1000 &  66 & 0\\\\\n\t 590819 & 0.5 & 4 & 1000 &  33 & 0\\\\\n\t 590819 & 0.5 & 4 & 1000 &  16 & 0\\\\\n\t 590819 & 0.5 & 4 & 1000 &   6 & 0\\\\\n\t 590819 & 0.5 & 4 & 1000 &   3 & 0\\\\\n\t 590819 & 0.1 & 4 & 1000 & 133 & 0\\\\\n\t 590819 & 0.1 & 4 & 1000 &  66 & 0\\\\\n\t 590819 & 0.1 & 4 & 1000 &  33 & 0\\\\\n\t 590819 & 0.1 & 4 & 1000 &  16 & 0\\\\\n\t 590819 & 0.1 & 4 & 1000 &   6 & 0\\\\\n\t 590819 & 0.1 & 4 & 1000 &   3 & 0\\\\\n\t 590819 & 0.0 & 4 & 1000 & 133 & 0\\\\\n\t 590819 & 0.0 & 4 & 1000 &  66 & 0\\\\\n\t 590819 & 0.0 & 4 & 1000 &  33 & 0\\\\\n\t 590819 & 0.0 & 4 & 1000 &  16 & 0\\\\\n\t 590819 & 0.0 & 4 & 1000 &   6 & 0\\\\\n\t 590819 & 0.0 & 4 & 1000 &   3 & 0\\\\\n\t 590819 & 0.5 & 4 &  800 & 133 & 0\\\\\n\t 590819 & 0.5 & 4 &  800 &  66 & 0\\\\\n\t 590819 & 0.5 & 4 &  800 &  33 & 0\\\\\n\t 590819 & 0.5 & 4 &  800 &  16 & 0\\\\\n\t 590819 & 0.5 & 4 &  800 &   6 & 0\\\\\n\t 590819 & 0.5 & 4 &  800 &   3 & 0\\\\\n\t 590819 & 0.1 & 4 &  800 & 133 & 0\\\\\n\t 590819 & 0.1 & 4 &  800 &  66 & 0\\\\\n\t 590819 & 0.1 & 4 &  800 &  33 & 0\\\\\n\t 590819 & 0.1 & 4 &  800 &  16 & 0\\\\\n\t 590819 & 0.1 & 4 &  800 &   6 & 0\\\\\n\t 590819 & 0.1 & 4 &  800 &   3 & 0\\\\\n\t ⋮ & ⋮ & ⋮ & ⋮ & ⋮ & ⋮\\\\\n\t 590819 & 0.1 & 14 & 20 & 133 &        0\\\\\n\t 590819 & 0.1 & 14 & 20 &  66 &        0\\\\\n\t 590819 & 0.1 & 14 & 20 &  33 &        0\\\\\n\t 590819 & 0.1 & 14 & 20 &  16 &        0\\\\\n\t 590819 & 0.1 & 14 & 20 &   6 &        0\\\\\n\t 590819 & 0.1 & 14 & 20 &   3 &        0\\\\\n\t 590819 & 0.0 & 14 & 20 & 133 &        0\\\\\n\t 590819 & 0.0 & 14 & 20 &  66 &        0\\\\\n\t 590819 & 0.0 & 14 & 20 &  33 & 38600000\\\\\n\t 590819 & 0.0 & 14 & 20 &  16 & 44230000\\\\\n\t 590819 & 0.0 & 14 & 20 &   6 & 44460000\\\\\n\t 590819 & 0.0 & 14 & 20 &   3 & 45090000\\\\\n\t 590819 & 0.5 & 14 & 10 & 133 &        0\\\\\n\t 590819 & 0.5 & 14 & 10 &  66 &        0\\\\\n\t 590819 & 0.5 & 14 & 10 &  33 &        0\\\\\n\t 590819 & 0.5 & 14 & 10 &  16 &        0\\\\\n\t 590819 & 0.5 & 14 & 10 &   6 &        0\\\\\n\t 590819 & 0.5 & 14 & 10 &   3 &        0\\\\\n\t 590819 & 0.1 & 14 & 10 & 133 &        0\\\\\n\t 590819 & 0.1 & 14 & 10 &  66 &        0\\\\\n\t 590819 & 0.1 & 14 & 10 &  33 &        0\\\\\n\t 590819 & 0.1 & 14 & 10 &  16 &        0\\\\\n\t 590819 & 0.1 & 14 & 10 &   6 &        0\\\\\n\t 590819 & 0.1 & 14 & 10 &   3 &        0\\\\\n\t 590819 & 0.0 & 14 & 10 & 133 &        0\\\\\n\t 590819 & 0.0 & 14 & 10 &  66 &        0\\\\\n\t 590819 & 0.0 & 14 & 10 &  33 & 38600000\\\\\n\t 590819 & 0.0 & 14 & 10 &  16 & 44230000\\\\\n\t 590819 & 0.0 & 14 & 10 &   6 & 43910000\\\\\n\t 590819 & 0.0 & 14 & 10 &   3 & 40070000\\\\\n\\end{tabular}\n",
            "text/plain": [
              "    semilla cp  maxdepth minsplit minbucket ganancia_test\n",
              "1   590819  0.5 4        1000     133       0            \n",
              "2   590819  0.5 4        1000      66       0            \n",
              "3   590819  0.5 4        1000      33       0            \n",
              "4   590819  0.5 4        1000      16       0            \n",
              "5   590819  0.5 4        1000       6       0            \n",
              "6   590819  0.5 4        1000       3       0            \n",
              "7   590819  0.1 4        1000     133       0            \n",
              "8   590819  0.1 4        1000      66       0            \n",
              "9   590819  0.1 4        1000      33       0            \n",
              "10  590819  0.1 4        1000      16       0            \n",
              "11  590819  0.1 4        1000       6       0            \n",
              "12  590819  0.1 4        1000       3       0            \n",
              "13  590819  0.0 4        1000     133       0            \n",
              "14  590819  0.0 4        1000      66       0            \n",
              "15  590819  0.0 4        1000      33       0            \n",
              "16  590819  0.0 4        1000      16       0            \n",
              "17  590819  0.0 4        1000       6       0            \n",
              "18  590819  0.0 4        1000       3       0            \n",
              "19  590819  0.5 4         800     133       0            \n",
              "20  590819  0.5 4         800      66       0            \n",
              "21  590819  0.5 4         800      33       0            \n",
              "22  590819  0.5 4         800      16       0            \n",
              "23  590819  0.5 4         800       6       0            \n",
              "24  590819  0.5 4         800       3       0            \n",
              "25  590819  0.1 4         800     133       0            \n",
              "26  590819  0.1 4         800      66       0            \n",
              "27  590819  0.1 4         800      33       0            \n",
              "28  590819  0.1 4         800      16       0            \n",
              "29  590819  0.1 4         800       6       0            \n",
              "30  590819  0.1 4         800       3       0            \n",
              "⋮   ⋮       ⋮   ⋮        ⋮        ⋮         ⋮            \n",
              "943 590819  0.1 14       20       133              0     \n",
              "944 590819  0.1 14       20        66              0     \n",
              "945 590819  0.1 14       20        33              0     \n",
              "946 590819  0.1 14       20        16              0     \n",
              "947 590819  0.1 14       20         6              0     \n",
              "948 590819  0.1 14       20         3              0     \n",
              "949 590819  0.0 14       20       133              0     \n",
              "950 590819  0.0 14       20        66              0     \n",
              "951 590819  0.0 14       20        33       38600000     \n",
              "952 590819  0.0 14       20        16       44230000     \n",
              "953 590819  0.0 14       20         6       44460000     \n",
              "954 590819  0.0 14       20         3       45090000     \n",
              "955 590819  0.5 14       10       133              0     \n",
              "956 590819  0.5 14       10        66              0     \n",
              "957 590819  0.5 14       10        33              0     \n",
              "958 590819  0.5 14       10        16              0     \n",
              "959 590819  0.5 14       10         6              0     \n",
              "960 590819  0.5 14       10         3              0     \n",
              "961 590819  0.1 14       10       133              0     \n",
              "962 590819  0.1 14       10        66              0     \n",
              "963 590819  0.1 14       10        33              0     \n",
              "964 590819  0.1 14       10        16              0     \n",
              "965 590819  0.1 14       10         6              0     \n",
              "966 590819  0.1 14       10         3              0     \n",
              "967 590819  0.0 14       10       133              0     \n",
              "968 590819  0.0 14       10        66              0     \n",
              "969 590819  0.0 14       10        33       38600000     \n",
              "970 590819  0.0 14       10        16       44230000     \n",
              "971 590819  0.0 14       10         6       43910000     \n",
              "972 590819  0.0 14       10         3       40070000     "
            ]
          },
          "metadata": {}
        }
      ]
    },
    {
      "cell_type": "code",
      "source": [
        "# genero y grabo el resumen\n",
        "tb_grid_search <- tb_grid_search_detalle[,\n",
        "  list( \"ganancia_mean\" = mean(ganancia_test),\n",
        "    \"qty\" = .N ),\n",
        "  list( cp, maxdepth, minsplit, minbucket )\n",
        "]\n"
      ],
      "metadata": {
        "id": "DjCxtx8bIsgl"
      },
      "execution_count": 15,
      "outputs": []
    },
    {
      "cell_type": "code",
      "source": [
        "# ordeno descendente por ganancia\n",
        "setorder( tb_grid_search, -ganancia_mean )\n"
      ],
      "metadata": {
        "id": "LU29UhL1Ivg5"
      },
      "execution_count": 16,
      "outputs": []
    },
    {
      "cell_type": "code",
      "source": [
        "# veo los 10 mejores hiperparámetros\n",
        "tb_grid_search[1:10]"
      ],
      "metadata": {
        "id": "g-EjGY7aIyWL",
        "outputId": "595df5ef-c1a1-4ef5-fbef-bdaaafb27c64",
        "colab": {
          "base_uri": "https://localhost:8080/",
          "height": 411
        }
      },
      "execution_count": 17,
      "outputs": [
        {
          "output_type": "display_data",
          "data": {
            "text/html": [
              "<table class=\"dataframe\">\n",
              "<caption>A data.table: 10 × 6</caption>\n",
              "<thead>\n",
              "\t<tr><th scope=col>cp</th><th scope=col>maxdepth</th><th scope=col>minsplit</th><th scope=col>minbucket</th><th scope=col>ganancia_mean</th><th scope=col>qty</th></tr>\n",
              "\t<tr><th scope=col>&lt;dbl&gt;</th><th scope=col>&lt;int&gt;</th><th scope=col>&lt;int&gt;</th><th scope=col>&lt;int&gt;</th><th scope=col>&lt;dbl&gt;</th><th scope=col>&lt;int&gt;</th></tr>\n",
              "</thead>\n",
              "<tbody>\n",
              "\t<tr><td>0</td><td>10</td><td> 10</td><td>6</td><td>47870000</td><td>1</td></tr>\n",
              "\t<tr><td>0</td><td> 6</td><td> 50</td><td>3</td><td>47780000</td><td>1</td></tr>\n",
              "\t<tr><td>0</td><td>10</td><td> 50</td><td>3</td><td>47760000</td><td>1</td></tr>\n",
              "\t<tr><td>0</td><td> 8</td><td> 10</td><td>6</td><td>47720000</td><td>1</td></tr>\n",
              "\t<tr><td>0</td><td> 6</td><td>200</td><td>3</td><td>47560000</td><td>1</td></tr>\n",
              "\t<tr><td>0</td><td> 6</td><td>100</td><td>3</td><td>47560000</td><td>1</td></tr>\n",
              "\t<tr><td>0</td><td> 8</td><td> 50</td><td>3</td><td>47330000</td><td>1</td></tr>\n",
              "\t<tr><td>0</td><td>12</td><td>200</td><td>3</td><td>47170000</td><td>1</td></tr>\n",
              "\t<tr><td>0</td><td> 8</td><td>200</td><td>3</td><td>47140000</td><td>1</td></tr>\n",
              "\t<tr><td>0</td><td>10</td><td>200</td><td>3</td><td>47140000</td><td>1</td></tr>\n",
              "</tbody>\n",
              "</table>\n"
            ],
            "text/markdown": "\nA data.table: 10 × 6\n\n| cp &lt;dbl&gt; | maxdepth &lt;int&gt; | minsplit &lt;int&gt; | minbucket &lt;int&gt; | ganancia_mean &lt;dbl&gt; | qty &lt;int&gt; |\n|---|---|---|---|---|---|\n| 0 | 10 |  10 | 6 | 47870000 | 1 |\n| 0 |  6 |  50 | 3 | 47780000 | 1 |\n| 0 | 10 |  50 | 3 | 47760000 | 1 |\n| 0 |  8 |  10 | 6 | 47720000 | 1 |\n| 0 |  6 | 200 | 3 | 47560000 | 1 |\n| 0 |  6 | 100 | 3 | 47560000 | 1 |\n| 0 |  8 |  50 | 3 | 47330000 | 1 |\n| 0 | 12 | 200 | 3 | 47170000 | 1 |\n| 0 |  8 | 200 | 3 | 47140000 | 1 |\n| 0 | 10 | 200 | 3 | 47140000 | 1 |\n\n",
            "text/latex": "A data.table: 10 × 6\n\\begin{tabular}{llllll}\n cp & maxdepth & minsplit & minbucket & ganancia\\_mean & qty\\\\\n <dbl> & <int> & <int> & <int> & <dbl> & <int>\\\\\n\\hline\n\t 0 & 10 &  10 & 6 & 47870000 & 1\\\\\n\t 0 &  6 &  50 & 3 & 47780000 & 1\\\\\n\t 0 & 10 &  50 & 3 & 47760000 & 1\\\\\n\t 0 &  8 &  10 & 6 & 47720000 & 1\\\\\n\t 0 &  6 & 200 & 3 & 47560000 & 1\\\\\n\t 0 &  6 & 100 & 3 & 47560000 & 1\\\\\n\t 0 &  8 &  50 & 3 & 47330000 & 1\\\\\n\t 0 & 12 & 200 & 3 & 47170000 & 1\\\\\n\t 0 &  8 & 200 & 3 & 47140000 & 1\\\\\n\t 0 & 10 & 200 & 3 & 47140000 & 1\\\\\n\\end{tabular}\n",
            "text/plain": [
              "   cp maxdepth minsplit minbucket ganancia_mean qty\n",
              "1  0  10        10      6         47870000      1  \n",
              "2  0   6        50      3         47780000      1  \n",
              "3  0  10        50      3         47760000      1  \n",
              "4  0   8        10      6         47720000      1  \n",
              "5  0   6       200      3         47560000      1  \n",
              "6  0   6       100      3         47560000      1  \n",
              "7  0   8        50      3         47330000      1  \n",
              "8  0  12       200      3         47170000      1  \n",
              "9  0   8       200      3         47140000      1  \n",
              "10 0  10       200      3         47140000      1  "
            ]
          },
          "metadata": {}
        }
      ]
    },
    {
      "cell_type": "code",
      "source": [
        "# genero un id a la tabla\n",
        "tb_grid_search[, id := .I ]\n",
        "\n",
        "fwrite( tb_grid_search,\n",
        "  file = \"gridsearch.txt\",\n",
        "  sep = \"\\t\"\n",
        ")\n"
      ],
      "metadata": {
        "id": "K3S-I2PTI5ZE"
      },
      "execution_count": 18,
      "outputs": []
    },
    {
      "cell_type": "markdown",
      "source": [
        "# 4.  Análisis de resultados de Grid Search"
      ],
      "metadata": {
        "id": "1rYHk1YkI_9k"
      }
    },
    {
      "cell_type": "markdown",
      "source": [
        "La salida de la corrida anterior queda en ~/buckets/b1/exp/HT2900  que corresponde a su Google Drive\n",
        "<br>HT significa Hyperparameter Tuning\n",
        "<br>El Grid Search es un método de fuerza bruta de un altísimo costo computacional.\n",
        "<br>Queremos ver si es posible crear un algoritmo de optimización de hiperparámetros que se ahorre recorrer ciertas porciones muy malas del espacio de búsqueda. Algo del estilo “cada vez que pruebo una combinación de hiperparámetros donde  cp > 1 , la ganancia es muy mala, con lo cual ni vale la pena perder el tiempo explorando en esa region”\n"
      ],
      "metadata": {
        "id": "ZTJgPhMWJHTk"
      }
    },
    {
      "cell_type": "markdown",
      "source": [
        "<br>Levante el archivo de salida gridsearch.txt  a una planilla tipo Excel y analícelo detenidamente\n",
        "<br>Ordene por ganancia_mean descendente\n",
        "<br>\n",
        "<br>El de mayor ganancia_mean  decimos que es el primero del ranking\n",
        "En Zulip, correspondiente channel  #Tarea Hogar 02 , topic Analisis Grid Search   intente contestar estas preguntas:\n",
        "\n",
        "* ¿Qué combinaciones de hiperparámetros poseen una ganancia muy buena?\n",
        "* ¿Hay algun hiperparámetro que para cierto valor siempre genera una ganancia muy mala, a independientemente de lo que valgan los otros hiperparámetros ?\n",
        "* ¿Que combinaciones de hiperparámetros es pésima y hubiera sido bueno ahorrarse esas corridas ?\n",
        "\n",
        "( tiempo estimado 30 minutos, dificultad media )"
      ],
      "metadata": {
        "id": "IaVgMu4tPwyB"
      }
    }
  ]
}