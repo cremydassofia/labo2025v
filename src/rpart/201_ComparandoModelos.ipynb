{
  "nbformat": 4,
  "nbformat_minor": 0,
  "metadata": {
    "colab": {
      "provenance": [],
      "include_colab_link": true
    },
    "kernelspec": {
      "name": "ir",
      "display_name": "R"
    },
    "language_info": {
      "name": "R"
    }
  },
  "cells": [
    {
      "cell_type": "markdown",
      "metadata": {
        "id": "view-in-github",
        "colab_type": "text"
      },
      "source": [
        "<a href=\"https://colab.research.google.com/github/cremydassofia/labo2025v/blob/main/src/rpart/201_ComparandoModelos.ipynb\" target=\"_parent\"><img src=\"https://colab.research.google.com/assets/colab-badge.svg\" alt=\"Open In Colab\"/></a>"
      ]
    },
    {
      "cell_type": "markdown",
      "source": [
        "# Comparando Modelos"
      ],
      "metadata": {
        "id": "5DrvzQ9BsXmX"
      }
    },
    {
      "cell_type": "markdown",
      "source": [
        "Estamos en la  Clase 02\n",
        "<br> El objetivo de la materia es lograr la mejor predicción para nuestro probleama, para lo que se probarán pipelines con decenas de alternativas, será indispensable comparar varios modelos predictivos entre sí y decidir cual es el mejor\n",
        "<br> La tarea no es tan sencilla"
      ],
      "metadata": {
        "id": "Y2U9lu16sgta"
      }
    },
    {
      "cell_type": "markdown",
      "source": [
        "## Seteo del ambiente en Google Colab"
      ],
      "metadata": {
        "id": "kmLygy1TYPfg"
      }
    },
    {
      "cell_type": "markdown",
      "source": [
        "Esta parte se debe correr con el runtime en Python3\n",
        "<br>Ir al menu, Runtime -> Change Runtime Tipe -> Runtime type ->  **Python 3**"
      ],
      "metadata": {
        "id": "OikOm5K2YU3X"
      }
    },
    {
      "cell_type": "markdown",
      "source": [
        "Conectar la virtual machine donde esta corriendo Google Colab con el  Google Drive, para poder tener persistencia de archivos"
      ],
      "metadata": {
        "id": "4fmV5LyZdFyI"
      }
    },
    {
      "cell_type": "code",
      "source": [
        "# primero establecer el Runtime de Python 3, esto lo que hace es sincronizar el colab con nuestro google drive.\n",
        "from google.colab import drive\n",
        "drive.mount('/content/.drive')"
      ],
      "metadata": {
        "id": "ilEZ-bE2VybW",
        "outputId": "8b713165-8b55-40c9-ca5c-83c4c9d87235",
        "colab": {
          "base_uri": "https://localhost:8080/"
        }
      },
      "execution_count": 1,
      "outputs": [
        {
          "output_type": "stream",
          "name": "stdout",
          "text": [
            "Mounted at /content/.drive\n"
          ]
        }
      ]
    },
    {
      "cell_type": "markdown",
      "source": [
        "Para correr la siguiente celda es fundamental en Arranque en Frio haber copiado el archivo kaggle.json al Google Drive, en la carpeta indicada en el instructivo\n",
        "\n",
        "<br>los siguientes comando estan en shell script de Linux\n",
        "*   Crear las carpetas en el Google Drive\n",
        "*   \"instalar\" el archivo kaggle.json desde el Google Drive a la virtual machine para que pueda ser utilizado por la libreria  kaggle de Python\n",
        "*   Bajar el  **dataset_pequeno**  al  Google Drive  y tambien al disco local de la virtual machine que esta corriendo Google Colab\n",
        "\n"
      ],
      "metadata": {
        "id": "ilaKtqWldeWg"
      }
    },
    {
      "cell_type": "code",
      "source": [
        "%%shell\n",
        "\n",
        "mkdir -p \"/content/.drive/My Drive/labo1\"\n",
        "mkdir -p \"/content/buckets\"\n",
        "ln -s \"/content/.drive/My Drive/labo1\" /content/buckets/b1\n",
        "\n",
        "mkdir -p ~/.kaggle\n",
        "cp /content/buckets/b1/kaggle/kaggle.json  ~/.kaggle\n",
        "chmod 600 ~/.kaggle/kaggle.json\n",
        "\n",
        "\n",
        "mkdir -p /content/buckets/b1/exp\n",
        "mkdir -p /content/buckets/b1/datasets\n",
        "mkdir -p /content/datasets\n",
        "\n",
        "\n",
        "\n",
        "archivo_origen=\"https://storage.googleapis.com/open-courses/austral2025-af91/dataset_pequeno.csv\"\n",
        "archivo_destino=\"/content/datasets/dataset_pequeno.csv\"\n",
        "archivo_destino_bucket=\"/content/buckets/b1/datasets/dataset_pequeno.csv\"\n",
        "\n",
        "if ! test -f $archivo_destino_bucket; then\n",
        "  wget  $archivo_origen  -O $archivo_destino_bucket\n",
        "fi\n",
        "\n",
        "\n",
        "if ! test -f $archivo_destino; then\n",
        "  cp  $archivo_destino_bucket  $archivo_destino\n",
        "fi\n"
      ],
      "metadata": {
        "id": "W8dQFI5QYCFa",
        "colab": {
          "base_uri": "https://localhost:8080/"
        },
        "outputId": "58d7106d-e525-4d76-dca3-8ee9040fba52"
      },
      "execution_count": 2,
      "outputs": [
        {
          "output_type": "stream",
          "name": "stdout",
          "text": [
            "cp: cannot stat '/content/buckets/b1/kaggle/kaggle.json': No such file or directory\n",
            "chmod: cannot access '/root/.kaggle/kaggle.json': No such file or directory\n"
          ]
        },
        {
          "output_type": "execute_result",
          "data": {
            "text/plain": []
          },
          "metadata": {},
          "execution_count": 2
        }
      ]
    },
    {
      "cell_type": "markdown",
      "source": [
        "# 1  Particion Training/Testing\n",
        "## Clase 02  Experimento 1"
      ],
      "metadata": {
        "id": "iV32-NeesVp6"
      }
    },
    {
      "cell_type": "markdown",
      "source": [
        "## 1.1  Objetivos\n",
        "Dado que es el primer experimento de la asignatura, acercar a l@s estudiantes las mejores prácticas de operación del ambiente de Google Cloud, realizando una minuciosa demostración en vivo narrando todas las consideraciones pertinentes para evitar accidentes, daños a terceros y a equipos.\n",
        "Dar soporte en el acto a  l@s estudiantes que necesitan ayuda para terminar de configurar el ambiente Google Cloud .\n",
        "<br>Repaso del concepto de  partición de un dataset al azar, estratificada en la clase\n",
        "<br>Dado que es el primer script que se mostrará en vivo a l@s estudiantes,  realizar una visita guiada del  mismo, su estructura y detalles.\n",
        "<br>Repaso del algoritmo Arbol de Decisión sus hiperparámetros, y la implementación con la librería  rpart.  Funciones  rpart::rpart  y rpart::predict\n",
        "<br>Concepto de replicabilidad de los experimentos mediante las semillas de los generadores de secuencias de números pseudoaleatorios.\n",
        "<br>Finalmente, el principal objetivo de este experimento es lograr que l@s estudiantes dimensionen la enorme variabilidad del error de medición de la ganancia de un árbol de decisión al realizar una partición <training, testing>,  contener la sorpresa de los estudiantes, descartar a la simple particion <training, testing> como método,  y construir en conjunto una solucion natural al problema."
      ],
      "metadata": {
        "id": "84Pnj9gVwpXB"
      }
    },
    {
      "cell_type": "markdown",
      "source": [
        "## 1.2 Introduccion"
      ],
      "metadata": {
        "id": "L9Cn0WThw37Y"
      }
    },
    {
      "cell_type": "markdown",
      "source": [
        "![Particiohn Training/Testing](https://storage.googleapis.com/open-courses/austral2025-af91/labo1r/C2_E1_particion.jpg)"
      ],
      "metadata": {
        "id": "ZELZ0R4itUVG"
      }
    },
    {
      "cell_type": "markdown",
      "source": [
        "![Dos tipos de error](https://storage.googleapis.com/open-courses/austral2025-af91/labo1r/C2_E1_target.jpg)"
      ],
      "metadata": {
        "id": "Wtc1ho58xLk-"
      }
    },
    {
      "cell_type": "markdown",
      "source": [
        "## 1.3  Bibliografía\n",
        "\n",
        "Demšar, J. [Statistical comparisons of classifiers over multiple data sets](https://www.jmlr.org/papers/volume7/demsar06a/demsar06a.pdf) J. Mach. Learn. Res. 7, 1–30 (2006).   \n",
        "Starmer, J. [Machine Learning Fundamentals: Cross Validation](https://www.youtube.com/watch?v=fSytzGwwBVw)Machine Learning Fundamentals: Cross Validation, StatQuest with Josh Starmer youtube channel, (2018)\n",
        "Hastie, T.[The elements of statistical learning: data mining, inference, and prediction](https://hastie.su.domains/Papers/ESLII.pdf) , volume 2. Springer, 2009  ( Chapter 7 Model Assessment and Selection )"
      ],
      "metadata": {
        "id": "oRWtRV34xZRT"
      }
    },
    {
      "cell_type": "markdown",
      "source": [
        "## 1.4 Codigo"
      ],
      "metadata": {
        "id": "VcgTQ2-Pyb8q"
      }
    },
    {
      "cell_type": "markdown",
      "source": [
        "Esta parte se debe correr con el runtime en lenguaje **R** Ir al menu, Runtime -> Change Runtime Tipe -> Runtime type -> R"
      ],
      "metadata": {
        "id": "SBXPU-_tabMb"
      }
    },
    {
      "cell_type": "markdown",
      "source": [
        "limpio el ambiente de R"
      ],
      "metadata": {
        "id": "SE94XRhWsxkX"
      }
    },
    {
      "cell_type": "code",
      "source": [
        "# limpio la memoria\n",
        "rm(list=ls(all.names=TRUE)) # remove all objects\n",
        "gc(full=TRUE, verbose=FALSE) # garbage collection"
      ],
      "metadata": {
        "id": "oZG_4br6szlT",
        "colab": {
          "base_uri": "https://localhost:8080/",
          "height": 129
        },
        "outputId": "1dee8045-b4b8-418c-a4ce-b5fd56aeda5a"
      },
      "execution_count": 1,
      "outputs": [
        {
          "output_type": "display_data",
          "data": {
            "text/html": [
              "<table class=\"dataframe\">\n",
              "<caption>A matrix: 2 × 6 of type dbl</caption>\n",
              "<thead>\n",
              "\t<tr><th></th><th scope=col>used</th><th scope=col>(Mb)</th><th scope=col>gc trigger</th><th scope=col>(Mb)</th><th scope=col>max used</th><th scope=col>(Mb)</th></tr>\n",
              "</thead>\n",
              "<tbody>\n",
              "\t<tr><th scope=row>Ncells</th><td> 657245</td><td>35.2</td><td>1454465</td><td>77.7</td><td>1326125</td><td>70.9</td></tr>\n",
              "\t<tr><th scope=row>Vcells</th><td>1220272</td><td> 9.4</td><td>8388608</td><td>64.0</td><td>1975127</td><td>15.1</td></tr>\n",
              "</tbody>\n",
              "</table>\n"
            ],
            "text/markdown": "\nA matrix: 2 × 6 of type dbl\n\n| <!--/--> | used | (Mb) | gc trigger | (Mb) | max used | (Mb) |\n|---|---|---|---|---|---|---|\n| Ncells |  657245 | 35.2 | 1454465 | 77.7 | 1326125 | 70.9 |\n| Vcells | 1220272 |  9.4 | 8388608 | 64.0 | 1975127 | 15.1 |\n\n",
            "text/latex": "A matrix: 2 × 6 of type dbl\n\\begin{tabular}{r|llllll}\n  & used & (Mb) & gc trigger & (Mb) & max used & (Mb)\\\\\n\\hline\n\tNcells &  657245 & 35.2 & 1454465 & 77.7 & 1326125 & 70.9\\\\\n\tVcells & 1220272 &  9.4 & 8388608 & 64.0 & 1975127 & 15.1\\\\\n\\end{tabular}\n",
            "text/plain": [
              "       used    (Mb) gc trigger (Mb) max used (Mb)\n",
              "Ncells  657245 35.2 1454465    77.7 1326125  70.9\n",
              "Vcells 1220272  9.4 8388608    64.0 1975127  15.1"
            ]
          },
          "metadata": {}
        }
      ]
    },
    {
      "cell_type": "code",
      "source": [
        "Sys.time()"
      ],
      "metadata": {
        "id": "pJ8SsVA5ssnf",
        "colab": {
          "base_uri": "https://localhost:8080/",
          "height": 35
        },
        "outputId": "78cb90c5-1bcf-40b7-a465-ad2df8fbcdd6"
      },
      "execution_count": 2,
      "outputs": [
        {
          "output_type": "display_data",
          "data": {
            "text/plain": [
              "[1] \"2025-10-09 17:39:56 UTC\""
            ]
          },
          "metadata": {}
        }
      ]
    },
    {
      "cell_type": "markdown",
      "source": [
        "* Instalacion de la libreria  rpart.plot  para dibujar el arbol\n",
        "* invocacion de las librerias  **data.table** y  **rpart**"
      ],
      "metadata": {
        "id": "3BrrQ47PeEb2"
      }
    },
    {
      "cell_type": "code",
      "source": [
        "# cargo las librerias que necesito\n",
        "require(\"data.table\")\n",
        "require(\"rpart\")\n"
      ],
      "metadata": {
        "id": "SxO-0Ql0khn6",
        "colab": {
          "base_uri": "https://localhost:8080/"
        },
        "outputId": "f119a128-2f35-43ae-9165-d9fb418507a4"
      },
      "execution_count": 3,
      "outputs": [
        {
          "output_type": "stream",
          "name": "stderr",
          "text": [
            "Loading required package: data.table\n",
            "\n",
            "Loading required package: rpart\n",
            "\n"
          ]
        }
      ]
    },
    {
      "cell_type": "markdown",
      "source": [
        "###  Accion a Realizar\n",
        "PARAM$semilla  debe tener su primer semilla aleatoria"
      ],
      "metadata": {
        "id": "ZG9fCnZh3bWV"
      }
    },
    {
      "cell_type": "code",
      "source": [
        "PARAM <- list()\n",
        "PARAM$semilla <- 200003  # aqui debe ir su primer semilla\n",
        "PARAM$training_pct <- 70L  # entre  1L y 99L\n",
        "\n",
        "PARAM$rpart <- list (\n",
        "  \"cp\" = -1, # complejidad minima\n",
        "  \"minsplit\" = 170, # minima cantidad de regs en un nodo para hacer el split\n",
        "  \"minbucket\" = 70, # minima cantidad de regs en una hoja\n",
        "  \"maxdepth\" = 7 # profundidad máxima del arbol\n",
        ")\n"
      ],
      "metadata": {
        "id": "0nx5_OcE3Y9c"
      },
      "execution_count": 4,
      "outputs": []
    },
    {
      "cell_type": "code",
      "source": [
        "# particionar agrega una columna llamada fold a un dataset\n",
        "#  que consiste en una particion estratificada segun agrupa\n",
        "\n",
        "# particionar( data=dataset, division=c(70,30),\n",
        "#  agrupa=clase_ternaria, seed=semilla)   crea una particion 70, 30\n",
        "\n",
        "particionar <- function(\n",
        "    data, division, agrupa = \"\",\n",
        "    campo = \"fold\", start = 1, seed = NA) {\n",
        "  if (!is.na(seed)) set.seed(seed)\n",
        "\n",
        "  bloque <- unlist(mapply(function(x, y) {\n",
        "    rep(y, x)\n",
        "  }, division, seq(from = start, length.out = length(division))))\n",
        "\n",
        "  data[, (campo) := sample(rep(bloque, ceiling(.N / length(bloque))))[1:.N],\n",
        "    by = agrupa\n",
        "  ]\n",
        "}\n"
      ],
      "metadata": {
        "id": "8HLE9Dx80gjH"
      },
      "execution_count": 5,
      "outputs": []
    },
    {
      "cell_type": "code",
      "source": [
        "# carpeta de trabajo\n",
        "setwd(\"/content/buckets/b1/exp\")\n",
        "experimento <- \"exp201\"\n",
        "dir.create(experimento, showWarnings=FALSE)\n",
        "setwd( paste0(\"/content/buckets/b1/exp/\", experimento ))"
      ],
      "metadata": {
        "id": "sC4_nqcm0nUs"
      },
      "execution_count": 6,
      "outputs": []
    },
    {
      "cell_type": "code",
      "source": [
        "# lectura del dataset\n",
        "dataset <- fread(\"/content/datasets/dataset_pequeno.csv\")\n",
        "\n",
        "# trabajo solo con los datos con clase, es decir 202107\n",
        "dataset <- dataset[clase_ternaria != \"\"]"
      ],
      "metadata": {
        "id": "6yIEsZOw07q8"
      },
      "execution_count": 7,
      "outputs": []
    },
    {
      "cell_type": "code",
      "source": [
        "# particiono estratificadamente el dataset 70%, 30%\n",
        "particionar(dataset,\n",
        "  division = c(PARAM$training_pct, 100L -PARAM$training_pct),\n",
        "  agrupa = \"clase_ternaria\",\n",
        "  seed = PARAM$semilla # aqui se usa SU semilla\n",
        ")\n",
        "\n"
      ],
      "metadata": {
        "id": "FAO1Hhd52b5d"
      },
      "execution_count": 8,
      "outputs": []
    },
    {
      "cell_type": "code",
      "source": [
        "# genero el modelo\n",
        "# quiero predecir clase_ternaria a partir del resto\n",
        "# fold==1  es training,  el 70% de los datos\n",
        "modelo <- rpart(\"clase_ternaria ~ .\",\n",
        "  data = dataset[fold == 1],  # fold==1  es training, el 70% de los datos\n",
        "  xval = 0,\n",
        "  control = PARAM$rpart # aqui van los parametros\n",
        ")\n"
      ],
      "metadata": {
        "id": "s3UnHSLP2gN6"
      },
      "execution_count": 9,
      "outputs": []
    },
    {
      "cell_type": "code",
      "source": [
        "# aplico el modelo a los datos de testing\n",
        "prediccion <- predict(modelo, # el modelo que genere recien\n",
        "  dataset[fold == 2], # fold==2  es testing, el 30% de los datos\n",
        "  type = \"prob\"\n",
        ") # type= \"prob\"  es que devuelva la probabilidad\n"
      ],
      "metadata": {
        "id": "paQphV4A2jGz"
      },
      "execution_count": 10,
      "outputs": []
    },
    {
      "cell_type": "code",
      "source": [
        "tb_prediccion <- as.data.table(list(\n",
        "  \"clase_ternaria\"=dataset[fold == 2, clase_ternaria],\n",
        "  \"prob\"=prediccion[, \"BAJA+2\"]\n",
        "))"
      ],
      "metadata": {
        "id": "fuLZ75pA29dT"
      },
      "execution_count": 11,
      "outputs": []
    },
    {
      "cell_type": "code",
      "source": [
        "# calculo la ganancia de cada registro\n",
        "tb_prediccion[, ganancia := ifelse(clase_ternaria == \"BAJA+2\", 117000, -3000)]"
      ],
      "metadata": {
        "id": "LuG6ql_t3kOI"
      },
      "execution_count": 12,
      "outputs": []
    },
    {
      "cell_type": "code",
      "source": [
        "# calculo la clase\n",
        "tb_prediccion[, Predicted := prob > (1/40) ]"
      ],
      "metadata": {
        "id": "xJ3WTMez3leO"
      },
      "execution_count": 13,
      "outputs": []
    },
    {
      "cell_type": "code",
      "source": [
        "ganancia_test <-  tb_prediccion[ Predicted==TRUE,  sum(ganancia)]"
      ],
      "metadata": {
        "id": "cFQPacen4Wq6"
      },
      "execution_count": 14,
      "outputs": []
    },
    {
      "cell_type": "code",
      "source": [
        "# normalizo la ganancia\n",
        "ganancia_test_normalizada <- ganancia_test / (( 100 - PARAM$training_pct ) / 100 )"
      ],
      "metadata": {
        "id": "dHjz0zhN4-nZ"
      },
      "execution_count": 15,
      "outputs": []
    },
    {
      "cell_type": "code",
      "source": [
        "estimulos <- tb_prediccion[ Predicted==TRUE, .N]\n",
        "aciertos <- tb_prediccion[ Predicted & clase_ternaria == \"BAJA+2\", .N]\n"
      ],
      "metadata": {
        "id": "D7RUdTb95F6B"
      },
      "execution_count": 16,
      "outputs": []
    },
    {
      "cell_type": "code",
      "source": [
        "# Resultado Final\n",
        "cat(\"Testing total: \", dataset[fold == 2, .N], \"\\n\")\n",
        "cat(\"Testing BAJA+2: \", dataset[fold == 2 & clase_ternaria == \"BAJA+2\", .N], \"\\n\")\n",
        "\n",
        "cat(\"Estimulos: \", estimulos, \"\\n\")\n",
        "cat(\"Aciertos (BAJA+2): \", aciertos, \"\\n\")\n",
        "\n",
        "cat(\"Ganancia en testing (normalizada): \", ganancia_test_normalizada, \"\\n\")\n"
      ],
      "metadata": {
        "id": "Lu1KM6fy5U7h",
        "colab": {
          "base_uri": "https://localhost:8080/"
        },
        "outputId": "f98c5b77-0688-4e8b-a729-1a43dcbccd8e"
      },
      "execution_count": 17,
      "outputs": [
        {
          "output_type": "stream",
          "name": "stdout",
          "text": [
            "Testing total:  49374 \n",
            "Testing BAJA+2:  380 \n",
            "Estimulos:  2965 \n",
            "Aciertos (BAJA+2):  209 \n",
            "Ganancia en testing (normalizada):  53950000 \n"
          ]
        }
      ]
    },
    {
      "cell_type": "markdown",
      "source": [
        "### Acciones a realizar\n",
        "* Reportar la  *Ganancia en testing (normalizada)* <br> en la planilla colaborativa hoja  **C2-1sem**\n",
        "* Se discutirá en clase la variabilidad de las ganancias obtenidas de distintos alumnos"
      ],
      "metadata": {
        "id": "kHs-YoFB5rUa"
      }
    },
    {
      "cell_type": "markdown",
      "source": [
        "\n",
        "\n",
        "---\n",
        "\n"
      ],
      "metadata": {
        "id": "LBl_eIeO7WuM"
      }
    },
    {
      "cell_type": "markdown",
      "source": [
        "# 2  Medición Monte Carlo Cross Validation\n",
        "## Clase 02  Experimento 2"
      ],
      "metadata": {
        "id": "h43UCq9y7UlT"
      }
    },
    {
      "cell_type": "markdown",
      "source": [
        "## 2.1  Objetivos\n",
        "Mostrar el funcionamiento de la Montecarlo Cross Validation y que l@s estudiantes aprecien la disminución de la varianza de dicha metodología.\n",
        "Relación con el Teorema Central del Límite"
      ],
      "metadata": {
        "id": "wHPchGXK80VU"
      }
    },
    {
      "cell_type": "markdown",
      "source": [
        "## 2.2 Introduccion\n",
        "\n",
        "![Montecarlo](https://storage.googleapis.com/open-courses/austral2025-af91/labo1r/C2_E2_montecarlo.jpg)\n",
        "\n",
        "![Curva normal](https://storage.googleapis.com/open-courses/austral2025-af91/labo1r/C2_E2_normal.jpg)\n",
        "\n",
        "![Teorema Central del Limite](https://storage.googleapis.com/open-courses/austral2025-af91/labo1r/C2_E2_teoremacentralLimite.jpg)\n",
        "\n"
      ],
      "metadata": {
        "id": "g6YzACxl9DzS"
      }
    },
    {
      "cell_type": "markdown",
      "source": [],
      "metadata": {
        "id": "7laod2t4ArsH"
      }
    },
    {
      "cell_type": "markdown",
      "source": [
        "## 2.3  Bibliografía\n",
        "\n",
        "Demšar, J. [Statistical comparisons of classifiers over multiple data sets](https://www.jmlr.org/papers/volume7/demsar06a/demsar06a.pdf) J. Mach. Learn. Res. 7, 1–30 (2006).   \n",
        "Starmer, J. [Machine Learning Fundamentals: Cross Validation](https://www.youtube.com/watch?v=fSytzGwwBVw)Machine Learning Fundamentals: Cross Validation, StatQuest with Josh Starmer youtube channel, (2018)\n",
        "Hastie, T.[The elements of statistical learning: data mining, inference, and prediction](https://hastie.su.domains/Papers/ESLII.pdf) , volume 2. Springer, 2009  ( Chapter 7 Model Assessment and Selection )"
      ],
      "metadata": {
        "id": "lFcJeRAkAr-q"
      }
    },
    {
      "cell_type": "code",
      "source": [],
      "metadata": {
        "id": "KXSuYXQ26cLV"
      },
      "execution_count": null,
      "outputs": []
    },
    {
      "cell_type": "markdown",
      "source": [
        "## 2.4 Codigo  Montecarlo"
      ],
      "metadata": {
        "id": "0ztZzYolA2WK"
      }
    },
    {
      "cell_type": "markdown",
      "source": [
        "El código de la Montecarlo Cross Validation es notablemente más complejo que el anterior de una simple partición training/testing\n",
        "<br> Se crea la funcion ArbolEstimarGanancia()  que dada una semilla realiza la partición  training/testing, entrena en training, aplica el modelo a testing, y se calculan las ganancias\n",
        "<br> Se utiliza la funcion **mcmapply**  de R para aplicar ArbolEstimarGanancia a todos los elementos del vector de semillas"
      ],
      "metadata": {
        "id": "KLa06ZsiC-Oz"
      }
    },
    {
      "cell_type": "markdown",
      "source": [
        "Esta parte se debe correr con el runtime en lenguaje **R** Ir al menu, Runtime -> Change Runtime Tipe -> Runtime type -> R"
      ],
      "metadata": {
        "id": "ivFiBBOQA2Ws"
      }
    },
    {
      "cell_type": "markdown",
      "source": [
        "limpio el ambiente de R"
      ],
      "metadata": {
        "id": "TMSAQDXuA2Ws"
      }
    },
    {
      "cell_type": "code",
      "source": [
        "# limpio la memoria\n",
        "rm(list=ls(all.names=TRUE)) # remove all objects\n",
        "gc(full=TRUE, verbose=FALSE) # garbage collection"
      ],
      "metadata": {
        "id": "eakzb8y2A2Wt",
        "colab": {
          "base_uri": "https://localhost:8080/",
          "height": 129
        },
        "outputId": "518044b6-58bb-441c-ff51-e13f23904a06"
      },
      "execution_count": 18,
      "outputs": [
        {
          "output_type": "display_data",
          "data": {
            "text/html": [
              "<table class=\"dataframe\">\n",
              "<caption>A matrix: 2 × 6 of type dbl</caption>\n",
              "<thead>\n",
              "\t<tr><th></th><th scope=col>used</th><th scope=col>(Mb)</th><th scope=col>gc trigger</th><th scope=col>(Mb)</th><th scope=col>max used</th><th scope=col>(Mb)</th></tr>\n",
              "</thead>\n",
              "<tbody>\n",
              "\t<tr><th scope=row>Ncells</th><td> 744996</td><td>39.8</td><td> 1454465</td><td> 77.7</td><td>  1454465</td><td> 77.7</td></tr>\n",
              "\t<tr><th scope=row>Vcells</th><td>1433452</td><td>11.0</td><td>84907202</td><td>647.8</td><td>103910653</td><td>792.8</td></tr>\n",
              "</tbody>\n",
              "</table>\n"
            ],
            "text/markdown": "\nA matrix: 2 × 6 of type dbl\n\n| <!--/--> | used | (Mb) | gc trigger | (Mb) | max used | (Mb) |\n|---|---|---|---|---|---|---|\n| Ncells |  744996 | 39.8 |  1454465 |  77.7 |   1454465 |  77.7 |\n| Vcells | 1433452 | 11.0 | 84907202 | 647.8 | 103910653 | 792.8 |\n\n",
            "text/latex": "A matrix: 2 × 6 of type dbl\n\\begin{tabular}{r|llllll}\n  & used & (Mb) & gc trigger & (Mb) & max used & (Mb)\\\\\n\\hline\n\tNcells &  744996 & 39.8 &  1454465 &  77.7 &   1454465 &  77.7\\\\\n\tVcells & 1433452 & 11.0 & 84907202 & 647.8 & 103910653 & 792.8\\\\\n\\end{tabular}\n",
            "text/plain": [
              "       used    (Mb) gc trigger (Mb)  max used  (Mb) \n",
              "Ncells  744996 39.8  1454465    77.7   1454465  77.7\n",
              "Vcells 1433452 11.0 84907202   647.8 103910653 792.8"
            ]
          },
          "metadata": {}
        }
      ]
    },
    {
      "cell_type": "markdown",
      "source": [
        "* Instalacion de la libreria  rpart.plot  para dibujar el arbol\n",
        "* invocacion de las librerias  **data.table** y  **rpart**"
      ],
      "metadata": {
        "id": "559RkeYZA2Wv"
      }
    },
    {
      "cell_type": "code",
      "source": [
        "# cargo las librerias que necesito\n",
        "require(\"data.table\")\n",
        "require(\"rpart\")\n",
        "require(\"parallel\")"
      ],
      "metadata": {
        "id": "yf_S_HlsA2Wv",
        "colab": {
          "base_uri": "https://localhost:8080/"
        },
        "outputId": "d96c5d76-af2d-4f42-a20b-e092aae88587"
      },
      "execution_count": 19,
      "outputs": [
        {
          "output_type": "stream",
          "name": "stderr",
          "text": [
            "Loading required package: parallel\n",
            "\n"
          ]
        }
      ]
    },
    {
      "cell_type": "markdown",
      "source": [
        "###  Accion a Realizar\n",
        "PARAM$semillas  debe tener sus cinco semillas aleatorias"
      ],
      "metadata": {
        "id": "a4oz2ulCA2Ww"
      }
    },
    {
      "cell_type": "code",
      "source": [
        "PARAM <- list()\n",
        "PARAM$semillas <- c(200003, 300007, 400009, 500009, 600011)  # aqui debe ir sus CINCO\n",
        "PARAM$training_pct <- 70L  # entre  1L y 99L\n",
        "\n",
        "PARAM$rpart <- list (\n",
        "  \"cp\" = -1, # complejidad minima\n",
        "  \"minsplit\" = 170, # minima cantidad de regs en un nodo para hacer el split\n",
        "  \"minbucket\" = 70, # minima cantidad de regs en una hoja\n",
        "  \"maxdepth\" = 7 # profundidad máxima del arbol\n",
        ")\n"
      ],
      "metadata": {
        "id": "yQ2OAP5AA2Wx"
      },
      "execution_count": 20,
      "outputs": []
    },
    {
      "cell_type": "code",
      "source": [
        "# particionar agrega una columna llamada fold a un dataset\n",
        "#  que consiste en una particion estratificada segun agrupa\n",
        "\n",
        "# particionar( data=dataset, division=c(70,30),\n",
        "#  agrupa=clase_ternaria, seed=semilla)   crea una particion 70, 30\n",
        "\n",
        "particionar <- function(\n",
        "    data, division, agrupa = \"\",\n",
        "    campo = \"fold\", start = 1, seed = NA) {\n",
        "  if (!is.na(seed)) set.seed(seed)\n",
        "\n",
        "  bloque <- unlist(mapply(function(x, y) {\n",
        "    rep(y, x)\n",
        "  }, division, seq(from = start, length.out = length(division))))\n",
        "\n",
        "  data[, (campo) := sample(rep(bloque, ceiling(.N / length(bloque))))[1:.N],\n",
        "    by = agrupa\n",
        "  ]\n",
        "}\n"
      ],
      "metadata": {
        "id": "97dMCVJWA2Wy"
      },
      "execution_count": 21,
      "outputs": []
    },
    {
      "cell_type": "code",
      "source": [
        "\n",
        "ArbolEstimarGanancia <- function(semilla, param_basicos) {\n",
        "  # particiono estratificadamente el dataset\n",
        "  particionar(dataset,\n",
        "    division = c(param_basicos$training_pct, 100L -param_basicos$training_pct),\n",
        "    agrupa = \"clase_ternaria\",\n",
        "    seed = semilla # aqui se usa SU semilla\n",
        "  )\n",
        "\n",
        "  # genero el modelo\n",
        "  # predecir clase_ternaria a partir del resto\n",
        "  modelo <- rpart(\"clase_ternaria ~ .\",\n",
        "    data = dataset[fold == 1], # fold==1  es training,  el 70% de los datos\n",
        "    xval = 0,\n",
        "    control = param_basicos$rpart\n",
        "  ) # aqui van los parametros del arbol\n",
        "\n",
        "  # aplico el modelo a los datos de testing\n",
        "  prediccion <- predict(modelo, # el modelo que genere recien\n",
        "    dataset[fold == 2], # fold==2  es testing, el 30% de los datos\n",
        "    type = \"prob\"\n",
        "  ) # type= \"prob\"  es que devuelva la probabilidad\n",
        "\n",
        "  # prediccion es una matriz con TRES columnas,\n",
        "  #  llamadas \"BAJA+1\", \"BAJA+2\"  y \"CONTINUA\"\n",
        "  # cada columna es el vector de probabilidades\n",
        "\n",
        "\n",
        "  # calculo la ganancia en testing  qu es fold==2\n",
        "  ganancia_test <- dataset[\n",
        "    fold == 2,\n",
        "    sum(ifelse(prediccion[, \"BAJA+2\"] > 0.025,\n",
        "      ifelse(clase_ternaria == \"BAJA+2\", 117000, -3000),\n",
        "      0\n",
        "    ))\n",
        "  ]\n",
        "\n",
        "  # escalo la ganancia como si fuera todo el dataset\n",
        "  ganancia_test_normalizada <- ganancia_test / (( 100 - PARAM$training_pct ) / 100 )\n",
        "\n",
        "  return(list(\n",
        "    \"semilla\" = semilla,\n",
        "    \"testing\" = dataset[fold == 2, .N],\n",
        "    \"testing_pos\" = dataset[fold == 2 & clase_ternaria == \"BAJA+2\", .N],\n",
        "    \"envios\" = dataset[fold == 2, sum(prediccion[, \"BAJA+2\"] > 0.025)],\n",
        "    \"aciertos\" = dataset[\n",
        "        fold == 2,\n",
        "        sum(prediccion[, \"BAJA+2\"] > 0.025 & clase_ternaria == \"BAJA+2\")\n",
        "    ],\n",
        "    \"ganancia_test\" = ganancia_test_normalizada\n",
        "  ))\n",
        "}\n"
      ],
      "metadata": {
        "id": "GroZSZoVBuZ5"
      },
      "execution_count": 22,
      "outputs": []
    },
    {
      "cell_type": "code",
      "source": [
        "# carpeta de trabajo\n",
        "setwd(\"/content/buckets/b1/exp\")\n",
        "experimento <- \"exp202\"\n",
        "dir.create(experimento, showWarnings=FALSE)\n",
        "setwd( paste0(\"/content/buckets/b1/exp/\", experimento ))"
      ],
      "metadata": {
        "id": "dJIBIX6kA2Wy"
      },
      "execution_count": 23,
      "outputs": []
    },
    {
      "cell_type": "code",
      "source": [
        "# lectura del dataset\n",
        "dataset <- fread(\"/content/datasets/dataset_pequeno.csv\")\n",
        "\n",
        "# trabajo solo con los datos con clase, es decir 202107\n",
        "dataset <- dataset[clase_ternaria != \"\"]"
      ],
      "metadata": {
        "id": "tKiACdU2A2Wz"
      },
      "execution_count": 24,
      "outputs": []
    },
    {
      "cell_type": "code",
      "source": [
        "\n",
        "# la funcion mcmapply  llama a la funcion ArbolEstimarGanancia\n",
        "#  tantas veces como valores tenga el vector  PARAM$semillas\n",
        "salidas <- mcmapply(ArbolEstimarGanancia,\n",
        "  PARAM$semillas, # paso el vector de semillas\n",
        "  MoreArgs = list(PARAM), # aqui paso el segundo parametro\n",
        "  SIMPLIFY = FALSE,\n",
        "  mc.cores = detectCores()\n",
        ")\n",
        "\n",
        "# muestro la lista de las salidas en testing\n",
        "#  para la particion realizada con cada semilla\n",
        "salidas\n"
      ],
      "metadata": {
        "id": "64OdfeyxCMDF",
        "colab": {
          "base_uri": "https://localhost:8080/",
          "height": 1000
        },
        "outputId": "71aaeedb-26ef-4d96-e8c5-c599cf19fe3e"
      },
      "execution_count": 25,
      "outputs": [
        {
          "output_type": "display_data",
          "data": {
            "text/html": [
              "<ol>\n",
              "\t<li><dl>\n",
              "\t<dt>$semilla</dt>\n",
              "\t\t<dd>200003</dd>\n",
              "\t<dt>$testing</dt>\n",
              "\t\t<dd>49374</dd>\n",
              "\t<dt>$testing_pos</dt>\n",
              "\t\t<dd>380</dd>\n",
              "\t<dt>$envios</dt>\n",
              "\t\t<dd>2965</dd>\n",
              "\t<dt>$aciertos</dt>\n",
              "\t\t<dd>209</dd>\n",
              "\t<dt>$ganancia_test</dt>\n",
              "\t\t<dd>53950000</dd>\n",
              "</dl>\n",
              "</li>\n",
              "\t<li><dl>\n",
              "\t<dt>$semilla</dt>\n",
              "\t\t<dd>300007</dd>\n",
              "\t<dt>$testing</dt>\n",
              "\t\t<dd>49371</dd>\n",
              "\t<dt>$testing_pos</dt>\n",
              "\t\t<dd>377</dd>\n",
              "\t<dt>$envios</dt>\n",
              "\t\t<dd>3431</dd>\n",
              "\t<dt>$aciertos</dt>\n",
              "\t\t<dd>203</dd>\n",
              "\t<dt>$ganancia_test</dt>\n",
              "\t\t<dd>46890000</dd>\n",
              "</dl>\n",
              "</li>\n",
              "\t<li><dl>\n",
              "\t<dt>$semilla</dt>\n",
              "\t\t<dd>400009</dd>\n",
              "\t<dt>$testing</dt>\n",
              "\t\t<dd>49385</dd>\n",
              "\t<dt>$testing_pos</dt>\n",
              "\t\t<dd>377</dd>\n",
              "\t<dt>$envios</dt>\n",
              "\t\t<dd>3389</dd>\n",
              "\t<dt>$aciertos</dt>\n",
              "\t\t<dd>214</dd>\n",
              "\t<dt>$ganancia_test</dt>\n",
              "\t\t<dd>51710000</dd>\n",
              "</dl>\n",
              "</li>\n",
              "\t<li><dl>\n",
              "\t<dt>$semilla</dt>\n",
              "\t\t<dd>500009</dd>\n",
              "\t<dt>$testing</dt>\n",
              "\t\t<dd>49380</dd>\n",
              "\t<dt>$testing_pos</dt>\n",
              "\t\t<dd>383</dd>\n",
              "\t<dt>$envios</dt>\n",
              "\t\t<dd>3637</dd>\n",
              "\t<dt>$aciertos</dt>\n",
              "\t\t<dd>227</dd>\n",
              "\t<dt>$ganancia_test</dt>\n",
              "\t\t<dd>54430000</dd>\n",
              "</dl>\n",
              "</li>\n",
              "\t<li><dl>\n",
              "\t<dt>$semilla</dt>\n",
              "\t\t<dd>600011</dd>\n",
              "\t<dt>$testing</dt>\n",
              "\t\t<dd>49380</dd>\n",
              "\t<dt>$testing_pos</dt>\n",
              "\t\t<dd>376</dd>\n",
              "\t<dt>$envios</dt>\n",
              "\t\t<dd>2807</dd>\n",
              "\t<dt>$aciertos</dt>\n",
              "\t\t<dd>198</dd>\n",
              "\t<dt>$ganancia_test</dt>\n",
              "\t\t<dd>51130000</dd>\n",
              "</dl>\n",
              "</li>\n",
              "</ol>\n"
            ],
            "text/markdown": "1. $semilla\n:   200003\n$testing\n:   49374\n$testing_pos\n:   380\n$envios\n:   2965\n$aciertos\n:   209\n$ganancia_test\n:   53950000\n\n\n\n2. $semilla\n:   300007\n$testing\n:   49371\n$testing_pos\n:   377\n$envios\n:   3431\n$aciertos\n:   203\n$ganancia_test\n:   46890000\n\n\n\n3. $semilla\n:   400009\n$testing\n:   49385\n$testing_pos\n:   377\n$envios\n:   3389\n$aciertos\n:   214\n$ganancia_test\n:   51710000\n\n\n\n4. $semilla\n:   500009\n$testing\n:   49380\n$testing_pos\n:   383\n$envios\n:   3637\n$aciertos\n:   227\n$ganancia_test\n:   54430000\n\n\n\n5. $semilla\n:   600011\n$testing\n:   49380\n$testing_pos\n:   376\n$envios\n:   2807\n$aciertos\n:   198\n$ganancia_test\n:   51130000\n\n\n\n\n\n",
            "text/latex": "\\begin{enumerate}\n\\item \\begin{description}\n\\item[\\$semilla] 200003\n\\item[\\$testing] 49374\n\\item[\\$testing\\_pos] 380\n\\item[\\$envios] 2965\n\\item[\\$aciertos] 209\n\\item[\\$ganancia\\_test] 53950000\n\\end{description}\n\n\\item \\begin{description}\n\\item[\\$semilla] 300007\n\\item[\\$testing] 49371\n\\item[\\$testing\\_pos] 377\n\\item[\\$envios] 3431\n\\item[\\$aciertos] 203\n\\item[\\$ganancia\\_test] 46890000\n\\end{description}\n\n\\item \\begin{description}\n\\item[\\$semilla] 400009\n\\item[\\$testing] 49385\n\\item[\\$testing\\_pos] 377\n\\item[\\$envios] 3389\n\\item[\\$aciertos] 214\n\\item[\\$ganancia\\_test] 51710000\n\\end{description}\n\n\\item \\begin{description}\n\\item[\\$semilla] 500009\n\\item[\\$testing] 49380\n\\item[\\$testing\\_pos] 383\n\\item[\\$envios] 3637\n\\item[\\$aciertos] 227\n\\item[\\$ganancia\\_test] 54430000\n\\end{description}\n\n\\item \\begin{description}\n\\item[\\$semilla] 600011\n\\item[\\$testing] 49380\n\\item[\\$testing\\_pos] 376\n\\item[\\$envios] 2807\n\\item[\\$aciertos] 198\n\\item[\\$ganancia\\_test] 51130000\n\\end{description}\n\n\\end{enumerate}\n",
            "text/plain": [
              "[[1]]\n",
              "[[1]]$semilla\n",
              "[1] 200003\n",
              "\n",
              "[[1]]$testing\n",
              "[1] 49374\n",
              "\n",
              "[[1]]$testing_pos\n",
              "[1] 380\n",
              "\n",
              "[[1]]$envios\n",
              "[1] 2965\n",
              "\n",
              "[[1]]$aciertos\n",
              "[1] 209\n",
              "\n",
              "[[1]]$ganancia_test\n",
              "[1] 53950000\n",
              "\n",
              "\n",
              "[[2]]\n",
              "[[2]]$semilla\n",
              "[1] 300007\n",
              "\n",
              "[[2]]$testing\n",
              "[1] 49371\n",
              "\n",
              "[[2]]$testing_pos\n",
              "[1] 377\n",
              "\n",
              "[[2]]$envios\n",
              "[1] 3431\n",
              "\n",
              "[[2]]$aciertos\n",
              "[1] 203\n",
              "\n",
              "[[2]]$ganancia_test\n",
              "[1] 46890000\n",
              "\n",
              "\n",
              "[[3]]\n",
              "[[3]]$semilla\n",
              "[1] 400009\n",
              "\n",
              "[[3]]$testing\n",
              "[1] 49385\n",
              "\n",
              "[[3]]$testing_pos\n",
              "[1] 377\n",
              "\n",
              "[[3]]$envios\n",
              "[1] 3389\n",
              "\n",
              "[[3]]$aciertos\n",
              "[1] 214\n",
              "\n",
              "[[3]]$ganancia_test\n",
              "[1] 51710000\n",
              "\n",
              "\n",
              "[[4]]\n",
              "[[4]]$semilla\n",
              "[1] 500009\n",
              "\n",
              "[[4]]$testing\n",
              "[1] 49380\n",
              "\n",
              "[[4]]$testing_pos\n",
              "[1] 383\n",
              "\n",
              "[[4]]$envios\n",
              "[1] 3637\n",
              "\n",
              "[[4]]$aciertos\n",
              "[1] 227\n",
              "\n",
              "[[4]]$ganancia_test\n",
              "[1] 54430000\n",
              "\n",
              "\n",
              "[[5]]\n",
              "[[5]]$semilla\n",
              "[1] 600011\n",
              "\n",
              "[[5]]$testing\n",
              "[1] 49380\n",
              "\n",
              "[[5]]$testing_pos\n",
              "[1] 376\n",
              "\n",
              "[[5]]$envios\n",
              "[1] 2807\n",
              "\n",
              "[[5]]$aciertos\n",
              "[1] 198\n",
              "\n",
              "[[5]]$ganancia_test\n",
              "[1] 51130000\n",
              "\n"
            ]
          },
          "metadata": {}
        }
      ]
    },
    {
      "cell_type": "code",
      "source": [
        "# paso la lista a vector\n",
        "tb_salida <- rbindlist(salidas)\n",
        "print( tb_salida)"
      ],
      "metadata": {
        "id": "tML9VmH2ECFK",
        "colab": {
          "base_uri": "https://localhost:8080/"
        },
        "outputId": "6f386488-eeb8-4d07-e2be-8ed71935b2d5"
      },
      "execution_count": 26,
      "outputs": [
        {
          "output_type": "stream",
          "name": "stdout",
          "text": [
            "   semilla testing testing_pos envios aciertos ganancia_test\n",
            "     <num>   <int>       <int>  <int>    <int>         <num>\n",
            "1:  200003   49374         380   2965      209      53950000\n",
            "2:  300007   49371         377   3431      203      46890000\n",
            "3:  400009   49385         377   3389      214      51710000\n",
            "4:  500009   49380         383   3637      227      54430000\n",
            "5:  600011   49380         376   2807      198      51130000\n"
          ]
        }
      ]
    },
    {
      "cell_type": "code",
      "source": [
        "# finalmente calculo la media (promedio)  de las ganancias\n",
        "cat( \"ganancia promedio: \", tb_salida[, mean(ganancia_test)], \"\\n\" )"
      ],
      "metadata": {
        "id": "rbHXPfoVENQB",
        "colab": {
          "base_uri": "https://localhost:8080/"
        },
        "outputId": "731bac48-31e4-405d-d54b-5ff8512b113e"
      },
      "execution_count": 27,
      "outputs": [
        {
          "output_type": "stream",
          "name": "stdout",
          "text": [
            "ganancia promedio:  51622000 \n"
          ]
        }
      ]
    },
    {
      "cell_type": "markdown",
      "source": [
        "### Acciones a realizar\n",
        "* Reportar la  *Ganancia Promedio* <br> en la planilla colaborativa hoja  **C2-5sem**\n",
        "* Se discutirá en clase la variabilidad de estos \"ganancia promedio de cinco semillas\""
      ],
      "metadata": {
        "id": "_3xVH6UKA2W6"
      }
    },
    {
      "cell_type": "markdown",
      "source": [
        "\n",
        "\n",
        "---\n",
        "\n"
      ],
      "metadata": {
        "id": "N29m1XGpA2W7"
      }
    },
    {
      "cell_type": "markdown",
      "source": [
        "# 3  Generando n semillas en forma automatica\n",
        "## Clase 02  Experimento 3"
      ],
      "metadata": {
        "id": "zS7WIJciFGc6"
      }
    },
    {
      "cell_type": "markdown",
      "source": [
        "## 3.1  Objetivos\n",
        "Mostrar la creación de nuevas semillas a partir de la librería Primes"
      ],
      "metadata": {
        "id": "VmiFDDDJFUEo"
      }
    },
    {
      "cell_type": "markdown",
      "source": [
        "3.2  Código\n",
        "\n",
        "Como generar muchas semillas a partir de una"
      ],
      "metadata": {
        "id": "Ehe3VfdfFbvg"
      }
    },
    {
      "cell_type": "code",
      "source": [
        "# instalo y cargo la libreria  primes\n",
        "if (!require(\"primes\")) install.packages(\"primes\")\n",
        "require(\"primes\")"
      ],
      "metadata": {
        "id": "X6_dE42yF2-t",
        "colab": {
          "base_uri": "https://localhost:8080/"
        },
        "outputId": "89dbc59f-430a-4d34-c70e-d6b846cff421"
      },
      "execution_count": 28,
      "outputs": [
        {
          "output_type": "stream",
          "name": "stderr",
          "text": [
            "Loading required package: primes\n",
            "\n"
          ]
        }
      ]
    },
    {
      "cell_type": "code",
      "source": [
        "# genero numeros primos\n",
        "primos <- generate_primes(min = 100000, max = 1000000)\n",
        "\n",
        "\n",
        "set.seed(200003) # inicializo con mi primer semilla\n",
        "\n",
        "# me quedo con por ejemplo 20 primos al azar\n",
        "semillas <- sample(primos, 20 )\n",
        "\n",
        "print( semillas )"
      ],
      "metadata": {
        "id": "yDU9RyV4FNhZ",
        "colab": {
          "base_uri": "https://localhost:8080/"
        },
        "outputId": "3fa0bffc-134e-4d57-efa6-93de24780b34"
      },
      "execution_count": 29,
      "outputs": [
        {
          "output_type": "stream",
          "name": "stdout",
          "text": [
            " [1] 590819 526937 753937 101173 715727 522959 975883 703657 631469 662617\n",
            "[11] 552031 195281 326999 452269 576221 293729 658079 341461 193873 961139\n"
          ]
        }
      ]
    },
    {
      "cell_type": "markdown",
      "source": [
        "\n",
        "\n",
        "---\n",
        "\n"
      ],
      "metadata": {
        "id": "eD_cO5VTGGea"
      }
    },
    {
      "cell_type": "code",
      "source": [],
      "metadata": {
        "id": "k-rgoA2ZFll4"
      },
      "execution_count": null,
      "outputs": []
    },
    {
      "cell_type": "markdown",
      "source": [
        "# 4  Medición  50-Monte Carlo Cross Validation\n",
        "## Clase 02  Experimento 4"
      ],
      "metadata": {
        "id": "cZi29THsGil_"
      }
    },
    {
      "cell_type": "markdown",
      "source": [
        "## 4.1  Objetivos\n",
        "Calcular la ganancia del modelo utilizando 50 semillas nuevas generadas a partir de mi semilla primigenia."
      ],
      "metadata": {
        "id": "qFNq6ntVGimN"
      }
    },
    {
      "cell_type": "markdown",
      "source": [
        "## 4.4 Codigo  50 Montecarlo"
      ],
      "metadata": {
        "id": "B6KtuhQCGimP"
      }
    },
    {
      "cell_type": "markdown",
      "source": [
        "Esta parte se debe correr con el runtime en lenguaje **R** Ir al menu, Runtime -> Change Runtime Tipe -> Runtime type -> R"
      ],
      "metadata": {
        "id": "LgGgjPQuGimP"
      }
    },
    {
      "cell_type": "markdown",
      "source": [
        "Este punto demora en correr 60 minutos en Google Colab, con lo cual para continuar con el punto siguiente deberá abrir un nuevo Colab"
      ],
      "metadata": {
        "id": "E82ChuO25OYx"
      }
    },
    {
      "cell_type": "markdown",
      "source": [
        "limpio el ambiente de R"
      ],
      "metadata": {
        "id": "a6AxqLwOGimQ"
      }
    },
    {
      "cell_type": "code",
      "source": [
        "# limpio la memoria\n",
        "rm(list=ls(all.names=TRUE)) # remove all objects\n",
        "gc(full=TRUE, verbose=FALSE) # garbage collection"
      ],
      "metadata": {
        "id": "797Ad0_QGimQ",
        "colab": {
          "base_uri": "https://localhost:8080/",
          "height": 129
        },
        "outputId": "12075af7-ba7c-48ad-f946-015672b829ff"
      },
      "execution_count": 30,
      "outputs": [
        {
          "output_type": "display_data",
          "data": {
            "text/html": [
              "<table class=\"dataframe\">\n",
              "<caption>A matrix: 2 × 6 of type dbl</caption>\n",
              "<thead>\n",
              "\t<tr><th></th><th scope=col>used</th><th scope=col>(Mb)</th><th scope=col>gc trigger</th><th scope=col>(Mb)</th><th scope=col>max used</th><th scope=col>(Mb)</th></tr>\n",
              "</thead>\n",
              "<tbody>\n",
              "\t<tr><th scope=row>Ncells</th><td> 812119</td><td>43.4</td><td> 1454465</td><td> 77.7</td><td>  1454465</td><td> 77.7</td></tr>\n",
              "\t<tr><th scope=row>Vcells</th><td>1519616</td><td>11.6</td><td>67925762</td><td>518.3</td><td>103910653</td><td>792.8</td></tr>\n",
              "</tbody>\n",
              "</table>\n"
            ],
            "text/markdown": "\nA matrix: 2 × 6 of type dbl\n\n| <!--/--> | used | (Mb) | gc trigger | (Mb) | max used | (Mb) |\n|---|---|---|---|---|---|---|\n| Ncells |  812119 | 43.4 |  1454465 |  77.7 |   1454465 |  77.7 |\n| Vcells | 1519616 | 11.6 | 67925762 | 518.3 | 103910653 | 792.8 |\n\n",
            "text/latex": "A matrix: 2 × 6 of type dbl\n\\begin{tabular}{r|llllll}\n  & used & (Mb) & gc trigger & (Mb) & max used & (Mb)\\\\\n\\hline\n\tNcells &  812119 & 43.4 &  1454465 &  77.7 &   1454465 &  77.7\\\\\n\tVcells & 1519616 & 11.6 & 67925762 & 518.3 & 103910653 & 792.8\\\\\n\\end{tabular}\n",
            "text/plain": [
              "       used    (Mb) gc trigger (Mb)  max used  (Mb) \n",
              "Ncells  812119 43.4  1454465    77.7   1454465  77.7\n",
              "Vcells 1519616 11.6 67925762   518.3 103910653 792.8"
            ]
          },
          "metadata": {}
        }
      ]
    },
    {
      "cell_type": "markdown",
      "source": [
        "* Instalacion de la libreria  rpart.plot  para dibujar el arbol\n",
        "* invocacion de las librerias  **data.table** y  **rpart**"
      ],
      "metadata": {
        "id": "v0CepvbjGimQ"
      }
    },
    {
      "cell_type": "code",
      "source": [
        "# cargo las librerias que necesito\n",
        "require(\"data.table\")\n",
        "require(\"rpart\")\n",
        "require(\"parallel\")\n",
        "\n",
        "if (!require(\"primes\")) install.packages(\"primes\")\n",
        "require(\"primes\")"
      ],
      "metadata": {
        "id": "CRkZ1V2_GimR"
      },
      "execution_count": 31,
      "outputs": []
    },
    {
      "cell_type": "markdown",
      "source": [
        "###  Accion a Realizar\n",
        "PARAM$semilla_primigenia  debe reemplazarse por SU primer semilla"
      ],
      "metadata": {
        "id": "PZKJG-nSGimR"
      }
    },
    {
      "cell_type": "code",
      "source": [
        "PARAM <- list()\n",
        "PARAM$semilla_primigenia <- 200003\n",
        "PARAM$qsemillas <- 50\n",
        "PARAM$training_pct <- 70L  # entre  1L y 99L\n",
        "\n",
        "PARAM$rpart <- list (\n",
        "  \"cp\" = -1, # complejidad minima\n",
        "  \"minsplit\" = 170, # minima cantidad de regs en un nodo para hacer el split\n",
        "  \"minbucket\" = 70, # minima cantidad de regs en una hoja\n",
        "  \"maxdepth\" = 7 # profundidad máxima del arbol\n",
        ")\n"
      ],
      "metadata": {
        "id": "4kbkA-2HGimR"
      },
      "execution_count": 32,
      "outputs": []
    },
    {
      "cell_type": "code",
      "source": [
        "# particionar agrega una columna llamada fold a un dataset\n",
        "#  que consiste en una particion estratificada segun agrupa\n",
        "\n",
        "# particionar( data=dataset, division=c(70,30),\n",
        "#  agrupa=clase_ternaria, seed=semilla)   crea una particion 70, 30\n",
        "\n",
        "particionar <- function(\n",
        "    data, division, agrupa = \"\",\n",
        "    campo = \"fold\", start = 1, seed = NA) {\n",
        "  if (!is.na(seed)) set.seed(seed)\n",
        "\n",
        "  bloque <- unlist(mapply(function(x, y) {\n",
        "    rep(y, x)\n",
        "  }, division, seq(from = start, length.out = length(division))))\n",
        "\n",
        "  data[, (campo) := sample(rep(bloque, ceiling(.N / length(bloque))))[1:.N],\n",
        "    by = agrupa\n",
        "  ]\n",
        "}\n"
      ],
      "metadata": {
        "id": "HME0qUeOGimS"
      },
      "execution_count": 33,
      "outputs": []
    },
    {
      "cell_type": "code",
      "source": [
        "\n",
        "ArbolEstimarGanancia <- function(semilla, param_basicos) {\n",
        "  # particiono estratificadamente el dataset\n",
        "  particionar(dataset,\n",
        "    division = c(param_basicos$training_pct, 100L -param_basicos$training_pct),\n",
        "    agrupa = \"clase_ternaria\",\n",
        "    seed = semilla # aqui se usa SU semilla\n",
        "  )\n",
        "\n",
        "  # genero el modelo\n",
        "  # predecir clase_ternaria a partir del resto\n",
        "  modelo <- rpart(\"clase_ternaria ~ .\",\n",
        "    data = dataset[fold == 1], # fold==1  es training,  el 70% de los datos\n",
        "    xval = 0,\n",
        "    control = param_basicos$rpart\n",
        "  ) # aqui van los parametros del arbol\n",
        "\n",
        "  # aplico el modelo a los datos de testing\n",
        "  prediccion <- predict(modelo, # el modelo que genere recien\n",
        "    dataset[fold == 2], # fold==2  es testing, el 30% de los datos\n",
        "    type = \"prob\"\n",
        "  ) # type= \"prob\"  es que devuelva la probabilidad\n",
        "\n",
        "  # prediccion es una matriz con TRES columnas,\n",
        "  #  llamadas \"BAJA+1\", \"BAJA+2\"  y \"CONTINUA\"\n",
        "  # cada columna es el vector de probabilidades\n",
        "\n",
        "\n",
        "  # calculo la ganancia en testing  qu es fold==2\n",
        "  ganancia_test <- dataset[\n",
        "    fold == 2,\n",
        "    sum(ifelse(prediccion[, \"BAJA+2\"] > 0.025,\n",
        "      ifelse(clase_ternaria == \"BAJA+2\", 117000, -3000),\n",
        "      0\n",
        "    ))\n",
        "  ]\n",
        "\n",
        "  # escalo la ganancia como si fuera todo el dataset\n",
        "  ganancia_test_normalizada <- ganancia_test / (( 100 - PARAM$training_pct ) / 100 )\n",
        "\n",
        "  return(list(\n",
        "    \"semilla\" = semilla,\n",
        "    \"testing\" = dataset[fold == 2, .N],\n",
        "    \"testing_pos\" = dataset[fold == 2 & clase_ternaria == \"BAJA+2\", .N],\n",
        "    \"envios\" = dataset[fold == 2, sum(prediccion[, \"BAJA+2\"] > 0.025)],\n",
        "    \"aciertos\" = dataset[\n",
        "        fold == 2,\n",
        "        sum(prediccion[, \"BAJA+2\"] > 0.025 & clase_ternaria == \"BAJA+2\")\n",
        "    ],\n",
        "    \"ganancia_test\" = ganancia_test_normalizada\n",
        "  ))\n",
        "}\n"
      ],
      "metadata": {
        "id": "ro9Ufoi-GimS"
      },
      "execution_count": 34,
      "outputs": []
    },
    {
      "cell_type": "code",
      "source": [
        "# carpeta de trabajo\n",
        "setwd(\"/content/buckets/b1/exp\")\n",
        "experimento <- \"exp204\"\n",
        "dir.create(experimento, showWarnings=FALSE)\n",
        "setwd( paste0(\"/content/buckets/b1/exp/\", experimento ))"
      ],
      "metadata": {
        "id": "gz7LgltwGimT"
      },
      "execution_count": 35,
      "outputs": []
    },
    {
      "cell_type": "code",
      "source": [
        "# lectura del dataset\n",
        "dataset <- fread(\"/content/datasets/dataset_pequeno.csv\")\n",
        "\n",
        "# trabajo solo con los datos con clase, es decir 202107\n",
        "dataset <- dataset[clase_ternaria != \"\"]"
      ],
      "metadata": {
        "id": "xRXKHeLeGimT"
      },
      "execution_count": 36,
      "outputs": []
    },
    {
      "cell_type": "code",
      "source": [
        "# genero numeros primos\n",
        "primos <- generate_primes(min = 100000, max = 1000000)\n",
        "set.seed(PARAM$semilla_primigenia) # inicializo\n",
        "\n",
        "# me quedo con PARAM$qsemillas   semillas\n",
        "PARAM$semillas <- sample(primos, PARAM$qsemillas )"
      ],
      "metadata": {
        "id": "MdpZ10qiHSZy"
      },
      "execution_count": 37,
      "outputs": []
    },
    {
      "cell_type": "code",
      "source": [
        "\n",
        "# la funcion mcmapply  llama a la funcion ArbolEstimarGanancia\n",
        "#  tantas veces como valores tenga el vector  PARAM$semillas\n",
        "salidas <- mcmapply(ArbolEstimarGanancia,\n",
        "  PARAM$semillas, # paso el vector de semillas\n",
        "  MoreArgs = list(PARAM), # aqui paso el segundo parametro\n",
        "  SIMPLIFY = FALSE,\n",
        "  mc.cores = detectCores()\n",
        ")\n",
        "\n",
        "# muestro la lista de las salidas en testing\n",
        "#  para la particion realizada con cada semilla\n",
        "salidas\n"
      ],
      "metadata": {
        "id": "r-YaawpgGimU",
        "colab": {
          "base_uri": "https://localhost:8080/",
          "height": 1000
        },
        "outputId": "34fcd4e4-8a44-41b8-f594-a319cc0763f8"
      },
      "execution_count": 38,
      "outputs": [
        {
          "output_type": "display_data",
          "data": {
            "text/html": [
              "<ol>\n",
              "\t<li><dl>\n",
              "\t<dt>$semilla</dt>\n",
              "\t\t<dd>590819</dd>\n",
              "\t<dt>$testing</dt>\n",
              "\t\t<dd>49378</dd>\n",
              "\t<dt>$testing_pos</dt>\n",
              "\t\t<dd>378</dd>\n",
              "\t<dt>$envios</dt>\n",
              "\t\t<dd>3355</dd>\n",
              "\t<dt>$aciertos</dt>\n",
              "\t\t<dd>201</dd>\n",
              "\t<dt>$ganancia_test</dt>\n",
              "\t\t<dd>46850000</dd>\n",
              "</dl>\n",
              "</li>\n",
              "\t<li><dl>\n",
              "\t<dt>$semilla</dt>\n",
              "\t\t<dd>526937</dd>\n",
              "\t<dt>$testing</dt>\n",
              "\t\t<dd>49388</dd>\n",
              "\t<dt>$testing_pos</dt>\n",
              "\t\t<dd>377</dd>\n",
              "\t<dt>$envios</dt>\n",
              "\t\t<dd>4014</dd>\n",
              "\t<dt>$aciertos</dt>\n",
              "\t\t<dd>210</dd>\n",
              "\t<dt>$ganancia_test</dt>\n",
              "\t\t<dd>43860000</dd>\n",
              "</dl>\n",
              "</li>\n",
              "\t<li><dl>\n",
              "\t<dt>$semilla</dt>\n",
              "\t\t<dd>753937</dd>\n",
              "\t<dt>$testing</dt>\n",
              "\t\t<dd>49380</dd>\n",
              "\t<dt>$testing_pos</dt>\n",
              "\t\t<dd>378</dd>\n",
              "\t<dt>$envios</dt>\n",
              "\t\t<dd>3590</dd>\n",
              "\t<dt>$aciertos</dt>\n",
              "\t\t<dd>224</dd>\n",
              "\t<dt>$ganancia_test</dt>\n",
              "\t\t<dd>53700000</dd>\n",
              "</dl>\n",
              "</li>\n",
              "\t<li><dl>\n",
              "\t<dt>$semilla</dt>\n",
              "\t\t<dd>101173</dd>\n",
              "\t<dt>$testing</dt>\n",
              "\t\t<dd>49378</dd>\n",
              "\t<dt>$testing_pos</dt>\n",
              "\t\t<dd>373</dd>\n",
              "\t<dt>$envios</dt>\n",
              "\t\t<dd>3861</dd>\n",
              "\t<dt>$aciertos</dt>\n",
              "\t\t<dd>209</dd>\n",
              "\t<dt>$ganancia_test</dt>\n",
              "\t\t<dd>44990000</dd>\n",
              "</dl>\n",
              "</li>\n",
              "\t<li><dl>\n",
              "\t<dt>$semilla</dt>\n",
              "\t\t<dd>715727</dd>\n",
              "\t<dt>$testing</dt>\n",
              "\t\t<dd>49388</dd>\n",
              "\t<dt>$testing_pos</dt>\n",
              "\t\t<dd>380</dd>\n",
              "\t<dt>$envios</dt>\n",
              "\t\t<dd>3106</dd>\n",
              "\t<dt>$aciertos</dt>\n",
              "\t\t<dd>205</dd>\n",
              "\t<dt>$ganancia_test</dt>\n",
              "\t\t<dd>50940000</dd>\n",
              "</dl>\n",
              "</li>\n",
              "\t<li><dl>\n",
              "\t<dt>$semilla</dt>\n",
              "\t\t<dd>522959</dd>\n",
              "\t<dt>$testing</dt>\n",
              "\t\t<dd>49378</dd>\n",
              "\t<dt>$testing_pos</dt>\n",
              "\t\t<dd>372</dd>\n",
              "\t<dt>$envios</dt>\n",
              "\t\t<dd>4400</dd>\n",
              "\t<dt>$aciertos</dt>\n",
              "\t\t<dd>226</dd>\n",
              "\t<dt>$ganancia_test</dt>\n",
              "\t\t<dd>46400000</dd>\n",
              "</dl>\n",
              "</li>\n",
              "\t<li><dl>\n",
              "\t<dt>$semilla</dt>\n",
              "\t\t<dd>975883</dd>\n",
              "\t<dt>$testing</dt>\n",
              "\t\t<dd>49371</dd>\n",
              "\t<dt>$testing_pos</dt>\n",
              "\t\t<dd>374</dd>\n",
              "\t<dt>$envios</dt>\n",
              "\t\t<dd>3275</dd>\n",
              "\t<dt>$aciertos</dt>\n",
              "\t\t<dd>189</dd>\n",
              "\t<dt>$ganancia_test</dt>\n",
              "\t\t<dd>42850000</dd>\n",
              "</dl>\n",
              "</li>\n",
              "\t<li><dl>\n",
              "\t<dt>$semilla</dt>\n",
              "\t\t<dd>703657</dd>\n",
              "\t<dt>$testing</dt>\n",
              "\t\t<dd>49394</dd>\n",
              "\t<dt>$testing_pos</dt>\n",
              "\t\t<dd>380</dd>\n",
              "\t<dt>$envios</dt>\n",
              "\t\t<dd>3675</dd>\n",
              "\t<dt>$aciertos</dt>\n",
              "\t\t<dd>238</dd>\n",
              "\t<dt>$ganancia_test</dt>\n",
              "\t\t<dd>58450000</dd>\n",
              "</dl>\n",
              "</li>\n",
              "\t<li><dl>\n",
              "\t<dt>$semilla</dt>\n",
              "\t\t<dd>631469</dd>\n",
              "\t<dt>$testing</dt>\n",
              "\t\t<dd>49374</dd>\n",
              "\t<dt>$testing_pos</dt>\n",
              "\t\t<dd>375</dd>\n",
              "\t<dt>$envios</dt>\n",
              "\t\t<dd>3307</dd>\n",
              "\t<dt>$aciertos</dt>\n",
              "\t\t<dd>205</dd>\n",
              "\t<dt>$ganancia_test</dt>\n",
              "\t\t<dd>48930000</dd>\n",
              "</dl>\n",
              "</li>\n",
              "\t<li><dl>\n",
              "\t<dt>$semilla</dt>\n",
              "\t\t<dd>662617</dd>\n",
              "\t<dt>$testing</dt>\n",
              "\t\t<dd>49379</dd>\n",
              "\t<dt>$testing_pos</dt>\n",
              "\t\t<dd>377</dd>\n",
              "\t<dt>$envios</dt>\n",
              "\t\t<dd>3438</dd>\n",
              "\t<dt>$aciertos</dt>\n",
              "\t\t<dd>190</dd>\n",
              "\t<dt>$ganancia_test</dt>\n",
              "\t\t<dd>41620000</dd>\n",
              "</dl>\n",
              "</li>\n",
              "\t<li><dl>\n",
              "\t<dt>$semilla</dt>\n",
              "\t\t<dd>552031</dd>\n",
              "\t<dt>$testing</dt>\n",
              "\t\t<dd>49379</dd>\n",
              "\t<dt>$testing_pos</dt>\n",
              "\t\t<dd>375</dd>\n",
              "\t<dt>$envios</dt>\n",
              "\t\t<dd>3977</dd>\n",
              "\t<dt>$aciertos</dt>\n",
              "\t\t<dd>221</dd>\n",
              "\t<dt>$ganancia_test</dt>\n",
              "\t\t<dd>48630000</dd>\n",
              "</dl>\n",
              "</li>\n",
              "\t<li><dl>\n",
              "\t<dt>$semilla</dt>\n",
              "\t\t<dd>195281</dd>\n",
              "\t<dt>$testing</dt>\n",
              "\t\t<dd>49377</dd>\n",
              "\t<dt>$testing_pos</dt>\n",
              "\t\t<dd>378</dd>\n",
              "\t<dt>$envios</dt>\n",
              "\t\t<dd>3723</dd>\n",
              "\t<dt>$aciertos</dt>\n",
              "\t\t<dd>208</dd>\n",
              "\t<dt>$ganancia_test</dt>\n",
              "\t\t<dd>45970000</dd>\n",
              "</dl>\n",
              "</li>\n",
              "\t<li><dl>\n",
              "\t<dt>$semilla</dt>\n",
              "\t\t<dd>326999</dd>\n",
              "\t<dt>$testing</dt>\n",
              "\t\t<dd>49388</dd>\n",
              "\t<dt>$testing_pos</dt>\n",
              "\t\t<dd>377</dd>\n",
              "\t<dt>$envios</dt>\n",
              "\t\t<dd>3004</dd>\n",
              "\t<dt>$aciertos</dt>\n",
              "\t\t<dd>191</dd>\n",
              "\t<dt>$ganancia_test</dt>\n",
              "\t\t<dd>46360000</dd>\n",
              "</dl>\n",
              "</li>\n",
              "\t<li><dl>\n",
              "\t<dt>$semilla</dt>\n",
              "\t\t<dd>452269</dd>\n",
              "\t<dt>$testing</dt>\n",
              "\t\t<dd>49374</dd>\n",
              "\t<dt>$testing_pos</dt>\n",
              "\t\t<dd>372</dd>\n",
              "\t<dt>$envios</dt>\n",
              "\t\t<dd>2966</dd>\n",
              "\t<dt>$aciertos</dt>\n",
              "\t\t<dd>207</dd>\n",
              "\t<dt>$ganancia_test</dt>\n",
              "\t\t<dd>53140000</dd>\n",
              "</dl>\n",
              "</li>\n",
              "\t<li><dl>\n",
              "\t<dt>$semilla</dt>\n",
              "\t\t<dd>576221</dd>\n",
              "\t<dt>$testing</dt>\n",
              "\t\t<dd>49382</dd>\n",
              "\t<dt>$testing_pos</dt>\n",
              "\t\t<dd>372</dd>\n",
              "\t<dt>$envios</dt>\n",
              "\t\t<dd>4272</dd>\n",
              "\t<dt>$aciertos</dt>\n",
              "\t\t<dd>225</dd>\n",
              "\t<dt>$ganancia_test</dt>\n",
              "\t\t<dd>47280000</dd>\n",
              "</dl>\n",
              "</li>\n",
              "\t<li><dl>\n",
              "\t<dt>$semilla</dt>\n",
              "\t\t<dd>293729</dd>\n",
              "\t<dt>$testing</dt>\n",
              "\t\t<dd>49374</dd>\n",
              "\t<dt>$testing_pos</dt>\n",
              "\t\t<dd>374</dd>\n",
              "\t<dt>$envios</dt>\n",
              "\t\t<dd>3955</dd>\n",
              "\t<dt>$aciertos</dt>\n",
              "\t\t<dd>216</dd>\n",
              "\t<dt>$ganancia_test</dt>\n",
              "\t\t<dd>46850000</dd>\n",
              "</dl>\n",
              "</li>\n",
              "\t<li><dl>\n",
              "\t<dt>$semilla</dt>\n",
              "\t\t<dd>658079</dd>\n",
              "\t<dt>$testing</dt>\n",
              "\t\t<dd>49380</dd>\n",
              "\t<dt>$testing_pos</dt>\n",
              "\t\t<dd>371</dd>\n",
              "\t<dt>$envios</dt>\n",
              "\t\t<dd>3721</dd>\n",
              "\t<dt>$aciertos</dt>\n",
              "\t\t<dd>195</dd>\n",
              "\t<dt>$ganancia_test</dt>\n",
              "\t\t<dd>40790000</dd>\n",
              "</dl>\n",
              "</li>\n",
              "\t<li><dl>\n",
              "\t<dt>$semilla</dt>\n",
              "\t\t<dd>341461</dd>\n",
              "\t<dt>$testing</dt>\n",
              "\t\t<dd>49362</dd>\n",
              "\t<dt>$testing_pos</dt>\n",
              "\t\t<dd>371</dd>\n",
              "\t<dt>$envios</dt>\n",
              "\t\t<dd>3551</dd>\n",
              "\t<dt>$aciertos</dt>\n",
              "\t\t<dd>209</dd>\n",
              "\t<dt>$ganancia_test</dt>\n",
              "\t\t<dd>48090000</dd>\n",
              "</dl>\n",
              "</li>\n",
              "\t<li><dl>\n",
              "\t<dt>$semilla</dt>\n",
              "\t\t<dd>193873</dd>\n",
              "\t<dt>$testing</dt>\n",
              "\t\t<dd>49388</dd>\n",
              "\t<dt>$testing_pos</dt>\n",
              "\t\t<dd>373</dd>\n",
              "\t<dt>$envios</dt>\n",
              "\t\t<dd>3396</dd>\n",
              "\t<dt>$aciertos</dt>\n",
              "\t\t<dd>209</dd>\n",
              "\t<dt>$ganancia_test</dt>\n",
              "\t\t<dd>49640000</dd>\n",
              "</dl>\n",
              "</li>\n",
              "\t<li><dl>\n",
              "\t<dt>$semilla</dt>\n",
              "\t\t<dd>961139</dd>\n",
              "\t<dt>$testing</dt>\n",
              "\t\t<dd>49386</dd>\n",
              "\t<dt>$testing_pos</dt>\n",
              "\t\t<dd>374</dd>\n",
              "\t<dt>$envios</dt>\n",
              "\t\t<dd>4080</dd>\n",
              "\t<dt>$aciertos</dt>\n",
              "\t\t<dd>220</dd>\n",
              "\t<dt>$ganancia_test</dt>\n",
              "\t\t<dd>47200000</dd>\n",
              "</dl>\n",
              "</li>\n",
              "\t<li><dl>\n",
              "\t<dt>$semilla</dt>\n",
              "\t\t<dd>754513</dd>\n",
              "\t<dt>$testing</dt>\n",
              "\t\t<dd>49382</dd>\n",
              "\t<dt>$testing_pos</dt>\n",
              "\t\t<dd>377</dd>\n",
              "\t<dt>$envios</dt>\n",
              "\t\t<dd>3587</dd>\n",
              "\t<dt>$aciertos</dt>\n",
              "\t\t<dd>199</dd>\n",
              "\t<dt>$ganancia_test</dt>\n",
              "\t\t<dd>43730000</dd>\n",
              "</dl>\n",
              "</li>\n",
              "\t<li><dl>\n",
              "\t<dt>$semilla</dt>\n",
              "\t\t<dd>856759</dd>\n",
              "\t<dt>$testing</dt>\n",
              "\t\t<dd>49387</dd>\n",
              "\t<dt>$testing_pos</dt>\n",
              "\t\t<dd>372</dd>\n",
              "\t<dt>$envios</dt>\n",
              "\t\t<dd>3144</dd>\n",
              "\t<dt>$aciertos</dt>\n",
              "\t\t<dd>203</dd>\n",
              "\t<dt>$ganancia_test</dt>\n",
              "\t\t<dd>49760000</dd>\n",
              "</dl>\n",
              "</li>\n",
              "\t<li><dl>\n",
              "\t<dt>$semilla</dt>\n",
              "\t\t<dd>402307</dd>\n",
              "\t<dt>$testing</dt>\n",
              "\t\t<dd>49381</dd>\n",
              "\t<dt>$testing_pos</dt>\n",
              "\t\t<dd>374</dd>\n",
              "\t<dt>$envios</dt>\n",
              "\t\t<dd>2864</dd>\n",
              "\t<dt>$aciertos</dt>\n",
              "\t\t<dd>206</dd>\n",
              "\t<dt>$ganancia_test</dt>\n",
              "\t\t<dd>53760000</dd>\n",
              "</dl>\n",
              "</li>\n",
              "\t<li><dl>\n",
              "\t<dt>$semilla</dt>\n",
              "\t\t<dd>706417</dd>\n",
              "\t<dt>$testing</dt>\n",
              "\t\t<dd>49379</dd>\n",
              "\t<dt>$testing_pos</dt>\n",
              "\t\t<dd>380</dd>\n",
              "\t<dt>$envios</dt>\n",
              "\t\t<dd>3403</dd>\n",
              "\t<dt>$aciertos</dt>\n",
              "\t\t<dd>197</dd>\n",
              "\t<dt>$ganancia_test</dt>\n",
              "\t\t<dd>44770000</dd>\n",
              "</dl>\n",
              "</li>\n",
              "\t<li><dl>\n",
              "\t<dt>$semilla</dt>\n",
              "\t\t<dd>586457</dd>\n",
              "\t<dt>$testing</dt>\n",
              "\t\t<dd>49388</dd>\n",
              "\t<dt>$testing_pos</dt>\n",
              "\t\t<dd>374</dd>\n",
              "\t<dt>$envios</dt>\n",
              "\t\t<dd>4436</dd>\n",
              "\t<dt>$aciertos</dt>\n",
              "\t\t<dd>235</dd>\n",
              "\t<dt>$ganancia_test</dt>\n",
              "\t\t<dd>49640000</dd>\n",
              "</dl>\n",
              "</li>\n",
              "\t<li><dl>\n",
              "\t<dt>$semilla</dt>\n",
              "\t\t<dd>260461</dd>\n",
              "\t<dt>$testing</dt>\n",
              "\t\t<dd>49391</dd>\n",
              "\t<dt>$testing_pos</dt>\n",
              "\t\t<dd>375</dd>\n",
              "\t<dt>$envios</dt>\n",
              "\t\t<dd>2500</dd>\n",
              "\t<dt>$aciertos</dt>\n",
              "\t\t<dd>176</dd>\n",
              "\t<dt>$ganancia_test</dt>\n",
              "\t\t<dd>45400000</dd>\n",
              "</dl>\n",
              "</li>\n",
              "\t<li><dl>\n",
              "\t<dt>$semilla</dt>\n",
              "\t\t<dd>808373</dd>\n",
              "\t<dt>$testing</dt>\n",
              "\t\t<dd>49374</dd>\n",
              "\t<dt>$testing_pos</dt>\n",
              "\t\t<dd>374</dd>\n",
              "\t<dt>$envios</dt>\n",
              "\t\t<dd>3241</dd>\n",
              "\t<dt>$aciertos</dt>\n",
              "\t\t<dd>197</dd>\n",
              "\t<dt>$ganancia_test</dt>\n",
              "\t\t<dd>46390000</dd>\n",
              "</dl>\n",
              "</li>\n",
              "\t<li><dl>\n",
              "\t<dt>$semilla</dt>\n",
              "\t\t<dd>986933</dd>\n",
              "\t<dt>$testing</dt>\n",
              "\t\t<dd>49382</dd>\n",
              "\t<dt>$testing_pos</dt>\n",
              "\t\t<dd>376</dd>\n",
              "\t<dt>$envios</dt>\n",
              "\t\t<dd>2844</dd>\n",
              "\t<dt>$aciertos</dt>\n",
              "\t\t<dd>175</dd>\n",
              "\t<dt>$ganancia_test</dt>\n",
              "\t\t<dd>41560000</dd>\n",
              "</dl>\n",
              "</li>\n",
              "\t<li><dl>\n",
              "\t<dt>$semilla</dt>\n",
              "\t\t<dd>251879</dd>\n",
              "\t<dt>$testing</dt>\n",
              "\t\t<dd>49383</dd>\n",
              "\t<dt>$testing_pos</dt>\n",
              "\t\t<dd>375</dd>\n",
              "\t<dt>$envios</dt>\n",
              "\t\t<dd>2758</dd>\n",
              "\t<dt>$aciertos</dt>\n",
              "\t\t<dd>193</dd>\n",
              "\t<dt>$ganancia_test</dt>\n",
              "\t\t<dd>49620000</dd>\n",
              "</dl>\n",
              "</li>\n",
              "\t<li><dl>\n",
              "\t<dt>$semilla</dt>\n",
              "\t\t<dd>829453</dd>\n",
              "\t<dt>$testing</dt>\n",
              "\t\t<dd>49373</dd>\n",
              "\t<dt>$testing_pos</dt>\n",
              "\t\t<dd>374</dd>\n",
              "\t<dt>$envios</dt>\n",
              "\t\t<dd>2841</dd>\n",
              "\t<dt>$aciertos</dt>\n",
              "\t\t<dd>186</dd>\n",
              "\t<dt>$ganancia_test</dt>\n",
              "\t\t<dd>45990000</dd>\n",
              "</dl>\n",
              "</li>\n",
              "\t<li><dl>\n",
              "\t<dt>$semilla</dt>\n",
              "\t\t<dd>208189</dd>\n",
              "\t<dt>$testing</dt>\n",
              "\t\t<dd>49385</dd>\n",
              "\t<dt>$testing_pos</dt>\n",
              "\t\t<dd>377</dd>\n",
              "\t<dt>$envios</dt>\n",
              "\t\t<dd>3342</dd>\n",
              "\t<dt>$aciertos</dt>\n",
              "\t\t<dd>206</dd>\n",
              "\t<dt>$ganancia_test</dt>\n",
              "\t\t<dd>48980000</dd>\n",
              "</dl>\n",
              "</li>\n",
              "\t<li><dl>\n",
              "\t<dt>$semilla</dt>\n",
              "\t\t<dd>690721</dd>\n",
              "\t<dt>$testing</dt>\n",
              "\t\t<dd>49384</dd>\n",
              "\t<dt>$testing_pos</dt>\n",
              "\t\t<dd>377</dd>\n",
              "\t<dt>$envios</dt>\n",
              "\t\t<dd>2699</dd>\n",
              "\t<dt>$aciertos</dt>\n",
              "\t\t<dd>199</dd>\n",
              "\t<dt>$ganancia_test</dt>\n",
              "\t\t<dd>52610000</dd>\n",
              "</dl>\n",
              "</li>\n",
              "\t<li><dl>\n",
              "\t<dt>$semilla</dt>\n",
              "\t\t<dd>658117</dd>\n",
              "\t<dt>$testing</dt>\n",
              "\t\t<dd>49384</dd>\n",
              "\t<dt>$testing_pos</dt>\n",
              "\t\t<dd>376</dd>\n",
              "\t<dt>$envios</dt>\n",
              "\t\t<dd>3746</dd>\n",
              "\t<dt>$aciertos</dt>\n",
              "\t\t<dd>228</dd>\n",
              "\t<dt>$ganancia_test</dt>\n",
              "\t\t<dd>53740000</dd>\n",
              "</dl>\n",
              "</li>\n",
              "\t<li><dl>\n",
              "\t<dt>$semilla</dt>\n",
              "\t\t<dd>885509</dd>\n",
              "\t<dt>$testing</dt>\n",
              "\t\t<dd>49373</dd>\n",
              "\t<dt>$testing_pos</dt>\n",
              "\t\t<dd>374</dd>\n",
              "\t<dt>$envios</dt>\n",
              "\t\t<dd>3536</dd>\n",
              "\t<dt>$aciertos</dt>\n",
              "\t\t<dd>219</dd>\n",
              "\t<dt>$ganancia_test</dt>\n",
              "\t\t<dd>52240000</dd>\n",
              "</dl>\n",
              "</li>\n",
              "\t<li><dl>\n",
              "\t<dt>$semilla</dt>\n",
              "\t\t<dd>816019</dd>\n",
              "\t<dt>$testing</dt>\n",
              "\t\t<dd>49369</dd>\n",
              "\t<dt>$testing_pos</dt>\n",
              "\t\t<dd>375</dd>\n",
              "\t<dt>$envios</dt>\n",
              "\t\t<dd>3403</dd>\n",
              "\t<dt>$aciertos</dt>\n",
              "\t\t<dd>202</dd>\n",
              "\t<dt>$ganancia_test</dt>\n",
              "\t\t<dd>46770000</dd>\n",
              "</dl>\n",
              "</li>\n",
              "\t<li><dl>\n",
              "\t<dt>$semilla</dt>\n",
              "\t\t<dd>526739</dd>\n",
              "\t<dt>$testing</dt>\n",
              "\t\t<dd>49373</dd>\n",
              "\t<dt>$testing_pos</dt>\n",
              "\t\t<dd>378</dd>\n",
              "\t<dt>$envios</dt>\n",
              "\t\t<dd>3844</dd>\n",
              "\t<dt>$aciertos</dt>\n",
              "\t\t<dd>223</dd>\n",
              "\t<dt>$ganancia_test</dt>\n",
              "\t\t<dd>50760000</dd>\n",
              "</dl>\n",
              "</li>\n",
              "\t<li><dl>\n",
              "\t<dt>$semilla</dt>\n",
              "\t\t<dd>236471</dd>\n",
              "\t<dt>$testing</dt>\n",
              "\t\t<dd>49393</dd>\n",
              "\t<dt>$testing_pos</dt>\n",
              "\t\t<dd>382</dd>\n",
              "\t<dt>$envios</dt>\n",
              "\t\t<dd>2693</dd>\n",
              "\t<dt>$aciertos</dt>\n",
              "\t\t<dd>188</dd>\n",
              "\t<dt>$ganancia_test</dt>\n",
              "\t\t<dd>48270000</dd>\n",
              "</dl>\n",
              "</li>\n",
              "\t<li><dl>\n",
              "\t<dt>$semilla</dt>\n",
              "\t\t<dd>147089</dd>\n",
              "\t<dt>$testing</dt>\n",
              "\t\t<dd>49381</dd>\n",
              "\t<dt>$testing_pos</dt>\n",
              "\t\t<dd>374</dd>\n",
              "\t<dt>$envios</dt>\n",
              "\t\t<dd>2999</dd>\n",
              "\t<dt>$aciertos</dt>\n",
              "\t\t<dd>186</dd>\n",
              "\t<dt>$ganancia_test</dt>\n",
              "\t\t<dd>44410000</dd>\n",
              "</dl>\n",
              "</li>\n",
              "\t<li><dl>\n",
              "\t<dt>$semilla</dt>\n",
              "\t\t<dd>550607</dd>\n",
              "\t<dt>$testing</dt>\n",
              "\t\t<dd>49385</dd>\n",
              "\t<dt>$testing_pos</dt>\n",
              "\t\t<dd>374</dd>\n",
              "\t<dt>$envios</dt>\n",
              "\t\t<dd>3217</dd>\n",
              "\t<dt>$aciertos</dt>\n",
              "\t\t<dd>189</dd>\n",
              "\t<dt>$ganancia_test</dt>\n",
              "\t\t<dd>43430000</dd>\n",
              "</dl>\n",
              "</li>\n",
              "\t<li><dl>\n",
              "\t<dt>$semilla</dt>\n",
              "\t\t<dd>249863</dd>\n",
              "\t<dt>$testing</dt>\n",
              "\t\t<dd>49385</dd>\n",
              "\t<dt>$testing_pos</dt>\n",
              "\t\t<dd>377</dd>\n",
              "\t<dt>$envios</dt>\n",
              "\t\t<dd>3968</dd>\n",
              "\t<dt>$aciertos</dt>\n",
              "\t\t<dd>233</dd>\n",
              "\t<dt>$ganancia_test</dt>\n",
              "\t\t<dd>53520000</dd>\n",
              "</dl>\n",
              "</li>\n",
              "\t<li><dl>\n",
              "\t<dt>$semilla</dt>\n",
              "\t\t<dd>398369</dd>\n",
              "\t<dt>$testing</dt>\n",
              "\t\t<dd>49392</dd>\n",
              "\t<dt>$testing_pos</dt>\n",
              "\t\t<dd>374</dd>\n",
              "\t<dt>$envios</dt>\n",
              "\t\t<dd>3129</dd>\n",
              "\t<dt>$aciertos</dt>\n",
              "\t\t<dd>179</dd>\n",
              "\t<dt>$ganancia_test</dt>\n",
              "\t\t<dd>40310000</dd>\n",
              "</dl>\n",
              "</li>\n",
              "\t<li><dl>\n",
              "\t<dt>$semilla</dt>\n",
              "\t\t<dd>866857</dd>\n",
              "\t<dt>$testing</dt>\n",
              "\t\t<dd>49384</dd>\n",
              "\t<dt>$testing_pos</dt>\n",
              "\t\t<dd>372</dd>\n",
              "\t<dt>$envios</dt>\n",
              "\t\t<dd>3098</dd>\n",
              "\t<dt>$aciertos</dt>\n",
              "\t\t<dd>196</dd>\n",
              "\t<dt>$ganancia_test</dt>\n",
              "\t\t<dd>47420000</dd>\n",
              "</dl>\n",
              "</li>\n",
              "\t<li><dl>\n",
              "\t<dt>$semilla</dt>\n",
              "\t\t<dd>864781</dd>\n",
              "\t<dt>$testing</dt>\n",
              "\t\t<dd>49370</dd>\n",
              "\t<dt>$testing_pos</dt>\n",
              "\t\t<dd>375</dd>\n",
              "\t<dt>$envios</dt>\n",
              "\t\t<dd>3517</dd>\n",
              "\t<dt>$aciertos</dt>\n",
              "\t\t<dd>215</dd>\n",
              "\t<dt>$ganancia_test</dt>\n",
              "\t\t<dd>50830000</dd>\n",
              "</dl>\n",
              "</li>\n",
              "\t<li><dl>\n",
              "\t<dt>$semilla</dt>\n",
              "\t\t<dd>518831</dd>\n",
              "\t<dt>$testing</dt>\n",
              "\t\t<dd>49370</dd>\n",
              "\t<dt>$testing_pos</dt>\n",
              "\t\t<dd>376</dd>\n",
              "\t<dt>$envios</dt>\n",
              "\t\t<dd>3394</dd>\n",
              "\t<dt>$aciertos</dt>\n",
              "\t\t<dd>216</dd>\n",
              "\t<dt>$ganancia_test</dt>\n",
              "\t\t<dd>52460000</dd>\n",
              "</dl>\n",
              "</li>\n",
              "\t<li><dl>\n",
              "\t<dt>$semilla</dt>\n",
              "\t\t<dd>170081</dd>\n",
              "\t<dt>$testing</dt>\n",
              "\t\t<dd>49369</dd>\n",
              "\t<dt>$testing_pos</dt>\n",
              "\t\t<dd>379</dd>\n",
              "\t<dt>$envios</dt>\n",
              "\t\t<dd>3157</dd>\n",
              "\t<dt>$aciertos</dt>\n",
              "\t\t<dd>191</dd>\n",
              "\t<dt>$ganancia_test</dt>\n",
              "\t\t<dd>44830000</dd>\n",
              "</dl>\n",
              "</li>\n",
              "\t<li><dl>\n",
              "\t<dt>$semilla</dt>\n",
              "\t\t<dd>111653</dd>\n",
              "\t<dt>$testing</dt>\n",
              "\t\t<dd>49367</dd>\n",
              "\t<dt>$testing_pos</dt>\n",
              "\t\t<dd>364</dd>\n",
              "\t<dt>$envios</dt>\n",
              "\t\t<dd>3549</dd>\n",
              "\t<dt>$aciertos</dt>\n",
              "\t\t<dd>192</dd>\n",
              "\t<dt>$ganancia_test</dt>\n",
              "\t\t<dd>41310000</dd>\n",
              "</dl>\n",
              "</li>\n",
              "\t<li><dl>\n",
              "\t<dt>$semilla</dt>\n",
              "\t\t<dd>157627</dd>\n",
              "\t<dt>$testing</dt>\n",
              "\t\t<dd>49369</dd>\n",
              "\t<dt>$testing_pos</dt>\n",
              "\t\t<dd>368</dd>\n",
              "\t<dt>$envios</dt>\n",
              "\t\t<dd>3591</dd>\n",
              "\t<dt>$aciertos</dt>\n",
              "\t\t<dd>207</dd>\n",
              "\t<dt>$ganancia_test</dt>\n",
              "\t\t<dd>46890000</dd>\n",
              "</dl>\n",
              "</li>\n",
              "\t<li><dl>\n",
              "\t<dt>$semilla</dt>\n",
              "\t\t<dd>381569</dd>\n",
              "\t<dt>$testing</dt>\n",
              "\t\t<dd>49379</dd>\n",
              "\t<dt>$testing_pos</dt>\n",
              "\t\t<dd>378</dd>\n",
              "\t<dt>$envios</dt>\n",
              "\t\t<dd>3397</dd>\n",
              "\t<dt>$aciertos</dt>\n",
              "\t\t<dd>203</dd>\n",
              "\t<dt>$ganancia_test</dt>\n",
              "\t\t<dd>47230000</dd>\n",
              "</dl>\n",
              "</li>\n",
              "\t<li><dl>\n",
              "\t<dt>$semilla</dt>\n",
              "\t\t<dd>674903</dd>\n",
              "\t<dt>$testing</dt>\n",
              "\t\t<dd>49362</dd>\n",
              "\t<dt>$testing_pos</dt>\n",
              "\t\t<dd>370</dd>\n",
              "\t<dt>$envios</dt>\n",
              "\t\t<dd>3337</dd>\n",
              "\t<dt>$aciertos</dt>\n",
              "\t\t<dd>216</dd>\n",
              "\t<dt>$ganancia_test</dt>\n",
              "\t\t<dd>53030000</dd>\n",
              "</dl>\n",
              "</li>\n",
              "\t<li><dl>\n",
              "\t<dt>$semilla</dt>\n",
              "\t\t<dd>858503</dd>\n",
              "\t<dt>$testing</dt>\n",
              "\t\t<dd>49391</dd>\n",
              "\t<dt>$testing_pos</dt>\n",
              "\t\t<dd>380</dd>\n",
              "\t<dt>$envios</dt>\n",
              "\t\t<dd>3216</dd>\n",
              "\t<dt>$aciertos</dt>\n",
              "\t\t<dd>189</dd>\n",
              "\t<dt>$ganancia_test</dt>\n",
              "\t\t<dd>43440000</dd>\n",
              "</dl>\n",
              "</li>\n",
              "</ol>\n"
            ],
            "text/markdown": "1. $semilla\n:   590819\n$testing\n:   49378\n$testing_pos\n:   378\n$envios\n:   3355\n$aciertos\n:   201\n$ganancia_test\n:   46850000\n\n\n\n2. $semilla\n:   526937\n$testing\n:   49388\n$testing_pos\n:   377\n$envios\n:   4014\n$aciertos\n:   210\n$ganancia_test\n:   43860000\n\n\n\n3. $semilla\n:   753937\n$testing\n:   49380\n$testing_pos\n:   378\n$envios\n:   3590\n$aciertos\n:   224\n$ganancia_test\n:   53700000\n\n\n\n4. $semilla\n:   101173\n$testing\n:   49378\n$testing_pos\n:   373\n$envios\n:   3861\n$aciertos\n:   209\n$ganancia_test\n:   44990000\n\n\n\n5. $semilla\n:   715727\n$testing\n:   49388\n$testing_pos\n:   380\n$envios\n:   3106\n$aciertos\n:   205\n$ganancia_test\n:   50940000\n\n\n\n6. $semilla\n:   522959\n$testing\n:   49378\n$testing_pos\n:   372\n$envios\n:   4400\n$aciertos\n:   226\n$ganancia_test\n:   46400000\n\n\n\n7. $semilla\n:   975883\n$testing\n:   49371\n$testing_pos\n:   374\n$envios\n:   3275\n$aciertos\n:   189\n$ganancia_test\n:   42850000\n\n\n\n8. $semilla\n:   703657\n$testing\n:   49394\n$testing_pos\n:   380\n$envios\n:   3675\n$aciertos\n:   238\n$ganancia_test\n:   58450000\n\n\n\n9. $semilla\n:   631469\n$testing\n:   49374\n$testing_pos\n:   375\n$envios\n:   3307\n$aciertos\n:   205\n$ganancia_test\n:   48930000\n\n\n\n10. $semilla\n:   662617\n$testing\n:   49379\n$testing_pos\n:   377\n$envios\n:   3438\n$aciertos\n:   190\n$ganancia_test\n:   41620000\n\n\n\n11. $semilla\n:   552031\n$testing\n:   49379\n$testing_pos\n:   375\n$envios\n:   3977\n$aciertos\n:   221\n$ganancia_test\n:   48630000\n\n\n\n12. $semilla\n:   195281\n$testing\n:   49377\n$testing_pos\n:   378\n$envios\n:   3723\n$aciertos\n:   208\n$ganancia_test\n:   45970000\n\n\n\n13. $semilla\n:   326999\n$testing\n:   49388\n$testing_pos\n:   377\n$envios\n:   3004\n$aciertos\n:   191\n$ganancia_test\n:   46360000\n\n\n\n14. $semilla\n:   452269\n$testing\n:   49374\n$testing_pos\n:   372\n$envios\n:   2966\n$aciertos\n:   207\n$ganancia_test\n:   53140000\n\n\n\n15. $semilla\n:   576221\n$testing\n:   49382\n$testing_pos\n:   372\n$envios\n:   4272\n$aciertos\n:   225\n$ganancia_test\n:   47280000\n\n\n\n16. $semilla\n:   293729\n$testing\n:   49374\n$testing_pos\n:   374\n$envios\n:   3955\n$aciertos\n:   216\n$ganancia_test\n:   46850000\n\n\n\n17. $semilla\n:   658079\n$testing\n:   49380\n$testing_pos\n:   371\n$envios\n:   3721\n$aciertos\n:   195\n$ganancia_test\n:   40790000\n\n\n\n18. $semilla\n:   341461\n$testing\n:   49362\n$testing_pos\n:   371\n$envios\n:   3551\n$aciertos\n:   209\n$ganancia_test\n:   48090000\n\n\n\n19. $semilla\n:   193873\n$testing\n:   49388\n$testing_pos\n:   373\n$envios\n:   3396\n$aciertos\n:   209\n$ganancia_test\n:   49640000\n\n\n\n20. $semilla\n:   961139\n$testing\n:   49386\n$testing_pos\n:   374\n$envios\n:   4080\n$aciertos\n:   220\n$ganancia_test\n:   47200000\n\n\n\n21. $semilla\n:   754513\n$testing\n:   49382\n$testing_pos\n:   377\n$envios\n:   3587\n$aciertos\n:   199\n$ganancia_test\n:   43730000\n\n\n\n22. $semilla\n:   856759\n$testing\n:   49387\n$testing_pos\n:   372\n$envios\n:   3144\n$aciertos\n:   203\n$ganancia_test\n:   49760000\n\n\n\n23. $semilla\n:   402307\n$testing\n:   49381\n$testing_pos\n:   374\n$envios\n:   2864\n$aciertos\n:   206\n$ganancia_test\n:   53760000\n\n\n\n24. $semilla\n:   706417\n$testing\n:   49379\n$testing_pos\n:   380\n$envios\n:   3403\n$aciertos\n:   197\n$ganancia_test\n:   44770000\n\n\n\n25. $semilla\n:   586457\n$testing\n:   49388\n$testing_pos\n:   374\n$envios\n:   4436\n$aciertos\n:   235\n$ganancia_test\n:   49640000\n\n\n\n26. $semilla\n:   260461\n$testing\n:   49391\n$testing_pos\n:   375\n$envios\n:   2500\n$aciertos\n:   176\n$ganancia_test\n:   45400000\n\n\n\n27. $semilla\n:   808373\n$testing\n:   49374\n$testing_pos\n:   374\n$envios\n:   3241\n$aciertos\n:   197\n$ganancia_test\n:   46390000\n\n\n\n28. $semilla\n:   986933\n$testing\n:   49382\n$testing_pos\n:   376\n$envios\n:   2844\n$aciertos\n:   175\n$ganancia_test\n:   41560000\n\n\n\n29. $semilla\n:   251879\n$testing\n:   49383\n$testing_pos\n:   375\n$envios\n:   2758\n$aciertos\n:   193\n$ganancia_test\n:   49620000\n\n\n\n30. $semilla\n:   829453\n$testing\n:   49373\n$testing_pos\n:   374\n$envios\n:   2841\n$aciertos\n:   186\n$ganancia_test\n:   45990000\n\n\n\n31. $semilla\n:   208189\n$testing\n:   49385\n$testing_pos\n:   377\n$envios\n:   3342\n$aciertos\n:   206\n$ganancia_test\n:   48980000\n\n\n\n32. $semilla\n:   690721\n$testing\n:   49384\n$testing_pos\n:   377\n$envios\n:   2699\n$aciertos\n:   199\n$ganancia_test\n:   52610000\n\n\n\n33. $semilla\n:   658117\n$testing\n:   49384\n$testing_pos\n:   376\n$envios\n:   3746\n$aciertos\n:   228\n$ganancia_test\n:   53740000\n\n\n\n34. $semilla\n:   885509\n$testing\n:   49373\n$testing_pos\n:   374\n$envios\n:   3536\n$aciertos\n:   219\n$ganancia_test\n:   52240000\n\n\n\n35. $semilla\n:   816019\n$testing\n:   49369\n$testing_pos\n:   375\n$envios\n:   3403\n$aciertos\n:   202\n$ganancia_test\n:   46770000\n\n\n\n36. $semilla\n:   526739\n$testing\n:   49373\n$testing_pos\n:   378\n$envios\n:   3844\n$aciertos\n:   223\n$ganancia_test\n:   50760000\n\n\n\n37. $semilla\n:   236471\n$testing\n:   49393\n$testing_pos\n:   382\n$envios\n:   2693\n$aciertos\n:   188\n$ganancia_test\n:   48270000\n\n\n\n38. $semilla\n:   147089\n$testing\n:   49381\n$testing_pos\n:   374\n$envios\n:   2999\n$aciertos\n:   186\n$ganancia_test\n:   44410000\n\n\n\n39. $semilla\n:   550607\n$testing\n:   49385\n$testing_pos\n:   374\n$envios\n:   3217\n$aciertos\n:   189\n$ganancia_test\n:   43430000\n\n\n\n40. $semilla\n:   249863\n$testing\n:   49385\n$testing_pos\n:   377\n$envios\n:   3968\n$aciertos\n:   233\n$ganancia_test\n:   53520000\n\n\n\n41. $semilla\n:   398369\n$testing\n:   49392\n$testing_pos\n:   374\n$envios\n:   3129\n$aciertos\n:   179\n$ganancia_test\n:   40310000\n\n\n\n42. $semilla\n:   866857\n$testing\n:   49384\n$testing_pos\n:   372\n$envios\n:   3098\n$aciertos\n:   196\n$ganancia_test\n:   47420000\n\n\n\n43. $semilla\n:   864781\n$testing\n:   49370\n$testing_pos\n:   375\n$envios\n:   3517\n$aciertos\n:   215\n$ganancia_test\n:   50830000\n\n\n\n44. $semilla\n:   518831\n$testing\n:   49370\n$testing_pos\n:   376\n$envios\n:   3394\n$aciertos\n:   216\n$ganancia_test\n:   52460000\n\n\n\n45. $semilla\n:   170081\n$testing\n:   49369\n$testing_pos\n:   379\n$envios\n:   3157\n$aciertos\n:   191\n$ganancia_test\n:   44830000\n\n\n\n46. $semilla\n:   111653\n$testing\n:   49367\n$testing_pos\n:   364\n$envios\n:   3549\n$aciertos\n:   192\n$ganancia_test\n:   41310000\n\n\n\n47. $semilla\n:   157627\n$testing\n:   49369\n$testing_pos\n:   368\n$envios\n:   3591\n$aciertos\n:   207\n$ganancia_test\n:   46890000\n\n\n\n48. $semilla\n:   381569\n$testing\n:   49379\n$testing_pos\n:   378\n$envios\n:   3397\n$aciertos\n:   203\n$ganancia_test\n:   47230000\n\n\n\n49. $semilla\n:   674903\n$testing\n:   49362\n$testing_pos\n:   370\n$envios\n:   3337\n$aciertos\n:   216\n$ganancia_test\n:   53030000\n\n\n\n50. $semilla\n:   858503\n$testing\n:   49391\n$testing_pos\n:   380\n$envios\n:   3216\n$aciertos\n:   189\n$ganancia_test\n:   43440000\n\n\n\n\n\n",
            "text/latex": "\\begin{enumerate}\n\\item \\begin{description}\n\\item[\\$semilla] 590819\n\\item[\\$testing] 49378\n\\item[\\$testing\\_pos] 378\n\\item[\\$envios] 3355\n\\item[\\$aciertos] 201\n\\item[\\$ganancia\\_test] 46850000\n\\end{description}\n\n\\item \\begin{description}\n\\item[\\$semilla] 526937\n\\item[\\$testing] 49388\n\\item[\\$testing\\_pos] 377\n\\item[\\$envios] 4014\n\\item[\\$aciertos] 210\n\\item[\\$ganancia\\_test] 43860000\n\\end{description}\n\n\\item \\begin{description}\n\\item[\\$semilla] 753937\n\\item[\\$testing] 49380\n\\item[\\$testing\\_pos] 378\n\\item[\\$envios] 3590\n\\item[\\$aciertos] 224\n\\item[\\$ganancia\\_test] 53700000\n\\end{description}\n\n\\item \\begin{description}\n\\item[\\$semilla] 101173\n\\item[\\$testing] 49378\n\\item[\\$testing\\_pos] 373\n\\item[\\$envios] 3861\n\\item[\\$aciertos] 209\n\\item[\\$ganancia\\_test] 44990000\n\\end{description}\n\n\\item \\begin{description}\n\\item[\\$semilla] 715727\n\\item[\\$testing] 49388\n\\item[\\$testing\\_pos] 380\n\\item[\\$envios] 3106\n\\item[\\$aciertos] 205\n\\item[\\$ganancia\\_test] 50940000\n\\end{description}\n\n\\item \\begin{description}\n\\item[\\$semilla] 522959\n\\item[\\$testing] 49378\n\\item[\\$testing\\_pos] 372\n\\item[\\$envios] 4400\n\\item[\\$aciertos] 226\n\\item[\\$ganancia\\_test] 46400000\n\\end{description}\n\n\\item \\begin{description}\n\\item[\\$semilla] 975883\n\\item[\\$testing] 49371\n\\item[\\$testing\\_pos] 374\n\\item[\\$envios] 3275\n\\item[\\$aciertos] 189\n\\item[\\$ganancia\\_test] 42850000\n\\end{description}\n\n\\item \\begin{description}\n\\item[\\$semilla] 703657\n\\item[\\$testing] 49394\n\\item[\\$testing\\_pos] 380\n\\item[\\$envios] 3675\n\\item[\\$aciertos] 238\n\\item[\\$ganancia\\_test] 58450000\n\\end{description}\n\n\\item \\begin{description}\n\\item[\\$semilla] 631469\n\\item[\\$testing] 49374\n\\item[\\$testing\\_pos] 375\n\\item[\\$envios] 3307\n\\item[\\$aciertos] 205\n\\item[\\$ganancia\\_test] 48930000\n\\end{description}\n\n\\item \\begin{description}\n\\item[\\$semilla] 662617\n\\item[\\$testing] 49379\n\\item[\\$testing\\_pos] 377\n\\item[\\$envios] 3438\n\\item[\\$aciertos] 190\n\\item[\\$ganancia\\_test] 41620000\n\\end{description}\n\n\\item \\begin{description}\n\\item[\\$semilla] 552031\n\\item[\\$testing] 49379\n\\item[\\$testing\\_pos] 375\n\\item[\\$envios] 3977\n\\item[\\$aciertos] 221\n\\item[\\$ganancia\\_test] 48630000\n\\end{description}\n\n\\item \\begin{description}\n\\item[\\$semilla] 195281\n\\item[\\$testing] 49377\n\\item[\\$testing\\_pos] 378\n\\item[\\$envios] 3723\n\\item[\\$aciertos] 208\n\\item[\\$ganancia\\_test] 45970000\n\\end{description}\n\n\\item \\begin{description}\n\\item[\\$semilla] 326999\n\\item[\\$testing] 49388\n\\item[\\$testing\\_pos] 377\n\\item[\\$envios] 3004\n\\item[\\$aciertos] 191\n\\item[\\$ganancia\\_test] 46360000\n\\end{description}\n\n\\item \\begin{description}\n\\item[\\$semilla] 452269\n\\item[\\$testing] 49374\n\\item[\\$testing\\_pos] 372\n\\item[\\$envios] 2966\n\\item[\\$aciertos] 207\n\\item[\\$ganancia\\_test] 53140000\n\\end{description}\n\n\\item \\begin{description}\n\\item[\\$semilla] 576221\n\\item[\\$testing] 49382\n\\item[\\$testing\\_pos] 372\n\\item[\\$envios] 4272\n\\item[\\$aciertos] 225\n\\item[\\$ganancia\\_test] 47280000\n\\end{description}\n\n\\item \\begin{description}\n\\item[\\$semilla] 293729\n\\item[\\$testing] 49374\n\\item[\\$testing\\_pos] 374\n\\item[\\$envios] 3955\n\\item[\\$aciertos] 216\n\\item[\\$ganancia\\_test] 46850000\n\\end{description}\n\n\\item \\begin{description}\n\\item[\\$semilla] 658079\n\\item[\\$testing] 49380\n\\item[\\$testing\\_pos] 371\n\\item[\\$envios] 3721\n\\item[\\$aciertos] 195\n\\item[\\$ganancia\\_test] 40790000\n\\end{description}\n\n\\item \\begin{description}\n\\item[\\$semilla] 341461\n\\item[\\$testing] 49362\n\\item[\\$testing\\_pos] 371\n\\item[\\$envios] 3551\n\\item[\\$aciertos] 209\n\\item[\\$ganancia\\_test] 48090000\n\\end{description}\n\n\\item \\begin{description}\n\\item[\\$semilla] 193873\n\\item[\\$testing] 49388\n\\item[\\$testing\\_pos] 373\n\\item[\\$envios] 3396\n\\item[\\$aciertos] 209\n\\item[\\$ganancia\\_test] 49640000\n\\end{description}\n\n\\item \\begin{description}\n\\item[\\$semilla] 961139\n\\item[\\$testing] 49386\n\\item[\\$testing\\_pos] 374\n\\item[\\$envios] 4080\n\\item[\\$aciertos] 220\n\\item[\\$ganancia\\_test] 47200000\n\\end{description}\n\n\\item \\begin{description}\n\\item[\\$semilla] 754513\n\\item[\\$testing] 49382\n\\item[\\$testing\\_pos] 377\n\\item[\\$envios] 3587\n\\item[\\$aciertos] 199\n\\item[\\$ganancia\\_test] 43730000\n\\end{description}\n\n\\item \\begin{description}\n\\item[\\$semilla] 856759\n\\item[\\$testing] 49387\n\\item[\\$testing\\_pos] 372\n\\item[\\$envios] 3144\n\\item[\\$aciertos] 203\n\\item[\\$ganancia\\_test] 49760000\n\\end{description}\n\n\\item \\begin{description}\n\\item[\\$semilla] 402307\n\\item[\\$testing] 49381\n\\item[\\$testing\\_pos] 374\n\\item[\\$envios] 2864\n\\item[\\$aciertos] 206\n\\item[\\$ganancia\\_test] 53760000\n\\end{description}\n\n\\item \\begin{description}\n\\item[\\$semilla] 706417\n\\item[\\$testing] 49379\n\\item[\\$testing\\_pos] 380\n\\item[\\$envios] 3403\n\\item[\\$aciertos] 197\n\\item[\\$ganancia\\_test] 44770000\n\\end{description}\n\n\\item \\begin{description}\n\\item[\\$semilla] 586457\n\\item[\\$testing] 49388\n\\item[\\$testing\\_pos] 374\n\\item[\\$envios] 4436\n\\item[\\$aciertos] 235\n\\item[\\$ganancia\\_test] 49640000\n\\end{description}\n\n\\item \\begin{description}\n\\item[\\$semilla] 260461\n\\item[\\$testing] 49391\n\\item[\\$testing\\_pos] 375\n\\item[\\$envios] 2500\n\\item[\\$aciertos] 176\n\\item[\\$ganancia\\_test] 45400000\n\\end{description}\n\n\\item \\begin{description}\n\\item[\\$semilla] 808373\n\\item[\\$testing] 49374\n\\item[\\$testing\\_pos] 374\n\\item[\\$envios] 3241\n\\item[\\$aciertos] 197\n\\item[\\$ganancia\\_test] 46390000\n\\end{description}\n\n\\item \\begin{description}\n\\item[\\$semilla] 986933\n\\item[\\$testing] 49382\n\\item[\\$testing\\_pos] 376\n\\item[\\$envios] 2844\n\\item[\\$aciertos] 175\n\\item[\\$ganancia\\_test] 41560000\n\\end{description}\n\n\\item \\begin{description}\n\\item[\\$semilla] 251879\n\\item[\\$testing] 49383\n\\item[\\$testing\\_pos] 375\n\\item[\\$envios] 2758\n\\item[\\$aciertos] 193\n\\item[\\$ganancia\\_test] 49620000\n\\end{description}\n\n\\item \\begin{description}\n\\item[\\$semilla] 829453\n\\item[\\$testing] 49373\n\\item[\\$testing\\_pos] 374\n\\item[\\$envios] 2841\n\\item[\\$aciertos] 186\n\\item[\\$ganancia\\_test] 45990000\n\\end{description}\n\n\\item \\begin{description}\n\\item[\\$semilla] 208189\n\\item[\\$testing] 49385\n\\item[\\$testing\\_pos] 377\n\\item[\\$envios] 3342\n\\item[\\$aciertos] 206\n\\item[\\$ganancia\\_test] 48980000\n\\end{description}\n\n\\item \\begin{description}\n\\item[\\$semilla] 690721\n\\item[\\$testing] 49384\n\\item[\\$testing\\_pos] 377\n\\item[\\$envios] 2699\n\\item[\\$aciertos] 199\n\\item[\\$ganancia\\_test] 52610000\n\\end{description}\n\n\\item \\begin{description}\n\\item[\\$semilla] 658117\n\\item[\\$testing] 49384\n\\item[\\$testing\\_pos] 376\n\\item[\\$envios] 3746\n\\item[\\$aciertos] 228\n\\item[\\$ganancia\\_test] 53740000\n\\end{description}\n\n\\item \\begin{description}\n\\item[\\$semilla] 885509\n\\item[\\$testing] 49373\n\\item[\\$testing\\_pos] 374\n\\item[\\$envios] 3536\n\\item[\\$aciertos] 219\n\\item[\\$ganancia\\_test] 52240000\n\\end{description}\n\n\\item \\begin{description}\n\\item[\\$semilla] 816019\n\\item[\\$testing] 49369\n\\item[\\$testing\\_pos] 375\n\\item[\\$envios] 3403\n\\item[\\$aciertos] 202\n\\item[\\$ganancia\\_test] 46770000\n\\end{description}\n\n\\item \\begin{description}\n\\item[\\$semilla] 526739\n\\item[\\$testing] 49373\n\\item[\\$testing\\_pos] 378\n\\item[\\$envios] 3844\n\\item[\\$aciertos] 223\n\\item[\\$ganancia\\_test] 50760000\n\\end{description}\n\n\\item \\begin{description}\n\\item[\\$semilla] 236471\n\\item[\\$testing] 49393\n\\item[\\$testing\\_pos] 382\n\\item[\\$envios] 2693\n\\item[\\$aciertos] 188\n\\item[\\$ganancia\\_test] 48270000\n\\end{description}\n\n\\item \\begin{description}\n\\item[\\$semilla] 147089\n\\item[\\$testing] 49381\n\\item[\\$testing\\_pos] 374\n\\item[\\$envios] 2999\n\\item[\\$aciertos] 186\n\\item[\\$ganancia\\_test] 44410000\n\\end{description}\n\n\\item \\begin{description}\n\\item[\\$semilla] 550607\n\\item[\\$testing] 49385\n\\item[\\$testing\\_pos] 374\n\\item[\\$envios] 3217\n\\item[\\$aciertos] 189\n\\item[\\$ganancia\\_test] 43430000\n\\end{description}\n\n\\item \\begin{description}\n\\item[\\$semilla] 249863\n\\item[\\$testing] 49385\n\\item[\\$testing\\_pos] 377\n\\item[\\$envios] 3968\n\\item[\\$aciertos] 233\n\\item[\\$ganancia\\_test] 53520000\n\\end{description}\n\n\\item \\begin{description}\n\\item[\\$semilla] 398369\n\\item[\\$testing] 49392\n\\item[\\$testing\\_pos] 374\n\\item[\\$envios] 3129\n\\item[\\$aciertos] 179\n\\item[\\$ganancia\\_test] 40310000\n\\end{description}\n\n\\item \\begin{description}\n\\item[\\$semilla] 866857\n\\item[\\$testing] 49384\n\\item[\\$testing\\_pos] 372\n\\item[\\$envios] 3098\n\\item[\\$aciertos] 196\n\\item[\\$ganancia\\_test] 47420000\n\\end{description}\n\n\\item \\begin{description}\n\\item[\\$semilla] 864781\n\\item[\\$testing] 49370\n\\item[\\$testing\\_pos] 375\n\\item[\\$envios] 3517\n\\item[\\$aciertos] 215\n\\item[\\$ganancia\\_test] 50830000\n\\end{description}\n\n\\item \\begin{description}\n\\item[\\$semilla] 518831\n\\item[\\$testing] 49370\n\\item[\\$testing\\_pos] 376\n\\item[\\$envios] 3394\n\\item[\\$aciertos] 216\n\\item[\\$ganancia\\_test] 52460000\n\\end{description}\n\n\\item \\begin{description}\n\\item[\\$semilla] 170081\n\\item[\\$testing] 49369\n\\item[\\$testing\\_pos] 379\n\\item[\\$envios] 3157\n\\item[\\$aciertos] 191\n\\item[\\$ganancia\\_test] 44830000\n\\end{description}\n\n\\item \\begin{description}\n\\item[\\$semilla] 111653\n\\item[\\$testing] 49367\n\\item[\\$testing\\_pos] 364\n\\item[\\$envios] 3549\n\\item[\\$aciertos] 192\n\\item[\\$ganancia\\_test] 41310000\n\\end{description}\n\n\\item \\begin{description}\n\\item[\\$semilla] 157627\n\\item[\\$testing] 49369\n\\item[\\$testing\\_pos] 368\n\\item[\\$envios] 3591\n\\item[\\$aciertos] 207\n\\item[\\$ganancia\\_test] 46890000\n\\end{description}\n\n\\item \\begin{description}\n\\item[\\$semilla] 381569\n\\item[\\$testing] 49379\n\\item[\\$testing\\_pos] 378\n\\item[\\$envios] 3397\n\\item[\\$aciertos] 203\n\\item[\\$ganancia\\_test] 47230000\n\\end{description}\n\n\\item \\begin{description}\n\\item[\\$semilla] 674903\n\\item[\\$testing] 49362\n\\item[\\$testing\\_pos] 370\n\\item[\\$envios] 3337\n\\item[\\$aciertos] 216\n\\item[\\$ganancia\\_test] 53030000\n\\end{description}\n\n\\item \\begin{description}\n\\item[\\$semilla] 858503\n\\item[\\$testing] 49391\n\\item[\\$testing\\_pos] 380\n\\item[\\$envios] 3216\n\\item[\\$aciertos] 189\n\\item[\\$ganancia\\_test] 43440000\n\\end{description}\n\n\\end{enumerate}\n",
            "text/plain": [
              "[[1]]\n",
              "[[1]]$semilla\n",
              "[1] 590819\n",
              "\n",
              "[[1]]$testing\n",
              "[1] 49378\n",
              "\n",
              "[[1]]$testing_pos\n",
              "[1] 378\n",
              "\n",
              "[[1]]$envios\n",
              "[1] 3355\n",
              "\n",
              "[[1]]$aciertos\n",
              "[1] 201\n",
              "\n",
              "[[1]]$ganancia_test\n",
              "[1] 46850000\n",
              "\n",
              "\n",
              "[[2]]\n",
              "[[2]]$semilla\n",
              "[1] 526937\n",
              "\n",
              "[[2]]$testing\n",
              "[1] 49388\n",
              "\n",
              "[[2]]$testing_pos\n",
              "[1] 377\n",
              "\n",
              "[[2]]$envios\n",
              "[1] 4014\n",
              "\n",
              "[[2]]$aciertos\n",
              "[1] 210\n",
              "\n",
              "[[2]]$ganancia_test\n",
              "[1] 43860000\n",
              "\n",
              "\n",
              "[[3]]\n",
              "[[3]]$semilla\n",
              "[1] 753937\n",
              "\n",
              "[[3]]$testing\n",
              "[1] 49380\n",
              "\n",
              "[[3]]$testing_pos\n",
              "[1] 378\n",
              "\n",
              "[[3]]$envios\n",
              "[1] 3590\n",
              "\n",
              "[[3]]$aciertos\n",
              "[1] 224\n",
              "\n",
              "[[3]]$ganancia_test\n",
              "[1] 53700000\n",
              "\n",
              "\n",
              "[[4]]\n",
              "[[4]]$semilla\n",
              "[1] 101173\n",
              "\n",
              "[[4]]$testing\n",
              "[1] 49378\n",
              "\n",
              "[[4]]$testing_pos\n",
              "[1] 373\n",
              "\n",
              "[[4]]$envios\n",
              "[1] 3861\n",
              "\n",
              "[[4]]$aciertos\n",
              "[1] 209\n",
              "\n",
              "[[4]]$ganancia_test\n",
              "[1] 44990000\n",
              "\n",
              "\n",
              "[[5]]\n",
              "[[5]]$semilla\n",
              "[1] 715727\n",
              "\n",
              "[[5]]$testing\n",
              "[1] 49388\n",
              "\n",
              "[[5]]$testing_pos\n",
              "[1] 380\n",
              "\n",
              "[[5]]$envios\n",
              "[1] 3106\n",
              "\n",
              "[[5]]$aciertos\n",
              "[1] 205\n",
              "\n",
              "[[5]]$ganancia_test\n",
              "[1] 50940000\n",
              "\n",
              "\n",
              "[[6]]\n",
              "[[6]]$semilla\n",
              "[1] 522959\n",
              "\n",
              "[[6]]$testing\n",
              "[1] 49378\n",
              "\n",
              "[[6]]$testing_pos\n",
              "[1] 372\n",
              "\n",
              "[[6]]$envios\n",
              "[1] 4400\n",
              "\n",
              "[[6]]$aciertos\n",
              "[1] 226\n",
              "\n",
              "[[6]]$ganancia_test\n",
              "[1] 46400000\n",
              "\n",
              "\n",
              "[[7]]\n",
              "[[7]]$semilla\n",
              "[1] 975883\n",
              "\n",
              "[[7]]$testing\n",
              "[1] 49371\n",
              "\n",
              "[[7]]$testing_pos\n",
              "[1] 374\n",
              "\n",
              "[[7]]$envios\n",
              "[1] 3275\n",
              "\n",
              "[[7]]$aciertos\n",
              "[1] 189\n",
              "\n",
              "[[7]]$ganancia_test\n",
              "[1] 42850000\n",
              "\n",
              "\n",
              "[[8]]\n",
              "[[8]]$semilla\n",
              "[1] 703657\n",
              "\n",
              "[[8]]$testing\n",
              "[1] 49394\n",
              "\n",
              "[[8]]$testing_pos\n",
              "[1] 380\n",
              "\n",
              "[[8]]$envios\n",
              "[1] 3675\n",
              "\n",
              "[[8]]$aciertos\n",
              "[1] 238\n",
              "\n",
              "[[8]]$ganancia_test\n",
              "[1] 58450000\n",
              "\n",
              "\n",
              "[[9]]\n",
              "[[9]]$semilla\n",
              "[1] 631469\n",
              "\n",
              "[[9]]$testing\n",
              "[1] 49374\n",
              "\n",
              "[[9]]$testing_pos\n",
              "[1] 375\n",
              "\n",
              "[[9]]$envios\n",
              "[1] 3307\n",
              "\n",
              "[[9]]$aciertos\n",
              "[1] 205\n",
              "\n",
              "[[9]]$ganancia_test\n",
              "[1] 48930000\n",
              "\n",
              "\n",
              "[[10]]\n",
              "[[10]]$semilla\n",
              "[1] 662617\n",
              "\n",
              "[[10]]$testing\n",
              "[1] 49379\n",
              "\n",
              "[[10]]$testing_pos\n",
              "[1] 377\n",
              "\n",
              "[[10]]$envios\n",
              "[1] 3438\n",
              "\n",
              "[[10]]$aciertos\n",
              "[1] 190\n",
              "\n",
              "[[10]]$ganancia_test\n",
              "[1] 41620000\n",
              "\n",
              "\n",
              "[[11]]\n",
              "[[11]]$semilla\n",
              "[1] 552031\n",
              "\n",
              "[[11]]$testing\n",
              "[1] 49379\n",
              "\n",
              "[[11]]$testing_pos\n",
              "[1] 375\n",
              "\n",
              "[[11]]$envios\n",
              "[1] 3977\n",
              "\n",
              "[[11]]$aciertos\n",
              "[1] 221\n",
              "\n",
              "[[11]]$ganancia_test\n",
              "[1] 48630000\n",
              "\n",
              "\n",
              "[[12]]\n",
              "[[12]]$semilla\n",
              "[1] 195281\n",
              "\n",
              "[[12]]$testing\n",
              "[1] 49377\n",
              "\n",
              "[[12]]$testing_pos\n",
              "[1] 378\n",
              "\n",
              "[[12]]$envios\n",
              "[1] 3723\n",
              "\n",
              "[[12]]$aciertos\n",
              "[1] 208\n",
              "\n",
              "[[12]]$ganancia_test\n",
              "[1] 45970000\n",
              "\n",
              "\n",
              "[[13]]\n",
              "[[13]]$semilla\n",
              "[1] 326999\n",
              "\n",
              "[[13]]$testing\n",
              "[1] 49388\n",
              "\n",
              "[[13]]$testing_pos\n",
              "[1] 377\n",
              "\n",
              "[[13]]$envios\n",
              "[1] 3004\n",
              "\n",
              "[[13]]$aciertos\n",
              "[1] 191\n",
              "\n",
              "[[13]]$ganancia_test\n",
              "[1] 46360000\n",
              "\n",
              "\n",
              "[[14]]\n",
              "[[14]]$semilla\n",
              "[1] 452269\n",
              "\n",
              "[[14]]$testing\n",
              "[1] 49374\n",
              "\n",
              "[[14]]$testing_pos\n",
              "[1] 372\n",
              "\n",
              "[[14]]$envios\n",
              "[1] 2966\n",
              "\n",
              "[[14]]$aciertos\n",
              "[1] 207\n",
              "\n",
              "[[14]]$ganancia_test\n",
              "[1] 53140000\n",
              "\n",
              "\n",
              "[[15]]\n",
              "[[15]]$semilla\n",
              "[1] 576221\n",
              "\n",
              "[[15]]$testing\n",
              "[1] 49382\n",
              "\n",
              "[[15]]$testing_pos\n",
              "[1] 372\n",
              "\n",
              "[[15]]$envios\n",
              "[1] 4272\n",
              "\n",
              "[[15]]$aciertos\n",
              "[1] 225\n",
              "\n",
              "[[15]]$ganancia_test\n",
              "[1] 47280000\n",
              "\n",
              "\n",
              "[[16]]\n",
              "[[16]]$semilla\n",
              "[1] 293729\n",
              "\n",
              "[[16]]$testing\n",
              "[1] 49374\n",
              "\n",
              "[[16]]$testing_pos\n",
              "[1] 374\n",
              "\n",
              "[[16]]$envios\n",
              "[1] 3955\n",
              "\n",
              "[[16]]$aciertos\n",
              "[1] 216\n",
              "\n",
              "[[16]]$ganancia_test\n",
              "[1] 46850000\n",
              "\n",
              "\n",
              "[[17]]\n",
              "[[17]]$semilla\n",
              "[1] 658079\n",
              "\n",
              "[[17]]$testing\n",
              "[1] 49380\n",
              "\n",
              "[[17]]$testing_pos\n",
              "[1] 371\n",
              "\n",
              "[[17]]$envios\n",
              "[1] 3721\n",
              "\n",
              "[[17]]$aciertos\n",
              "[1] 195\n",
              "\n",
              "[[17]]$ganancia_test\n",
              "[1] 40790000\n",
              "\n",
              "\n",
              "[[18]]\n",
              "[[18]]$semilla\n",
              "[1] 341461\n",
              "\n",
              "[[18]]$testing\n",
              "[1] 49362\n",
              "\n",
              "[[18]]$testing_pos\n",
              "[1] 371\n",
              "\n",
              "[[18]]$envios\n",
              "[1] 3551\n",
              "\n",
              "[[18]]$aciertos\n",
              "[1] 209\n",
              "\n",
              "[[18]]$ganancia_test\n",
              "[1] 48090000\n",
              "\n",
              "\n",
              "[[19]]\n",
              "[[19]]$semilla\n",
              "[1] 193873\n",
              "\n",
              "[[19]]$testing\n",
              "[1] 49388\n",
              "\n",
              "[[19]]$testing_pos\n",
              "[1] 373\n",
              "\n",
              "[[19]]$envios\n",
              "[1] 3396\n",
              "\n",
              "[[19]]$aciertos\n",
              "[1] 209\n",
              "\n",
              "[[19]]$ganancia_test\n",
              "[1] 49640000\n",
              "\n",
              "\n",
              "[[20]]\n",
              "[[20]]$semilla\n",
              "[1] 961139\n",
              "\n",
              "[[20]]$testing\n",
              "[1] 49386\n",
              "\n",
              "[[20]]$testing_pos\n",
              "[1] 374\n",
              "\n",
              "[[20]]$envios\n",
              "[1] 4080\n",
              "\n",
              "[[20]]$aciertos\n",
              "[1] 220\n",
              "\n",
              "[[20]]$ganancia_test\n",
              "[1] 47200000\n",
              "\n",
              "\n",
              "[[21]]\n",
              "[[21]]$semilla\n",
              "[1] 754513\n",
              "\n",
              "[[21]]$testing\n",
              "[1] 49382\n",
              "\n",
              "[[21]]$testing_pos\n",
              "[1] 377\n",
              "\n",
              "[[21]]$envios\n",
              "[1] 3587\n",
              "\n",
              "[[21]]$aciertos\n",
              "[1] 199\n",
              "\n",
              "[[21]]$ganancia_test\n",
              "[1] 43730000\n",
              "\n",
              "\n",
              "[[22]]\n",
              "[[22]]$semilla\n",
              "[1] 856759\n",
              "\n",
              "[[22]]$testing\n",
              "[1] 49387\n",
              "\n",
              "[[22]]$testing_pos\n",
              "[1] 372\n",
              "\n",
              "[[22]]$envios\n",
              "[1] 3144\n",
              "\n",
              "[[22]]$aciertos\n",
              "[1] 203\n",
              "\n",
              "[[22]]$ganancia_test\n",
              "[1] 49760000\n",
              "\n",
              "\n",
              "[[23]]\n",
              "[[23]]$semilla\n",
              "[1] 402307\n",
              "\n",
              "[[23]]$testing\n",
              "[1] 49381\n",
              "\n",
              "[[23]]$testing_pos\n",
              "[1] 374\n",
              "\n",
              "[[23]]$envios\n",
              "[1] 2864\n",
              "\n",
              "[[23]]$aciertos\n",
              "[1] 206\n",
              "\n",
              "[[23]]$ganancia_test\n",
              "[1] 53760000\n",
              "\n",
              "\n",
              "[[24]]\n",
              "[[24]]$semilla\n",
              "[1] 706417\n",
              "\n",
              "[[24]]$testing\n",
              "[1] 49379\n",
              "\n",
              "[[24]]$testing_pos\n",
              "[1] 380\n",
              "\n",
              "[[24]]$envios\n",
              "[1] 3403\n",
              "\n",
              "[[24]]$aciertos\n",
              "[1] 197\n",
              "\n",
              "[[24]]$ganancia_test\n",
              "[1] 44770000\n",
              "\n",
              "\n",
              "[[25]]\n",
              "[[25]]$semilla\n",
              "[1] 586457\n",
              "\n",
              "[[25]]$testing\n",
              "[1] 49388\n",
              "\n",
              "[[25]]$testing_pos\n",
              "[1] 374\n",
              "\n",
              "[[25]]$envios\n",
              "[1] 4436\n",
              "\n",
              "[[25]]$aciertos\n",
              "[1] 235\n",
              "\n",
              "[[25]]$ganancia_test\n",
              "[1] 49640000\n",
              "\n",
              "\n",
              "[[26]]\n",
              "[[26]]$semilla\n",
              "[1] 260461\n",
              "\n",
              "[[26]]$testing\n",
              "[1] 49391\n",
              "\n",
              "[[26]]$testing_pos\n",
              "[1] 375\n",
              "\n",
              "[[26]]$envios\n",
              "[1] 2500\n",
              "\n",
              "[[26]]$aciertos\n",
              "[1] 176\n",
              "\n",
              "[[26]]$ganancia_test\n",
              "[1] 45400000\n",
              "\n",
              "\n",
              "[[27]]\n",
              "[[27]]$semilla\n",
              "[1] 808373\n",
              "\n",
              "[[27]]$testing\n",
              "[1] 49374\n",
              "\n",
              "[[27]]$testing_pos\n",
              "[1] 374\n",
              "\n",
              "[[27]]$envios\n",
              "[1] 3241\n",
              "\n",
              "[[27]]$aciertos\n",
              "[1] 197\n",
              "\n",
              "[[27]]$ganancia_test\n",
              "[1] 46390000\n",
              "\n",
              "\n",
              "[[28]]\n",
              "[[28]]$semilla\n",
              "[1] 986933\n",
              "\n",
              "[[28]]$testing\n",
              "[1] 49382\n",
              "\n",
              "[[28]]$testing_pos\n",
              "[1] 376\n",
              "\n",
              "[[28]]$envios\n",
              "[1] 2844\n",
              "\n",
              "[[28]]$aciertos\n",
              "[1] 175\n",
              "\n",
              "[[28]]$ganancia_test\n",
              "[1] 41560000\n",
              "\n",
              "\n",
              "[[29]]\n",
              "[[29]]$semilla\n",
              "[1] 251879\n",
              "\n",
              "[[29]]$testing\n",
              "[1] 49383\n",
              "\n",
              "[[29]]$testing_pos\n",
              "[1] 375\n",
              "\n",
              "[[29]]$envios\n",
              "[1] 2758\n",
              "\n",
              "[[29]]$aciertos\n",
              "[1] 193\n",
              "\n",
              "[[29]]$ganancia_test\n",
              "[1] 49620000\n",
              "\n",
              "\n",
              "[[30]]\n",
              "[[30]]$semilla\n",
              "[1] 829453\n",
              "\n",
              "[[30]]$testing\n",
              "[1] 49373\n",
              "\n",
              "[[30]]$testing_pos\n",
              "[1] 374\n",
              "\n",
              "[[30]]$envios\n",
              "[1] 2841\n",
              "\n",
              "[[30]]$aciertos\n",
              "[1] 186\n",
              "\n",
              "[[30]]$ganancia_test\n",
              "[1] 45990000\n",
              "\n",
              "\n",
              "[[31]]\n",
              "[[31]]$semilla\n",
              "[1] 208189\n",
              "\n",
              "[[31]]$testing\n",
              "[1] 49385\n",
              "\n",
              "[[31]]$testing_pos\n",
              "[1] 377\n",
              "\n",
              "[[31]]$envios\n",
              "[1] 3342\n",
              "\n",
              "[[31]]$aciertos\n",
              "[1] 206\n",
              "\n",
              "[[31]]$ganancia_test\n",
              "[1] 48980000\n",
              "\n",
              "\n",
              "[[32]]\n",
              "[[32]]$semilla\n",
              "[1] 690721\n",
              "\n",
              "[[32]]$testing\n",
              "[1] 49384\n",
              "\n",
              "[[32]]$testing_pos\n",
              "[1] 377\n",
              "\n",
              "[[32]]$envios\n",
              "[1] 2699\n",
              "\n",
              "[[32]]$aciertos\n",
              "[1] 199\n",
              "\n",
              "[[32]]$ganancia_test\n",
              "[1] 52610000\n",
              "\n",
              "\n",
              "[[33]]\n",
              "[[33]]$semilla\n",
              "[1] 658117\n",
              "\n",
              "[[33]]$testing\n",
              "[1] 49384\n",
              "\n",
              "[[33]]$testing_pos\n",
              "[1] 376\n",
              "\n",
              "[[33]]$envios\n",
              "[1] 3746\n",
              "\n",
              "[[33]]$aciertos\n",
              "[1] 228\n",
              "\n",
              "[[33]]$ganancia_test\n",
              "[1] 53740000\n",
              "\n",
              "\n",
              "[[34]]\n",
              "[[34]]$semilla\n",
              "[1] 885509\n",
              "\n",
              "[[34]]$testing\n",
              "[1] 49373\n",
              "\n",
              "[[34]]$testing_pos\n",
              "[1] 374\n",
              "\n",
              "[[34]]$envios\n",
              "[1] 3536\n",
              "\n",
              "[[34]]$aciertos\n",
              "[1] 219\n",
              "\n",
              "[[34]]$ganancia_test\n",
              "[1] 52240000\n",
              "\n",
              "\n",
              "[[35]]\n",
              "[[35]]$semilla\n",
              "[1] 816019\n",
              "\n",
              "[[35]]$testing\n",
              "[1] 49369\n",
              "\n",
              "[[35]]$testing_pos\n",
              "[1] 375\n",
              "\n",
              "[[35]]$envios\n",
              "[1] 3403\n",
              "\n",
              "[[35]]$aciertos\n",
              "[1] 202\n",
              "\n",
              "[[35]]$ganancia_test\n",
              "[1] 46770000\n",
              "\n",
              "\n",
              "[[36]]\n",
              "[[36]]$semilla\n",
              "[1] 526739\n",
              "\n",
              "[[36]]$testing\n",
              "[1] 49373\n",
              "\n",
              "[[36]]$testing_pos\n",
              "[1] 378\n",
              "\n",
              "[[36]]$envios\n",
              "[1] 3844\n",
              "\n",
              "[[36]]$aciertos\n",
              "[1] 223\n",
              "\n",
              "[[36]]$ganancia_test\n",
              "[1] 50760000\n",
              "\n",
              "\n",
              "[[37]]\n",
              "[[37]]$semilla\n",
              "[1] 236471\n",
              "\n",
              "[[37]]$testing\n",
              "[1] 49393\n",
              "\n",
              "[[37]]$testing_pos\n",
              "[1] 382\n",
              "\n",
              "[[37]]$envios\n",
              "[1] 2693\n",
              "\n",
              "[[37]]$aciertos\n",
              "[1] 188\n",
              "\n",
              "[[37]]$ganancia_test\n",
              "[1] 48270000\n",
              "\n",
              "\n",
              "[[38]]\n",
              "[[38]]$semilla\n",
              "[1] 147089\n",
              "\n",
              "[[38]]$testing\n",
              "[1] 49381\n",
              "\n",
              "[[38]]$testing_pos\n",
              "[1] 374\n",
              "\n",
              "[[38]]$envios\n",
              "[1] 2999\n",
              "\n",
              "[[38]]$aciertos\n",
              "[1] 186\n",
              "\n",
              "[[38]]$ganancia_test\n",
              "[1] 44410000\n",
              "\n",
              "\n",
              "[[39]]\n",
              "[[39]]$semilla\n",
              "[1] 550607\n",
              "\n",
              "[[39]]$testing\n",
              "[1] 49385\n",
              "\n",
              "[[39]]$testing_pos\n",
              "[1] 374\n",
              "\n",
              "[[39]]$envios\n",
              "[1] 3217\n",
              "\n",
              "[[39]]$aciertos\n",
              "[1] 189\n",
              "\n",
              "[[39]]$ganancia_test\n",
              "[1] 43430000\n",
              "\n",
              "\n",
              "[[40]]\n",
              "[[40]]$semilla\n",
              "[1] 249863\n",
              "\n",
              "[[40]]$testing\n",
              "[1] 49385\n",
              "\n",
              "[[40]]$testing_pos\n",
              "[1] 377\n",
              "\n",
              "[[40]]$envios\n",
              "[1] 3968\n",
              "\n",
              "[[40]]$aciertos\n",
              "[1] 233\n",
              "\n",
              "[[40]]$ganancia_test\n",
              "[1] 53520000\n",
              "\n",
              "\n",
              "[[41]]\n",
              "[[41]]$semilla\n",
              "[1] 398369\n",
              "\n",
              "[[41]]$testing\n",
              "[1] 49392\n",
              "\n",
              "[[41]]$testing_pos\n",
              "[1] 374\n",
              "\n",
              "[[41]]$envios\n",
              "[1] 3129\n",
              "\n",
              "[[41]]$aciertos\n",
              "[1] 179\n",
              "\n",
              "[[41]]$ganancia_test\n",
              "[1] 40310000\n",
              "\n",
              "\n",
              "[[42]]\n",
              "[[42]]$semilla\n",
              "[1] 866857\n",
              "\n",
              "[[42]]$testing\n",
              "[1] 49384\n",
              "\n",
              "[[42]]$testing_pos\n",
              "[1] 372\n",
              "\n",
              "[[42]]$envios\n",
              "[1] 3098\n",
              "\n",
              "[[42]]$aciertos\n",
              "[1] 196\n",
              "\n",
              "[[42]]$ganancia_test\n",
              "[1] 47420000\n",
              "\n",
              "\n",
              "[[43]]\n",
              "[[43]]$semilla\n",
              "[1] 864781\n",
              "\n",
              "[[43]]$testing\n",
              "[1] 49370\n",
              "\n",
              "[[43]]$testing_pos\n",
              "[1] 375\n",
              "\n",
              "[[43]]$envios\n",
              "[1] 3517\n",
              "\n",
              "[[43]]$aciertos\n",
              "[1] 215\n",
              "\n",
              "[[43]]$ganancia_test\n",
              "[1] 50830000\n",
              "\n",
              "\n",
              "[[44]]\n",
              "[[44]]$semilla\n",
              "[1] 518831\n",
              "\n",
              "[[44]]$testing\n",
              "[1] 49370\n",
              "\n",
              "[[44]]$testing_pos\n",
              "[1] 376\n",
              "\n",
              "[[44]]$envios\n",
              "[1] 3394\n",
              "\n",
              "[[44]]$aciertos\n",
              "[1] 216\n",
              "\n",
              "[[44]]$ganancia_test\n",
              "[1] 52460000\n",
              "\n",
              "\n",
              "[[45]]\n",
              "[[45]]$semilla\n",
              "[1] 170081\n",
              "\n",
              "[[45]]$testing\n",
              "[1] 49369\n",
              "\n",
              "[[45]]$testing_pos\n",
              "[1] 379\n",
              "\n",
              "[[45]]$envios\n",
              "[1] 3157\n",
              "\n",
              "[[45]]$aciertos\n",
              "[1] 191\n",
              "\n",
              "[[45]]$ganancia_test\n",
              "[1] 44830000\n",
              "\n",
              "\n",
              "[[46]]\n",
              "[[46]]$semilla\n",
              "[1] 111653\n",
              "\n",
              "[[46]]$testing\n",
              "[1] 49367\n",
              "\n",
              "[[46]]$testing_pos\n",
              "[1] 364\n",
              "\n",
              "[[46]]$envios\n",
              "[1] 3549\n",
              "\n",
              "[[46]]$aciertos\n",
              "[1] 192\n",
              "\n",
              "[[46]]$ganancia_test\n",
              "[1] 41310000\n",
              "\n",
              "\n",
              "[[47]]\n",
              "[[47]]$semilla\n",
              "[1] 157627\n",
              "\n",
              "[[47]]$testing\n",
              "[1] 49369\n",
              "\n",
              "[[47]]$testing_pos\n",
              "[1] 368\n",
              "\n",
              "[[47]]$envios\n",
              "[1] 3591\n",
              "\n",
              "[[47]]$aciertos\n",
              "[1] 207\n",
              "\n",
              "[[47]]$ganancia_test\n",
              "[1] 46890000\n",
              "\n",
              "\n",
              "[[48]]\n",
              "[[48]]$semilla\n",
              "[1] 381569\n",
              "\n",
              "[[48]]$testing\n",
              "[1] 49379\n",
              "\n",
              "[[48]]$testing_pos\n",
              "[1] 378\n",
              "\n",
              "[[48]]$envios\n",
              "[1] 3397\n",
              "\n",
              "[[48]]$aciertos\n",
              "[1] 203\n",
              "\n",
              "[[48]]$ganancia_test\n",
              "[1] 47230000\n",
              "\n",
              "\n",
              "[[49]]\n",
              "[[49]]$semilla\n",
              "[1] 674903\n",
              "\n",
              "[[49]]$testing\n",
              "[1] 49362\n",
              "\n",
              "[[49]]$testing_pos\n",
              "[1] 370\n",
              "\n",
              "[[49]]$envios\n",
              "[1] 3337\n",
              "\n",
              "[[49]]$aciertos\n",
              "[1] 216\n",
              "\n",
              "[[49]]$ganancia_test\n",
              "[1] 53030000\n",
              "\n",
              "\n",
              "[[50]]\n",
              "[[50]]$semilla\n",
              "[1] 858503\n",
              "\n",
              "[[50]]$testing\n",
              "[1] 49391\n",
              "\n",
              "[[50]]$testing_pos\n",
              "[1] 380\n",
              "\n",
              "[[50]]$envios\n",
              "[1] 3216\n",
              "\n",
              "[[50]]$aciertos\n",
              "[1] 189\n",
              "\n",
              "[[50]]$ganancia_test\n",
              "[1] 43440000\n",
              "\n"
            ]
          },
          "metadata": {}
        }
      ]
    },
    {
      "cell_type": "code",
      "source": [
        "# paso la lista a vector\n",
        "tb_salida <- rbindlist(salidas)\n",
        "print( tb_salida)"
      ],
      "metadata": {
        "id": "unGWiKRMGimU",
        "colab": {
          "base_uri": "https://localhost:8080/"
        },
        "outputId": "f4e12987-3c11-40fc-d82d-bf9e4fb0a127"
      },
      "execution_count": 39,
      "outputs": [
        {
          "output_type": "stream",
          "name": "stdout",
          "text": [
            "    semilla testing testing_pos envios aciertos ganancia_test\n",
            "      <int>   <int>       <int>  <int>    <int>         <num>\n",
            " 1:  590819   49378         378   3355      201      46850000\n",
            " 2:  526937   49388         377   4014      210      43860000\n",
            " 3:  753937   49380         378   3590      224      53700000\n",
            " 4:  101173   49378         373   3861      209      44990000\n",
            " 5:  715727   49388         380   3106      205      50940000\n",
            " 6:  522959   49378         372   4400      226      46400000\n",
            " 7:  975883   49371         374   3275      189      42850000\n",
            " 8:  703657   49394         380   3675      238      58450000\n",
            " 9:  631469   49374         375   3307      205      48930000\n",
            "10:  662617   49379         377   3438      190      41620000\n",
            "11:  552031   49379         375   3977      221      48630000\n",
            "12:  195281   49377         378   3723      208      45970000\n",
            "13:  326999   49388         377   3004      191      46360000\n",
            "14:  452269   49374         372   2966      207      53140000\n",
            "15:  576221   49382         372   4272      225      47280000\n",
            "16:  293729   49374         374   3955      216      46850000\n",
            "17:  658079   49380         371   3721      195      40790000\n",
            "18:  341461   49362         371   3551      209      48090000\n",
            "19:  193873   49388         373   3396      209      49640000\n",
            "20:  961139   49386         374   4080      220      47200000\n",
            "21:  754513   49382         377   3587      199      43730000\n",
            "22:  856759   49387         372   3144      203      49760000\n",
            "23:  402307   49381         374   2864      206      53760000\n",
            "24:  706417   49379         380   3403      197      44770000\n",
            "25:  586457   49388         374   4436      235      49640000\n",
            "26:  260461   49391         375   2500      176      45400000\n",
            "27:  808373   49374         374   3241      197      46390000\n",
            "28:  986933   49382         376   2844      175      41560000\n",
            "29:  251879   49383         375   2758      193      49620000\n",
            "30:  829453   49373         374   2841      186      45990000\n",
            "31:  208189   49385         377   3342      206      48980000\n",
            "32:  690721   49384         377   2699      199      52610000\n",
            "33:  658117   49384         376   3746      228      53740000\n",
            "34:  885509   49373         374   3536      219      52240000\n",
            "35:  816019   49369         375   3403      202      46770000\n",
            "36:  526739   49373         378   3844      223      50760000\n",
            "37:  236471   49393         382   2693      188      48270000\n",
            "38:  147089   49381         374   2999      186      44410000\n",
            "39:  550607   49385         374   3217      189      43430000\n",
            "40:  249863   49385         377   3968      233      53520000\n",
            "41:  398369   49392         374   3129      179      40310000\n",
            "42:  866857   49384         372   3098      196      47420000\n",
            "43:  864781   49370         375   3517      215      50830000\n",
            "44:  518831   49370         376   3394      216      52460000\n",
            "45:  170081   49369         379   3157      191      44830000\n",
            "46:  111653   49367         364   3549      192      41310000\n",
            "47:  157627   49369         368   3591      207      46890000\n",
            "48:  381569   49379         378   3397      203      47230000\n",
            "49:  674903   49362         370   3337      216      53030000\n",
            "50:  858503   49391         380   3216      189      43440000\n",
            "    semilla testing testing_pos envios aciertos ganancia_test\n"
          ]
        }
      ]
    },
    {
      "cell_type": "code",
      "source": [
        "# calulo la salida\n",
        "for( i in seq(10, 50, 10) )\n",
        "{\n",
        "  cat( i, \"\\t\", tb_salida[ 1:i, mean(ganancia_test)], \"\\n\" )\n",
        "}\n"
      ],
      "metadata": {
        "id": "oGoadhBKGimV",
        "colab": {
          "base_uri": "https://localhost:8080/"
        },
        "outputId": "445cdbce-814d-42a0-bede-1165893fd8fb"
      },
      "execution_count": 40,
      "outputs": [
        {
          "output_type": "stream",
          "name": "stdout",
          "text": [
            "10 \t 47859000 \n",
            "20 \t 47627000 \n",
            "30 \t 47438667 \n",
            "40 \t 47947250 \n",
            "50 \t 47712800 \n"
          ]
        }
      ]
    },
    {
      "cell_type": "markdown",
      "source": [
        "### Acciones a realizar\n",
        "* Reportar la  los resultados en la planilla colaborativa hoja  **C2-nsem**\n",
        "* Se discutirá en clase la variabilidad de las distintas cantidades de semillas"
      ],
      "metadata": {
        "id": "dO9yQKt7GimV"
      }
    },
    {
      "cell_type": "markdown",
      "source": [
        "\n",
        "\n",
        "---\n",
        "\n"
      ],
      "metadata": {
        "id": "ziFKwIlBGimW"
      }
    },
    {
      "cell_type": "markdown",
      "source": [
        "# 5  DiezMil -Monte Carlo Cross Validation\n",
        "## Clase 02  Experimento 5"
      ],
      "metadata": {
        "id": "2jncHe-KJLUg"
      }
    },
    {
      "cell_type": "markdown",
      "source": [
        "Mostrar a los estudiantes el resultado de un experimento en donde se ha corrido una Monte Carlo Cross Validation utilizando diez mil semillas y relacionar la cantidad de semillas con el resultado del Teorema Central del Límite\n",
        "<br>Los resultados se muestran en esta misma guia y se comentan en clase,Bajo ningún concepto se solicitará a l@s estudiantes hacer este experimento en clase ya que lleva varias horas en correr.\n"
      ],
      "metadata": {
        "id": "vUzSGZGOJZq8"
      }
    },
    {
      "cell_type": "markdown",
      "source": [
        "Aqui usted NO debe correr absolutamente nada, el experimento ya fue corrido por la cátedra y le muestra los resultados."
      ],
      "metadata": {
        "id": "G0YGjTMxuTSg"
      }
    },
    {
      "cell_type": "markdown",
      "source": [
        "## 5.1\n",
        "Estos resultados han sido corridos por la cátedra.\n",
        "\n",
        "![Distribucion de las ganancias](https://storage.googleapis.com/open-courses/austral2025-af91/labo1r/C2_E5_distribucion.jpg)"
      ],
      "metadata": {
        "id": "7NRUb3WtJikc"
      }
    },
    {
      "cell_type": "markdown",
      "source": [
        "![salida](https://storage.googleapis.com/open-courses/austral2025-af91/labo1r/C2_E5_salida.jpg)"
      ],
      "metadata": {
        "id": "tZ4X8wdSKc7G"
      }
    },
    {
      "cell_type": "markdown",
      "source": [
        "![tabla](https://storage.googleapis.com/open-courses/austral2025-af91/labo1r/C2_E5_tabla.jpg)\n",
        "\n",
        " 2    ~    1,96  =  3605406.2 / 1836264.3\n",
        "\n",
        "Por el teorema central del límite, un aumento de 4 veces de la cantidad de registros que se promedian el desvio estandar disminuye 2 veces ,  raiz(4 ) = 2"
      ],
      "metadata": {
        "id": "EsL5ukNWKS71"
      }
    },
    {
      "cell_type": "markdown",
      "source": [
        "\n",
        "\n",
        "---\n",
        "\n"
      ],
      "metadata": {
        "id": "OTLq8TC4LR0c"
      }
    },
    {
      "cell_type": "markdown",
      "source": [
        "# 6 Comparando dos distintos  modelos\n",
        "## Clase 02  Experimento 6"
      ],
      "metadata": {
        "id": "sAS1bfL8LmBv"
      }
    },
    {
      "cell_type": "markdown",
      "source": [
        "## 6.1  Objetivos\n",
        "Presentar a los alumnos la dificultad que se presenta ante la comparación de dos modelos, uno posee un poder predictivo claramente mayor al otro.\n",
        "Comparación simple de media de ganancias, versus probabilidad que un modelo sea superior a otro."
      ],
      "metadata": {
        "id": "KzwdMJDZLmB9"
      }
    },
    {
      "cell_type": "markdown",
      "source": [
        "## 6.2 Introduccion\n",
        "Estos son los dos arboles de muy distinta profundidad.\n",
        "<br>¿Cuál de ellos es mejor? ¿Cuál elijo?\n",
        "\n",
        "| Hiperparámetro | Arbol 1 | Arbol 2 |\n",
        "| --- | --: |  ---: |\n",
        "| cp | -1 | -1 |\n",
        "|minsplit | 170 | 250 |\n",
        "|minbucket | 70 | 125 |\n",
        "|maxdepth | 7 | 20 |\n",
        "\n"
      ],
      "metadata": {
        "id": "DDyFNmJ9L_CW"
      }
    },
    {
      "cell_type": "markdown",
      "source": [
        "## 6.3 Codigo dos distintos modelos"
      ],
      "metadata": {
        "id": "bQfwNsVzNrtI"
      }
    },
    {
      "cell_type": "markdown",
      "source": [
        "Esta parte se debe correr con el runtime en lenguaje **R** Ir al menu, Runtime -> Change Runtime Tipe -> Runtime type -> R"
      ],
      "metadata": {
        "id": "Ku7qQgKjNruJ"
      }
    },
    {
      "cell_type": "markdown",
      "source": [
        "El tiempo de corrida es de alrededor de 40 minutos"
      ],
      "metadata": {
        "id": "6jCdS3NMuKei"
      }
    },
    {
      "cell_type": "markdown",
      "source": [
        "limpio el ambiente de R"
      ],
      "metadata": {
        "id": "Z1EUBeHyNruK"
      }
    },
    {
      "cell_type": "code",
      "source": [
        "# limpio la memoria\n",
        "rm(list=ls(all.names=TRUE)) # remove all objects\n",
        "gc(full=TRUE, verbose=FALSE) # garbage collection"
      ],
      "metadata": {
        "id": "GxbC4V3zNruM",
        "colab": {
          "base_uri": "https://localhost:8080/",
          "height": 129
        },
        "outputId": "47a40485-fff2-475c-8305-f04f7c6367da"
      },
      "execution_count": 41,
      "outputs": [
        {
          "output_type": "display_data",
          "data": {
            "text/html": [
              "<table class=\"dataframe\">\n",
              "<caption>A matrix: 2 × 6 of type dbl</caption>\n",
              "<thead>\n",
              "\t<tr><th></th><th scope=col>used</th><th scope=col>(Mb)</th><th scope=col>gc trigger</th><th scope=col>(Mb)</th><th scope=col>max used</th><th scope=col>(Mb)</th></tr>\n",
              "</thead>\n",
              "<tbody>\n",
              "\t<tr><th scope=row>Ncells</th><td> 812683</td><td>43.5</td><td> 1454465</td><td> 77.7</td><td>  1454465</td><td> 77.7</td></tr>\n",
              "\t<tr><th scope=row>Vcells</th><td>1533433</td><td>11.7</td><td>66930263</td><td>510.7</td><td>103910653</td><td>792.8</td></tr>\n",
              "</tbody>\n",
              "</table>\n"
            ],
            "text/markdown": "\nA matrix: 2 × 6 of type dbl\n\n| <!--/--> | used | (Mb) | gc trigger | (Mb) | max used | (Mb) |\n|---|---|---|---|---|---|---|\n| Ncells |  812683 | 43.5 |  1454465 |  77.7 |   1454465 |  77.7 |\n| Vcells | 1533433 | 11.7 | 66930263 | 510.7 | 103910653 | 792.8 |\n\n",
            "text/latex": "A matrix: 2 × 6 of type dbl\n\\begin{tabular}{r|llllll}\n  & used & (Mb) & gc trigger & (Mb) & max used & (Mb)\\\\\n\\hline\n\tNcells &  812683 & 43.5 &  1454465 &  77.7 &   1454465 &  77.7\\\\\n\tVcells & 1533433 & 11.7 & 66930263 & 510.7 & 103910653 & 792.8\\\\\n\\end{tabular}\n",
            "text/plain": [
              "       used    (Mb) gc trigger (Mb)  max used  (Mb) \n",
              "Ncells  812683 43.5  1454465    77.7   1454465  77.7\n",
              "Vcells 1533433 11.7 66930263   510.7 103910653 792.8"
            ]
          },
          "metadata": {}
        }
      ]
    },
    {
      "cell_type": "markdown",
      "source": [
        "* Instalacion de la libreria  rpart.plot  para dibujar el arbol\n",
        "* invocacion de las librerias  **data.table** y  **rpart**"
      ],
      "metadata": {
        "id": "i2WkSCIhNruQ"
      }
    },
    {
      "cell_type": "code",
      "source": [
        "# cargo las librerias que necesito\n",
        "require(\"data.table\")\n",
        "require(\"rpart\")\n",
        "require(\"parallel\")\n",
        "\n",
        "if (!require(\"primes\")) install.packages(\"primes\")\n",
        "require(\"primes\")\n",
        "\n",
        "require(\"ggplot2\")"
      ],
      "metadata": {
        "id": "3bMsgZJWNruR",
        "colab": {
          "base_uri": "https://localhost:8080/"
        },
        "outputId": "970431d8-41a5-472b-f961-6164f46a6dad"
      },
      "execution_count": 42,
      "outputs": [
        {
          "output_type": "stream",
          "name": "stderr",
          "text": [
            "Loading required package: ggplot2\n",
            "\n"
          ]
        }
      ]
    },
    {
      "cell_type": "markdown",
      "source": [
        "###  Accion a Realizar\n",
        "PARAM$semilla_primigenia  debe reemplazarse por SU primer semilla"
      ],
      "metadata": {
        "id": "t1lTXrKaNruT"
      }
    },
    {
      "cell_type": "code",
      "source": [
        "PARAM <- list()\n",
        "PARAM$semilla_primigenia <- 200003\n",
        "PARAM$qsemillas <- 20\n",
        "PARAM$training_pct <- 70L     # entre 1 y 100\n"
      ],
      "metadata": {
        "id": "QFbPtTCMNruV"
      },
      "execution_count": 43,
      "outputs": []
    },
    {
      "cell_type": "code",
      "source": [
        "# los dos arboles\n",
        "PARAM$rpart1 <- list (\n",
        "  \"cp\" = -1,\n",
        "  \"minsplit\" = 170,\n",
        "  \"minbucket\" = 70,\n",
        "  \"maxdepth\" = 7\n",
        ")\n",
        "\n",
        "\n",
        "PARAM$rpart2 <- list (\n",
        "  \"cp\" = -1,\n",
        "  \"minsplit\" = 250,\n",
        "  \"minbucket\" = 125,\n",
        "  \"maxdepth\" = 20\n",
        ")"
      ],
      "metadata": {
        "id": "GiBGk7WKQv2V"
      },
      "execution_count": 44,
      "outputs": []
    },
    {
      "cell_type": "code",
      "source": [
        "# particionar agrega una columna llamada fold a un dataset\n",
        "#  que consiste en una particion estratificada segun agrupa\n",
        "\n",
        "# particionar( data=dataset, division=c(70,30),\n",
        "#  agrupa=clase_ternaria, seed=semilla)   crea una particion 70, 30\n",
        "\n",
        "particionar <- function(\n",
        "    data, division, agrupa = \"\",\n",
        "    campo = \"fold\", start = 1, seed = NA) {\n",
        "  if (!is.na(seed)) set.seed(seed)\n",
        "\n",
        "  bloque <- unlist(mapply(function(x, y) {\n",
        "    rep(y, x)\n",
        "  }, division, seq(from = start, length.out = length(division))))\n",
        "\n",
        "  data[, (campo) := sample(rep(bloque, ceiling(.N / length(bloque))))[1:.N],\n",
        "    by = agrupa\n",
        "  ]\n",
        "}\n"
      ],
      "metadata": {
        "id": "2BabfKg7NruX"
      },
      "execution_count": 45,
      "outputs": []
    },
    {
      "cell_type": "code",
      "source": [
        "DosArbolesEstimarGanancia <- function(semilla, training_pct, param_rpart1, param_rpart2) {\n",
        "\n",
        "  # fuerzo impresion\n",
        "  print( paste( semilla, Sys.time()) )\n",
        "  flush.console()\n",
        "\n",
        "  # particiono estratificadamente el dataset\n",
        "  particionar(dataset,\n",
        "    division = c(training_pct, 100L -training_pct),\n",
        "    agrupa = \"clase_ternaria\",\n",
        "    seed = semilla # aqui se usa SU semilla\n",
        "  )\n",
        "\n",
        "  # genero el modelo\n",
        "  # predecir clase_ternaria a partir del resto\n",
        "  modelo1 <- rpart(\"clase_ternaria ~ .\",\n",
        "    data = dataset[fold == 1], # fold==1  es training,  el 70% de los datos\n",
        "    xval = 0,\n",
        "    control = param_rpart1\n",
        "  ) # aqui van los parametros del arbol\n",
        "\n",
        "  # aplico el modelo a los datos de testing\n",
        "  prediccion1 <- predict(modelo1, # el modelo que genere recien\n",
        "    dataset[fold == 2], # fold==2  es testing, el 30% de los datos\n",
        "    type = \"prob\"\n",
        "  ) # type= \"prob\"  es que devuelva la probabilidad\n",
        "\n",
        "\n",
        "  # calculo la ganancia en testing  qu es fold==2\n",
        "  ganancia_test1 <- dataset[\n",
        "    fold == 2,\n",
        "    sum(ifelse(prediccion1[, \"BAJA+2\"] > 0.025,\n",
        "      ifelse(clase_ternaria == \"BAJA+2\", 117000, -3000),\n",
        "      0\n",
        "    ))\n",
        "  ]\n",
        "\n",
        "  # escalo la ganancia como si fuera todo el dataset\n",
        "  ganancia_test_normalizada1 <- ganancia_test1 / (( 100 - training_pct ) / 100 )\n",
        "\n",
        "  modelo2 <- rpart(\"clase_ternaria ~ .\",\n",
        "    data = dataset[fold == 1], # fold==1  es training,  el 70% de los datos\n",
        "    xval = 0,\n",
        "    control = param_rpart2\n",
        "  ) # aqui van los parametros del arbol\n",
        "\n",
        "  # aplico el modelo a los datos de testing\n",
        "  prediccion2 <- predict(modelo2, # el modelo que genere recien\n",
        "    dataset[fold == 2], # fold==2  es testing, el 30% de los datos\n",
        "    type = \"prob\"\n",
        "  ) # type= \"prob\"  es que devuelva la probabilidad\n",
        "\n",
        "\n",
        "  # calculo la ganancia en testing  qu es fold==2\n",
        "  ganancia_test2 <- dataset[\n",
        "    fold == 2,\n",
        "    sum(ifelse(prediccion2[, \"BAJA+2\"] > 0.025,\n",
        "      ifelse(clase_ternaria == \"BAJA+2\", 117000, -3000),\n",
        "      0\n",
        "    ))\n",
        "  ]\n",
        "\n",
        "  # escalo la ganancia como si fuera todo el dataset\n",
        "  ganancia_test_normalizada2 <- ganancia_test2 / (( 100 - training_pct ) / 100 )\n",
        "\n",
        "  return(list(\n",
        "    \"semilla\" = semilla,\n",
        "    \"ganancia1\" = ganancia_test_normalizada1,\n",
        "    \"ganancia2\" = ganancia_test_normalizada2\n",
        "  ))\n",
        "}"
      ],
      "metadata": {
        "id": "YrGJgj4UNruZ"
      },
      "execution_count": 46,
      "outputs": []
    },
    {
      "cell_type": "code",
      "source": [
        "# carpeta de trabajo\n",
        "setwd(\"/content/buckets/b1/exp\")\n",
        "experimento <- \"exp206\"\n",
        "dir.create(experimento, showWarnings=FALSE)\n",
        "setwd( paste0(\"/content/buckets/b1/exp/\", experimento ))"
      ],
      "metadata": {
        "id": "2C2yjgQVNrud"
      },
      "execution_count": 47,
      "outputs": []
    },
    {
      "cell_type": "code",
      "source": [
        "# lectura del dataset\n",
        "dataset <- fread(\"/content/datasets/dataset_pequeno.csv\")\n",
        "\n",
        "# trabajo solo con los datos con clase, es decir 202107\n",
        "dataset <- dataset[clase_ternaria != \"\"]"
      ],
      "metadata": {
        "id": "oQeGcBnPNrug"
      },
      "execution_count": 48,
      "outputs": []
    },
    {
      "cell_type": "code",
      "source": [
        "detectCores()"
      ],
      "metadata": {
        "id": "gXKI2eXO9Osx",
        "colab": {
          "base_uri": "https://localhost:8080/",
          "height": 34
        },
        "outputId": "2dbca014-7b0d-4607-d972-88c2cad5ba94"
      },
      "execution_count": 49,
      "outputs": [
        {
          "output_type": "display_data",
          "data": {
            "text/html": [
              "2"
            ],
            "text/markdown": "2",
            "text/latex": "2",
            "text/plain": [
              "[1] 2"
            ]
          },
          "metadata": {}
        }
      ]
    },
    {
      "cell_type": "code",
      "source": [
        "# genero numeros primos\n",
        "primos <- generate_primes(min = 100000, max = 1000000)\n",
        "set.seed(PARAM$semilla_primigenia) # inicializo\n",
        "\n",
        "# me quedo con PARAM$qsemillas   semillas\n",
        "PARAM$semillas <- sample(primos, PARAM$qsemillas )"
      ],
      "metadata": {
        "id": "tU8S7_5ANrui"
      },
      "execution_count": 50,
      "outputs": []
    },
    {
      "cell_type": "code",
      "source": [
        "# demora interminables 60 minutos en correr en Google Colab\n",
        "Sys.time()\n",
        "\n",
        "salidas <- mcmapply( DosArbolesEstimarGanancia,\n",
        "  PARAM$semillas, # paso el vector de semillas\n",
        "  MoreArgs = list(PARAM$training_pct, PARAM$rpart1, PARAM$rpart2), # aqui paso el segundo parametro\n",
        "  SIMPLIFY = FALSE,\n",
        "  mc.cores = detectCores()\n",
        ")\n",
        "\n",
        "Sys.time()"
      ],
      "metadata": {
        "id": "mlF66CgxcHF3",
        "colab": {
          "base_uri": "https://localhost:8080/",
          "height": 52
        },
        "outputId": "6cdd406f-c59a-416e-cb7c-b7a10baf2281"
      },
      "execution_count": 51,
      "outputs": [
        {
          "output_type": "display_data",
          "data": {
            "text/plain": [
              "[1] \"2025-10-09 18:24:22 UTC\""
            ]
          },
          "metadata": {}
        },
        {
          "output_type": "display_data",
          "data": {
            "text/plain": [
              "[1] \"2025-10-09 19:13:31 UTC\""
            ]
          },
          "metadata": {}
        }
      ]
    },
    {
      "cell_type": "code",
      "source": [
        "# paso la lista a vector\n",
        "tb_salida <- rbindlist(salidas)\n",
        "tb_salida"
      ],
      "metadata": {
        "id": "_g-_kccdNrum",
        "colab": {
          "base_uri": "https://localhost:8080/",
          "height": 725
        },
        "outputId": "f1fb1e0b-d8ce-432e-bae3-cb517cadf321"
      },
      "execution_count": 52,
      "outputs": [
        {
          "output_type": "display_data",
          "data": {
            "text/html": [
              "<table class=\"dataframe\">\n",
              "<caption>A data.table: 20 × 3</caption>\n",
              "<thead>\n",
              "\t<tr><th scope=col>semilla</th><th scope=col>ganancia1</th><th scope=col>ganancia2</th></tr>\n",
              "\t<tr><th scope=col>&lt;int&gt;</th><th scope=col>&lt;dbl&gt;</th><th scope=col>&lt;dbl&gt;</th></tr>\n",
              "</thead>\n",
              "<tbody>\n",
              "\t<tr><td>590819</td><td>46850000</td><td>45130000</td></tr>\n",
              "\t<tr><td>526937</td><td>43860000</td><td>37860000</td></tr>\n",
              "\t<tr><td>753937</td><td>53700000</td><td>46690000</td></tr>\n",
              "\t<tr><td>101173</td><td>44990000</td><td>41240000</td></tr>\n",
              "\t<tr><td>715727</td><td>50940000</td><td>47370000</td></tr>\n",
              "\t<tr><td>522959</td><td>46400000</td><td>41610000</td></tr>\n",
              "\t<tr><td>975883</td><td>42850000</td><td>38540000</td></tr>\n",
              "\t<tr><td>703657</td><td>58450000</td><td>47150000</td></tr>\n",
              "\t<tr><td>631469</td><td>48930000</td><td>44640000</td></tr>\n",
              "\t<tr><td>662617</td><td>41620000</td><td>33680000</td></tr>\n",
              "\t<tr><td>552031</td><td>48630000</td><td>42010000</td></tr>\n",
              "\t<tr><td>195281</td><td>45970000</td><td>43200000</td></tr>\n",
              "\t<tr><td>326999</td><td>46360000</td><td>39070000</td></tr>\n",
              "\t<tr><td>452269</td><td>53140000</td><td>41590000</td></tr>\n",
              "\t<tr><td>576221</td><td>47280000</td><td>43010000</td></tr>\n",
              "\t<tr><td>293729</td><td>46850000</td><td>47400000</td></tr>\n",
              "\t<tr><td>658079</td><td>40790000</td><td>37610000</td></tr>\n",
              "\t<tr><td>341461</td><td>48090000</td><td>41360000</td></tr>\n",
              "\t<tr><td>193873</td><td>49640000</td><td>39520000</td></tr>\n",
              "\t<tr><td>961139</td><td>47200000</td><td>44470000</td></tr>\n",
              "</tbody>\n",
              "</table>\n"
            ],
            "text/markdown": "\nA data.table: 20 × 3\n\n| semilla &lt;int&gt; | ganancia1 &lt;dbl&gt; | ganancia2 &lt;dbl&gt; |\n|---|---|---|\n| 590819 | 46850000 | 45130000 |\n| 526937 | 43860000 | 37860000 |\n| 753937 | 53700000 | 46690000 |\n| 101173 | 44990000 | 41240000 |\n| 715727 | 50940000 | 47370000 |\n| 522959 | 46400000 | 41610000 |\n| 975883 | 42850000 | 38540000 |\n| 703657 | 58450000 | 47150000 |\n| 631469 | 48930000 | 44640000 |\n| 662617 | 41620000 | 33680000 |\n| 552031 | 48630000 | 42010000 |\n| 195281 | 45970000 | 43200000 |\n| 326999 | 46360000 | 39070000 |\n| 452269 | 53140000 | 41590000 |\n| 576221 | 47280000 | 43010000 |\n| 293729 | 46850000 | 47400000 |\n| 658079 | 40790000 | 37610000 |\n| 341461 | 48090000 | 41360000 |\n| 193873 | 49640000 | 39520000 |\n| 961139 | 47200000 | 44470000 |\n\n",
            "text/latex": "A data.table: 20 × 3\n\\begin{tabular}{lll}\n semilla & ganancia1 & ganancia2\\\\\n <int> & <dbl> & <dbl>\\\\\n\\hline\n\t 590819 & 46850000 & 45130000\\\\\n\t 526937 & 43860000 & 37860000\\\\\n\t 753937 & 53700000 & 46690000\\\\\n\t 101173 & 44990000 & 41240000\\\\\n\t 715727 & 50940000 & 47370000\\\\\n\t 522959 & 46400000 & 41610000\\\\\n\t 975883 & 42850000 & 38540000\\\\\n\t 703657 & 58450000 & 47150000\\\\\n\t 631469 & 48930000 & 44640000\\\\\n\t 662617 & 41620000 & 33680000\\\\\n\t 552031 & 48630000 & 42010000\\\\\n\t 195281 & 45970000 & 43200000\\\\\n\t 326999 & 46360000 & 39070000\\\\\n\t 452269 & 53140000 & 41590000\\\\\n\t 576221 & 47280000 & 43010000\\\\\n\t 293729 & 46850000 & 47400000\\\\\n\t 658079 & 40790000 & 37610000\\\\\n\t 341461 & 48090000 & 41360000\\\\\n\t 193873 & 49640000 & 39520000\\\\\n\t 961139 & 47200000 & 44470000\\\\\n\\end{tabular}\n",
            "text/plain": [
              "   semilla ganancia1 ganancia2\n",
              "1  590819  46850000  45130000 \n",
              "2  526937  43860000  37860000 \n",
              "3  753937  53700000  46690000 \n",
              "4  101173  44990000  41240000 \n",
              "5  715727  50940000  47370000 \n",
              "6  522959  46400000  41610000 \n",
              "7  975883  42850000  38540000 \n",
              "8  703657  58450000  47150000 \n",
              "9  631469  48930000  44640000 \n",
              "10 662617  41620000  33680000 \n",
              "11 552031  48630000  42010000 \n",
              "12 195281  45970000  43200000 \n",
              "13 326999  46360000  39070000 \n",
              "14 452269  53140000  41590000 \n",
              "15 576221  47280000  43010000 \n",
              "16 293729  46850000  47400000 \n",
              "17 658079  40790000  37610000 \n",
              "18 341461  48090000  41360000 \n",
              "19 193873  49640000  39520000 \n",
              "20 961139  47200000  44470000 "
            ]
          },
          "metadata": {}
        }
      ]
    },
    {
      "cell_type": "code",
      "source": [
        "grafico <- ggplot( tb_salida, aes(x=ganancia1)) + geom_density(alpha=0.25, fill=\"green\", color=\"green\")  +\n",
        "             geom_density(data=tb_salida, aes(x=ganancia2), fill=\"purple\", color=\"purple\",  alpha=0.10)\n",
        "\n",
        "print(grafico)"
      ],
      "metadata": {
        "id": "-O0rg6btNrun",
        "colab": {
          "base_uri": "https://localhost:8080/",
          "height": 437
        },
        "outputId": "819796f2-6562-4d8c-b1ff-b7980a2580ec"
      },
      "execution_count": 53,
      "outputs": [
        {
          "output_type": "display_data",
          "data": {
            "text/plain": [
              "plot without title"
            ],
            "image/png": "[encoded data removed]"
          },
          "metadata": {
            "image/png": {
              "width": 420,
              "height": 420
            }
          }
        }
      ]
    },
    {
      "cell_type": "code",
      "source": [
        "# imprimo en un .pdf  que va a la carpeta del experimento\n",
        "pdf(\"densidad_dos.pdf\")\n",
        "print(grafico)\n",
        "dev.off()"
      ],
      "metadata": {
        "id": "uSqrazOyU_LC",
        "colab": {
          "base_uri": "https://localhost:8080/",
          "height": 34
        },
        "outputId": "5910ac80-2778-49d7-f209-bee36644901a"
      },
      "execution_count": 54,
      "outputs": [
        {
          "output_type": "display_data",
          "data": {
            "text/html": [
              "<strong>agg_record_683879681:</strong> 2"
            ],
            "text/markdown": "**agg_record_683879681:** 2",
            "text/latex": "\\textbf{agg\\textbackslash{}\\_record\\textbackslash{}\\_683879681:} 2",
            "text/plain": [
              "agg_record_683879681 \n",
              "                   2 "
            ]
          },
          "metadata": {}
        }
      ]
    },
    {
      "cell_type": "code",
      "source": [
        "print( tb_salida[ , list( \"arbol1\" = mean( ganancia1),  \"arbol2\" = mean(ganancia2) ) ] )\n",
        "\n",
        "print( tb_salida[ , list( \"prob( m1 > m2)\" = sum(ganancia1 > ganancia2 )/ .N ) ]  )"
      ],
      "metadata": {
        "id": "LGv0LB_4R7US",
        "colab": {
          "base_uri": "https://localhost:8080/"
        },
        "outputId": "597d63e6-90d8-4e83-d307-e13cf9c6e662"
      },
      "execution_count": 55,
      "outputs": [
        {
          "output_type": "stream",
          "name": "stdout",
          "text": [
            "     arbol1   arbol2\n",
            "      <num>    <num>\n",
            "1: 47627000 42157500\n",
            "   prob( m1 > m2)\n",
            "            <num>\n",
            "1:           0.95\n"
          ]
        }
      ]
    },
    {
      "cell_type": "markdown",
      "source": [
        "### Acciones a realizar\n",
        "* Reportar la  los resultados en la planilla colaborativa hoja  **C2-dosModelos**\n",
        "* ¿Todos los alumnos hubieran elegido el mismo modelo aun con 20 semillas?"
      ],
      "metadata": {
        "id": "F6lFJf1VTi8b"
      }
    },
    {
      "cell_type": "markdown",
      "source": [
        "\n",
        "\n",
        "---\n",
        "\n"
      ],
      "metadata": {
        "id": "aOpy-XBKTi8n"
      }
    },
    {
      "cell_type": "markdown",
      "source": [
        "# 7 Comparando dos buenos  modelos\n",
        "## Clase 02  Experimento 7"
      ],
      "metadata": {
        "id": "EdzjiJf-dsEK"
      }
    },
    {
      "cell_type": "markdown",
      "source": [
        "## 7.1  Objetivos\n",
        "Presentar a los alumnos la dificultad que surge en la comparación de dos muy distintos, pero ambos buenos, modelos predictivos, y el costo computacional asociado a esa comparación\n",
        "<br>Comparación simple de media de ganancias, versus probabilidad que un modelo sea superior a otro.\n",
        "<br>Limitaciones de la MonteCarlo Cross Validation\n",
        "<br>Existencia del Test de Wilcoxon"
      ],
      "metadata": {
        "id": "FcBjp5XxdsEt"
      }
    },
    {
      "cell_type": "markdown",
      "source": [
        "## 7.2 Introduccion\n",
        "Estos son los dos arboles de muy distinta profundidad.\n",
        "<br>¿Cuál de ellos es mejor? ¿Cuál elijo?\n",
        "\n",
        "| Hiperparámetro | Arbol 1 | Arbol 2 |\n",
        "| --- | --: |  ---: |\n",
        "| cp | -1 | -1 |\n",
        "|minsplit | 170 | 1900 |\n",
        "|minbucket | 70 | 800 |\n",
        "|maxdepth | 7 | 3 |\n",
        "\n"
      ],
      "metadata": {
        "id": "tYcOIcwCdsEu"
      }
    },
    {
      "cell_type": "markdown",
      "source": [
        "## 7.3 Dos buenos modelos"
      ],
      "metadata": {
        "id": "r0NDA7GgdsEu"
      }
    },
    {
      "cell_type": "markdown",
      "source": [
        "Esta parte se debe correr con el runtime en lenguaje **R** Ir al menu, Runtime -> Change Runtime Tipe -> Runtime type -> R"
      ],
      "metadata": {
        "id": "21SJmGd7dsEv"
      }
    },
    {
      "cell_type": "markdown",
      "source": [
        "El tiempo de corrida es de alrededor de 50 minutos"
      ],
      "metadata": {
        "id": "Ne0e08KUt87w"
      }
    },
    {
      "cell_type": "markdown",
      "source": [
        "limpio el ambiente de R"
      ],
      "metadata": {
        "id": "q02SEGNwdsEv"
      }
    },
    {
      "cell_type": "code",
      "source": [
        "# limpio la memoria\n",
        "rm(list=ls(all.names=TRUE)) # remove all objects\n",
        "gc(full=TRUE, verbose=FALSE) # garbage collection"
      ],
      "metadata": {
        "id": "6c2ZJstWdsEw",
        "colab": {
          "base_uri": "https://localhost:8080/",
          "height": 129
        },
        "outputId": "ac4e6498-14a0-46c3-e26e-72e07bafb7fd"
      },
      "execution_count": 56,
      "outputs": [
        {
          "output_type": "display_data",
          "data": {
            "text/html": [
              "<table class=\"dataframe\">\n",
              "<caption>A matrix: 2 × 6 of type dbl</caption>\n",
              "<thead>\n",
              "\t<tr><th></th><th scope=col>used</th><th scope=col>(Mb)</th><th scope=col>gc trigger</th><th scope=col>(Mb)</th><th scope=col>max used</th><th scope=col>(Mb)</th></tr>\n",
              "</thead>\n",
              "<tbody>\n",
              "\t<tr><th scope=row>Ncells</th><td>1403064</td><td>75.0</td><td> 2477894</td><td>132.4</td><td>  2477894</td><td>132.4</td></tr>\n",
              "\t<tr><th scope=row>Vcells</th><td>2561120</td><td>19.6</td><td>52387041</td><td>399.7</td><td>103910653</td><td>792.8</td></tr>\n",
              "</tbody>\n",
              "</table>\n"
            ],
            "text/markdown": "\nA matrix: 2 × 6 of type dbl\n\n| <!--/--> | used | (Mb) | gc trigger | (Mb) | max used | (Mb) |\n|---|---|---|---|---|---|---|\n| Ncells | 1403064 | 75.0 |  2477894 | 132.4 |   2477894 | 132.4 |\n| Vcells | 2561120 | 19.6 | 52387041 | 399.7 | 103910653 | 792.8 |\n\n",
            "text/latex": "A matrix: 2 × 6 of type dbl\n\\begin{tabular}{r|llllll}\n  & used & (Mb) & gc trigger & (Mb) & max used & (Mb)\\\\\n\\hline\n\tNcells & 1403064 & 75.0 &  2477894 & 132.4 &   2477894 & 132.4\\\\\n\tVcells & 2561120 & 19.6 & 52387041 & 399.7 & 103910653 & 792.8\\\\\n\\end{tabular}\n",
            "text/plain": [
              "       used    (Mb) gc trigger (Mb)  max used  (Mb) \n",
              "Ncells 1403064 75.0  2477894   132.4   2477894 132.4\n",
              "Vcells 2561120 19.6 52387041   399.7 103910653 792.8"
            ]
          },
          "metadata": {}
        }
      ]
    },
    {
      "cell_type": "markdown",
      "source": [
        "* Instalacion de la libreria  rpart.plot  para dibujar el arbol\n",
        "* invocacion de las librerias  **data.table** y  **rpart**"
      ],
      "metadata": {
        "id": "62MIW0r1dsEx"
      }
    },
    {
      "cell_type": "code",
      "source": [
        "# cargo las librerias que necesito\n",
        "require(\"data.table\")\n",
        "require(\"rpart\")\n",
        "require(\"parallel\")\n",
        "\n",
        "if (!require(\"primes\")) install.packages(\"primes\")\n",
        "require(\"primes\")\n",
        "\n",
        "require(\"ggplot2\")"
      ],
      "metadata": {
        "id": "2Ke4n-N8dsEy"
      },
      "execution_count": 57,
      "outputs": []
    },
    {
      "cell_type": "markdown",
      "source": [
        "###  Accion a Realizar\n",
        "PARAM$semilla_primigenia  debe reemplazarse por SU primer semilla"
      ],
      "metadata": {
        "id": "UHSoeqi4dsEz"
      }
    },
    {
      "cell_type": "code",
      "source": [
        "PARAM <- list()\n",
        "PARAM$semilla_primigenia <- 200003\n",
        "PARAM$qsemillas <- 50\n",
        "PARAM$training_pct <- 70L     # entre 1 y 100\n"
      ],
      "metadata": {
        "id": "f08_sqfAdsEz"
      },
      "execution_count": 58,
      "outputs": []
    },
    {
      "cell_type": "code",
      "source": [
        "# los dos arboles\n",
        "PARAM$rpart1 <- list (\n",
        "  \"cp\" = -1,\n",
        "  \"minsplit\" = 170,\n",
        "  \"minbucket\" = 70,\n",
        "  \"maxdepth\" = 7\n",
        ")\n",
        "\n",
        "\n",
        "PARAM$rpart2 <- list (\n",
        "  \"cp\" = -1,\n",
        "  \"minsplit\" = 1900,\n",
        "  \"minbucket\" = 800,\n",
        "  \"maxdepth\" = 3\n",
        ")\n"
      ],
      "metadata": {
        "id": "L735D9rydsE0"
      },
      "execution_count": 59,
      "outputs": []
    },
    {
      "cell_type": "code",
      "source": [
        "# particionar agrega una columna llamada fold a un dataset\n",
        "#  que consiste en una particion estratificada segun agrupa\n",
        "\n",
        "# particionar( data=dataset, division=c(70,30),\n",
        "#  agrupa=clase_ternaria, seed=semilla)   crea una particion 70, 30\n",
        "\n",
        "particionar <- function(\n",
        "    data, division, agrupa = \"\",\n",
        "    campo = \"fold\", start = 1, seed = NA) {\n",
        "  if (!is.na(seed)) set.seed(seed)\n",
        "\n",
        "  bloque <- unlist(mapply(function(x, y) {\n",
        "    rep(y, x)\n",
        "  }, division, seq(from = start, length.out = length(division))))\n",
        "\n",
        "  data[, (campo) := sample(rep(bloque, ceiling(.N / length(bloque))))[1:.N],\n",
        "    by = agrupa\n",
        "  ]\n",
        "}\n"
      ],
      "metadata": {
        "id": "O56epLUGdsE1"
      },
      "execution_count": 60,
      "outputs": []
    },
    {
      "cell_type": "code",
      "source": [
        "DosArbolesEstimarGanancia <- function(semilla, training_pct, param_rpart1, param_rpart2) {\n",
        "  # fuerzo impresion\n",
        "  print( paste( semilla, Sys.time()) )\n",
        "  flush.console()\n",
        "\n",
        "  # particiono estratificadamente el dataset\n",
        "  particionar(dataset,\n",
        "    division = c(training_pct, 100L -training_pct),\n",
        "    agrupa = \"clase_ternaria\",\n",
        "    seed = semilla # aqui se usa SU semilla\n",
        "  )\n",
        "\n",
        "  # genero el modelo\n",
        "  # predecir clase_ternaria a partir del resto\n",
        "  modelo1 <- rpart(\"clase_ternaria ~ .\",\n",
        "    data = dataset[fold == 1], # fold==1  es training,  el 70% de los datos\n",
        "    xval = 0,\n",
        "    control = param_rpart1\n",
        "  ) # aqui van los parametros del arbol\n",
        "\n",
        "  # aplico el modelo a los datos de testing\n",
        "  prediccion1 <- predict(modelo1, # el modelo que genere recien\n",
        "    dataset[fold == 2], # fold==2  es testing, el 30% de los datos\n",
        "    type = \"prob\"\n",
        "  ) # type= \"prob\"  es que devuelva la probabilidad\n",
        "\n",
        "\n",
        "  # calculo la ganancia en testing  qu es fold==2\n",
        "  ganancia_test1 <- dataset[\n",
        "    fold == 2,\n",
        "    sum(ifelse(prediccion1[, \"BAJA+2\"] > 0.025,\n",
        "      ifelse(clase_ternaria == \"BAJA+2\", 117000, -3000),\n",
        "      0\n",
        "    ))\n",
        "  ]\n",
        "\n",
        "  # escalo la ganancia como si fuera todo el dataset\n",
        "  ganancia_test_normalizada1 <- ganancia_test1 / (( 100 - training_pct ) / 100 )\n",
        "\n",
        "  modelo2 <- rpart(\"clase_ternaria ~ .\",\n",
        "    data = dataset[fold == 1], # fold==1  es training,  el 70% de los datos\n",
        "    xval = 0,\n",
        "    control = param_rpart2\n",
        "  ) # aqui van los parametros del arbol\n",
        "\n",
        "  # aplico el modelo a los datos de testing\n",
        "  prediccion2 <- predict(modelo2, # el modelo que genere recien\n",
        "    dataset[fold == 2], # fold==2  es testing, el 30% de los datos\n",
        "    type = \"prob\"\n",
        "  ) # type= \"prob\"  es que devuelva la probabilidad\n",
        "\n",
        "\n",
        "  # calculo la ganancia en testing  qu es fold==2\n",
        "  ganancia_test2 <- dataset[\n",
        "    fold == 2,\n",
        "    sum(ifelse(prediccion2[, \"BAJA+2\"] > 0.025,\n",
        "      ifelse(clase_ternaria == \"BAJA+2\", 117000, -3000),\n",
        "      0\n",
        "    ))\n",
        "  ]\n",
        "\n",
        "  # escalo la ganancia como si fuera todo el dataset\n",
        "  ganancia_test_normalizada2 <- ganancia_test2 / (( 100 - training_pct ) / 100 )\n",
        "\n",
        "  return(list(\n",
        "    \"semilla\" = semilla,\n",
        "    \"ganancia1\" = ganancia_test_normalizada1,\n",
        "    \"ganancia2\" = ganancia_test_normalizada2\n",
        "  ))\n",
        "}"
      ],
      "metadata": {
        "id": "Bv_NorLhdsE1"
      },
      "execution_count": 61,
      "outputs": []
    },
    {
      "cell_type": "code",
      "source": [
        "# carpeta de trabajo\n",
        "setwd(\"/content/buckets/b1/exp\")\n",
        "experimento <- \"exp206\"\n",
        "dir.create(experimento, showWarnings=FALSE)\n",
        "setwd( paste0(\"/content/buckets/b1/exp/\", experimento ))"
      ],
      "metadata": {
        "id": "N9GarblIdsE3"
      },
      "execution_count": 62,
      "outputs": []
    },
    {
      "cell_type": "code",
      "source": [
        "# lectura del dataset\n",
        "dataset <- fread(\"/content/datasets/dataset_pequeno.csv\")\n",
        "\n",
        "# trabajo solo con los datos con clase, es decir 202107\n",
        "dataset <- dataset[clase_ternaria != \"\"]"
      ],
      "metadata": {
        "id": "Z05r3wdTdsE3"
      },
      "execution_count": 63,
      "outputs": []
    },
    {
      "cell_type": "code",
      "source": [
        "# genero numeros primos\n",
        "primos <- generate_primes(min = 100000, max = 1000000)\n",
        "set.seed(PARAM$semilla_primigenia) # inicializo\n",
        "\n",
        "# me quedo con PARAM$qsemillas   semillas\n",
        "PARAM$semillas <- sample(primos, PARAM$qsemillas )"
      ],
      "metadata": {
        "id": "m8ODrVrndsE4"
      },
      "execution_count": 64,
      "outputs": []
    },
    {
      "cell_type": "code",
      "source": [
        "# la funcion mcmapply  llama a la funcion DosArbolesEstimarGanancia\n",
        "#  tantas veces como valores tenga el vector  PARAM$semillas\n",
        "Sys.time()\n",
        "\n",
        "salidas <- mcmapply( DosArbolesEstimarGanancia,\n",
        "  PARAM$semillas, # paso el vector de semillas\n",
        "  MoreArgs = list(PARAM$training_pct, PARAM$rpart1, PARAM$rpart2), # aqui paso el segundo parametro\n",
        "  SIMPLIFY = FALSE,\n",
        "  mc.cores = detectCores()\n",
        ")\n",
        "\n",
        "Sys.time()"
      ],
      "metadata": {
        "id": "KQBhUXxJdsE5",
        "colab": {
          "base_uri": "https://localhost:8080/",
          "height": 52
        },
        "outputId": "5a25085d-b591-492a-c6a3-9ee54f18dcec"
      },
      "execution_count": 65,
      "outputs": [
        {
          "output_type": "display_data",
          "data": {
            "text/plain": [
              "[1] \"2025-10-09 19:13:35 UTC\""
            ]
          },
          "metadata": {}
        },
        {
          "output_type": "display_data",
          "data": {
            "text/plain": [
              "[1] \"2025-10-09 20:08:24 UTC\""
            ]
          },
          "metadata": {}
        }
      ]
    },
    {
      "cell_type": "code",
      "source": [
        "# paso la lista a vector\n",
        "tb_salida <- rbindlist(salidas)\n",
        "tb_salida"
      ],
      "metadata": {
        "id": "N0eS1CFFdsE5",
        "outputId": "f2590bd7-d0f3-4606-b70f-6a03faf658da",
        "colab": {
          "base_uri": "https://localhost:8080/",
          "height": 1000
        }
      },
      "execution_count": 66,
      "outputs": [
        {
          "output_type": "display_data",
          "data": {
            "text/html": [
              "<table class=\"dataframe\">\n",
              "<caption>A data.table: 50 × 3</caption>\n",
              "<thead>\n",
              "\t<tr><th scope=col>semilla</th><th scope=col>ganancia1</th><th scope=col>ganancia2</th></tr>\n",
              "\t<tr><th scope=col>&lt;int&gt;</th><th scope=col>&lt;dbl&gt;</th><th scope=col>&lt;dbl&gt;</th></tr>\n",
              "</thead>\n",
              "<tbody>\n",
              "\t<tr><td>590819</td><td>46850000</td><td>47010000</td></tr>\n",
              "\t<tr><td>526937</td><td>43860000</td><td>42720000</td></tr>\n",
              "\t<tr><td>753937</td><td>53700000</td><td>54610000</td></tr>\n",
              "\t<tr><td>101173</td><td>44990000</td><td>47830000</td></tr>\n",
              "\t<tr><td>715727</td><td>50940000</td><td>47300000</td></tr>\n",
              "\t<tr><td>522959</td><td>46400000</td><td>45540000</td></tr>\n",
              "\t<tr><td>975883</td><td>42850000</td><td>45890000</td></tr>\n",
              "\t<tr><td>703657</td><td>58450000</td><td>52470000</td></tr>\n",
              "\t<tr><td>631469</td><td>48930000</td><td>47920000</td></tr>\n",
              "\t<tr><td>662617</td><td>41620000</td><td>42050000</td></tr>\n",
              "\t<tr><td>552031</td><td>48630000</td><td>49310000</td></tr>\n",
              "\t<tr><td>195281</td><td>45970000</td><td>45480000</td></tr>\n",
              "\t<tr><td>326999</td><td>46360000</td><td>45990000</td></tr>\n",
              "\t<tr><td>452269</td><td>53140000</td><td>52220000</td></tr>\n",
              "\t<tr><td>576221</td><td>47280000</td><td>52990000</td></tr>\n",
              "\t<tr><td>293729</td><td>46850000</td><td>50780000</td></tr>\n",
              "\t<tr><td>658079</td><td>40790000</td><td>37360000</td></tr>\n",
              "\t<tr><td>341461</td><td>48090000</td><td>49880000</td></tr>\n",
              "\t<tr><td>193873</td><td>49640000</td><td>46070000</td></tr>\n",
              "\t<tr><td>961139</td><td>47200000</td><td>46780000</td></tr>\n",
              "\t<tr><td>754513</td><td>43730000</td><td>46550000</td></tr>\n",
              "\t<tr><td>856759</td><td>49760000</td><td>44280000</td></tr>\n",
              "\t<tr><td>402307</td><td>53760000</td><td>48830000</td></tr>\n",
              "\t<tr><td>706417</td><td>44770000</td><td>44320000</td></tr>\n",
              "\t<tr><td>586457</td><td>49640000</td><td>50410000</td></tr>\n",
              "\t<tr><td>260461</td><td>45400000</td><td>45780000</td></tr>\n",
              "\t<tr><td>808373</td><td>46390000</td><td>46670000</td></tr>\n",
              "\t<tr><td>986933</td><td>41560000</td><td>45010000</td></tr>\n",
              "\t<tr><td>251879</td><td>49620000</td><td>45330000</td></tr>\n",
              "\t<tr><td>829453</td><td>45990000</td><td>45480000</td></tr>\n",
              "\t<tr><td>208189</td><td>48980000</td><td>44880000</td></tr>\n",
              "\t<tr><td>690721</td><td>52610000</td><td>53090000</td></tr>\n",
              "\t<tr><td>658117</td><td>53740000</td><td>49710000</td></tr>\n",
              "\t<tr><td>885509</td><td>52240000</td><td>51500000</td></tr>\n",
              "\t<tr><td>816019</td><td>46770000</td><td>49240000</td></tr>\n",
              "\t<tr><td>526739</td><td>50760000</td><td>50510000</td></tr>\n",
              "\t<tr><td>236471</td><td>48270000</td><td>47750000</td></tr>\n",
              "\t<tr><td>147089</td><td>44410000</td><td>44400000</td></tr>\n",
              "\t<tr><td>550607</td><td>43430000</td><td>43650000</td></tr>\n",
              "\t<tr><td>249863</td><td>53520000</td><td>56210000</td></tr>\n",
              "\t<tr><td>398369</td><td>40310000</td><td>40880000</td></tr>\n",
              "\t<tr><td>866857</td><td>47420000</td><td>51340000</td></tr>\n",
              "\t<tr><td>864781</td><td>50830000</td><td>47170000</td></tr>\n",
              "\t<tr><td>518831</td><td>52460000</td><td>53880000</td></tr>\n",
              "\t<tr><td>170081</td><td>44830000</td><td>44360000</td></tr>\n",
              "\t<tr><td>111653</td><td>41310000</td><td>42700000</td></tr>\n",
              "\t<tr><td>157627</td><td>46890000</td><td>45100000</td></tr>\n",
              "\t<tr><td>381569</td><td>47230000</td><td>46550000</td></tr>\n",
              "\t<tr><td>674903</td><td>53030000</td><td>55830000</td></tr>\n",
              "\t<tr><td>858503</td><td>43440000</td><td>46190000</td></tr>\n",
              "</tbody>\n",
              "</table>\n"
            ],
            "text/markdown": "\nA data.table: 50 × 3\n\n| semilla &lt;int&gt; | ganancia1 &lt;dbl&gt; | ganancia2 &lt;dbl&gt; |\n|---|---|---|\n| 590819 | 46850000 | 47010000 |\n| 526937 | 43860000 | 42720000 |\n| 753937 | 53700000 | 54610000 |\n| 101173 | 44990000 | 47830000 |\n| 715727 | 50940000 | 47300000 |\n| 522959 | 46400000 | 45540000 |\n| 975883 | 42850000 | 45890000 |\n| 703657 | 58450000 | 52470000 |\n| 631469 | 48930000 | 47920000 |\n| 662617 | 41620000 | 42050000 |\n| 552031 | 48630000 | 49310000 |\n| 195281 | 45970000 | 45480000 |\n| 326999 | 46360000 | 45990000 |\n| 452269 | 53140000 | 52220000 |\n| 576221 | 47280000 | 52990000 |\n| 293729 | 46850000 | 50780000 |\n| 658079 | 40790000 | 37360000 |\n| 341461 | 48090000 | 49880000 |\n| 193873 | 49640000 | 46070000 |\n| 961139 | 47200000 | 46780000 |\n| 754513 | 43730000 | 46550000 |\n| 856759 | 49760000 | 44280000 |\n| 402307 | 53760000 | 48830000 |\n| 706417 | 44770000 | 44320000 |\n| 586457 | 49640000 | 50410000 |\n| 260461 | 45400000 | 45780000 |\n| 808373 | 46390000 | 46670000 |\n| 986933 | 41560000 | 45010000 |\n| 251879 | 49620000 | 45330000 |\n| 829453 | 45990000 | 45480000 |\n| 208189 | 48980000 | 44880000 |\n| 690721 | 52610000 | 53090000 |\n| 658117 | 53740000 | 49710000 |\n| 885509 | 52240000 | 51500000 |\n| 816019 | 46770000 | 49240000 |\n| 526739 | 50760000 | 50510000 |\n| 236471 | 48270000 | 47750000 |\n| 147089 | 44410000 | 44400000 |\n| 550607 | 43430000 | 43650000 |\n| 249863 | 53520000 | 56210000 |\n| 398369 | 40310000 | 40880000 |\n| 866857 | 47420000 | 51340000 |\n| 864781 | 50830000 | 47170000 |\n| 518831 | 52460000 | 53880000 |\n| 170081 | 44830000 | 44360000 |\n| 111653 | 41310000 | 42700000 |\n| 157627 | 46890000 | 45100000 |\n| 381569 | 47230000 | 46550000 |\n| 674903 | 53030000 | 55830000 |\n| 858503 | 43440000 | 46190000 |\n\n",
            "text/latex": "A data.table: 50 × 3\n\\begin{tabular}{lll}\n semilla & ganancia1 & ganancia2\\\\\n <int> & <dbl> & <dbl>\\\\\n\\hline\n\t 590819 & 46850000 & 47010000\\\\\n\t 526937 & 43860000 & 42720000\\\\\n\t 753937 & 53700000 & 54610000\\\\\n\t 101173 & 44990000 & 47830000\\\\\n\t 715727 & 50940000 & 47300000\\\\\n\t 522959 & 46400000 & 45540000\\\\\n\t 975883 & 42850000 & 45890000\\\\\n\t 703657 & 58450000 & 52470000\\\\\n\t 631469 & 48930000 & 47920000\\\\\n\t 662617 & 41620000 & 42050000\\\\\n\t 552031 & 48630000 & 49310000\\\\\n\t 195281 & 45970000 & 45480000\\\\\n\t 326999 & 46360000 & 45990000\\\\\n\t 452269 & 53140000 & 52220000\\\\\n\t 576221 & 47280000 & 52990000\\\\\n\t 293729 & 46850000 & 50780000\\\\\n\t 658079 & 40790000 & 37360000\\\\\n\t 341461 & 48090000 & 49880000\\\\\n\t 193873 & 49640000 & 46070000\\\\\n\t 961139 & 47200000 & 46780000\\\\\n\t 754513 & 43730000 & 46550000\\\\\n\t 856759 & 49760000 & 44280000\\\\\n\t 402307 & 53760000 & 48830000\\\\\n\t 706417 & 44770000 & 44320000\\\\\n\t 586457 & 49640000 & 50410000\\\\\n\t 260461 & 45400000 & 45780000\\\\\n\t 808373 & 46390000 & 46670000\\\\\n\t 986933 & 41560000 & 45010000\\\\\n\t 251879 & 49620000 & 45330000\\\\\n\t 829453 & 45990000 & 45480000\\\\\n\t 208189 & 48980000 & 44880000\\\\\n\t 690721 & 52610000 & 53090000\\\\\n\t 658117 & 53740000 & 49710000\\\\\n\t 885509 & 52240000 & 51500000\\\\\n\t 816019 & 46770000 & 49240000\\\\\n\t 526739 & 50760000 & 50510000\\\\\n\t 236471 & 48270000 & 47750000\\\\\n\t 147089 & 44410000 & 44400000\\\\\n\t 550607 & 43430000 & 43650000\\\\\n\t 249863 & 53520000 & 56210000\\\\\n\t 398369 & 40310000 & 40880000\\\\\n\t 866857 & 47420000 & 51340000\\\\\n\t 864781 & 50830000 & 47170000\\\\\n\t 518831 & 52460000 & 53880000\\\\\n\t 170081 & 44830000 & 44360000\\\\\n\t 111653 & 41310000 & 42700000\\\\\n\t 157627 & 46890000 & 45100000\\\\\n\t 381569 & 47230000 & 46550000\\\\\n\t 674903 & 53030000 & 55830000\\\\\n\t 858503 & 43440000 & 46190000\\\\\n\\end{tabular}\n",
            "text/plain": [
              "   semilla ganancia1 ganancia2\n",
              "1  590819  46850000  47010000 \n",
              "2  526937  43860000  42720000 \n",
              "3  753937  53700000  54610000 \n",
              "4  101173  44990000  47830000 \n",
              "5  715727  50940000  47300000 \n",
              "6  522959  46400000  45540000 \n",
              "7  975883  42850000  45890000 \n",
              "8  703657  58450000  52470000 \n",
              "9  631469  48930000  47920000 \n",
              "10 662617  41620000  42050000 \n",
              "11 552031  48630000  49310000 \n",
              "12 195281  45970000  45480000 \n",
              "13 326999  46360000  45990000 \n",
              "14 452269  53140000  52220000 \n",
              "15 576221  47280000  52990000 \n",
              "16 293729  46850000  50780000 \n",
              "17 658079  40790000  37360000 \n",
              "18 341461  48090000  49880000 \n",
              "19 193873  49640000  46070000 \n",
              "20 961139  47200000  46780000 \n",
              "21 754513  43730000  46550000 \n",
              "22 856759  49760000  44280000 \n",
              "23 402307  53760000  48830000 \n",
              "24 706417  44770000  44320000 \n",
              "25 586457  49640000  50410000 \n",
              "26 260461  45400000  45780000 \n",
              "27 808373  46390000  46670000 \n",
              "28 986933  41560000  45010000 \n",
              "29 251879  49620000  45330000 \n",
              "30 829453  45990000  45480000 \n",
              "31 208189  48980000  44880000 \n",
              "32 690721  52610000  53090000 \n",
              "33 658117  53740000  49710000 \n",
              "34 885509  52240000  51500000 \n",
              "35 816019  46770000  49240000 \n",
              "36 526739  50760000  50510000 \n",
              "37 236471  48270000  47750000 \n",
              "38 147089  44410000  44400000 \n",
              "39 550607  43430000  43650000 \n",
              "40 249863  53520000  56210000 \n",
              "41 398369  40310000  40880000 \n",
              "42 866857  47420000  51340000 \n",
              "43 864781  50830000  47170000 \n",
              "44 518831  52460000  53880000 \n",
              "45 170081  44830000  44360000 \n",
              "46 111653  41310000  42700000 \n",
              "47 157627  46890000  45100000 \n",
              "48 381569  47230000  46550000 \n",
              "49 674903  53030000  55830000 \n",
              "50 858503  43440000  46190000 "
            ]
          },
          "metadata": {}
        }
      ]
    },
    {
      "cell_type": "code",
      "source": [
        "grafico <- ggplot( tb_salida, aes(x=ganancia1), fill=\"green\", color=\"green\") + geom_density(alpha=0.25)  +\n",
        "             geom_density(data=tb_salida, aes(x=ganancia2), fill=\"purple\", color=\"purple\",  alpha=0.10)\n",
        "\n",
        "print(grafico)"
      ],
      "metadata": {
        "id": "6vf28ujAdsE6",
        "outputId": "bc23120a-ec7b-4b01-a993-93456768bc01",
        "colab": {
          "base_uri": "https://localhost:8080/",
          "height": 543
        }
      },
      "execution_count": 67,
      "outputs": [
        {
          "output_type": "stream",
          "name": "stderr",
          "text": [
            "Warning message in fortify(data, ...):\n",
            "“\u001b[1m\u001b[22mArguments in `...` must be used.\n",
            "\u001b[31m✖\u001b[39m Problematic arguments:\n",
            "\u001b[36m•\u001b[39m fill = \"green\"\n",
            "\u001b[36m•\u001b[39m color = \"green\"\n",
            "\u001b[36mℹ\u001b[39m Did you misspell an argument name?”\n"
          ]
        },
        {
          "output_type": "display_data",
          "data": {
            "text/plain": [
              "plot without title"
            ],
            "image/png": "[encoded data removed]"
          },
          "metadata": {
            "image/png": {
              "width": 420,
              "height": 420
            }
          }
        }
      ]
    },
    {
      "cell_type": "code",
      "source": [
        "# imprimo en un .pdf  que va a la carpeta del experimento\n",
        "pdf(\"densidad_dos.pdf\")\n",
        "print(grafico)\n",
        "dev.off()"
      ],
      "metadata": {
        "id": "TA9lLa6-dsE6",
        "outputId": "f45276e1-0993-4fb2-f8d6-0bc9aa1b0268",
        "colab": {
          "base_uri": "https://localhost:8080/",
          "height": 34
        }
      },
      "execution_count": 68,
      "outputs": [
        {
          "output_type": "display_data",
          "data": {
            "text/html": [
              "<strong>agg_record_1006277664:</strong> 2"
            ],
            "text/markdown": "**agg_record_1006277664:** 2",
            "text/latex": "\\textbf{agg\\textbackslash{}\\_record\\textbackslash{}\\_1006277664:} 2",
            "text/plain": [
              "agg_record_1006277664 \n",
              "                    2 "
            ]
          },
          "metadata": {}
        }
      ]
    },
    {
      "cell_type": "code",
      "source": [
        "# medias de las ganancias\n",
        "print( tb_salida[ , list( \"arbol1\" = mean( ganancia1),  \"arbol2\" = mean(ganancia2) ) ] )\n"
      ],
      "metadata": {
        "id": "xAOpyZTqdsE7",
        "outputId": "adfa5058-5250-46af-de8a-00c7e98ee098",
        "colab": {
          "base_uri": "https://localhost:8080/"
        }
      },
      "execution_count": 69,
      "outputs": [
        {
          "output_type": "stream",
          "name": "stdout",
          "text": [
            "     arbol1   arbol2\n",
            "      <num>    <num>\n",
            "1: 47712800 47556000\n"
          ]
        }
      ]
    },
    {
      "cell_type": "code",
      "source": [
        "# probabilidad que m1 sea mayor a m2\n",
        "print( tb_salida[ , list( \"prob( m1 > m2)\" = sum(ganancia1 > ganancia2 )/ .N ) ]  )"
      ],
      "metadata": {
        "id": "8rdPIcfzgob7",
        "outputId": "78351808-895a-4450-b09e-fd1c62a76791",
        "colab": {
          "base_uri": "https://localhost:8080/"
        }
      },
      "execution_count": 70,
      "outputs": [
        {
          "output_type": "stream",
          "name": "stdout",
          "text": [
            "   prob( m1 > m2)\n",
            "            <num>\n",
            "1:           0.52\n"
          ]
        }
      ]
    },
    {
      "cell_type": "markdown",
      "source": [
        "### Acciones a realizar\n",
        "* Reportar la  los resultados en la planilla colaborativa hoja  **C2-dosBuenos**\n"
      ],
      "metadata": {
        "id": "nNNJWYRadsE7"
      }
    },
    {
      "cell_type": "markdown",
      "source": [
        "\n",
        "\n",
        "---\n",
        "\n"
      ],
      "metadata": {
        "id": "LTBEq6SEdsE8"
      }
    },
    {
      "cell_type": "markdown",
      "source": [],
      "metadata": {
        "id": "ebcTZX7Sg1Le"
      }
    },
    {
      "cell_type": "markdown",
      "source": [
        "# 8 Test de Wilcoxon\n",
        "## Clase 02  Experimento 8"
      ],
      "metadata": {
        "id": "RAtn4x6Bg1u1"
      }
    },
    {
      "cell_type": "markdown",
      "source": [],
      "metadata": {
        "id": "RWxjnSsVg_ol"
      }
    },
    {
      "cell_type": "markdown",
      "source": [
        "## 8.1  Objetivos\n",
        "\n",
        "¿Como calcular la cantidad mínima de semillas que hacen falta para tener cierta certeza que un modelo es superior a otro?"
      ],
      "metadata": {
        "id": "Gf0LF3ywhAEU"
      }
    },
    {
      "cell_type": "markdown",
      "source": [
        "## 8.2  Introduccion\n",
        "\n",
        "| Hiperparámetro | Arbol 1 | Arbol 2 |\n",
        "| --- | --: |  ---: |\n",
        "| cp | -1 | -1 |\n",
        "|minsplit | 170 | 250 |\n",
        "|minbucket | 70 | 125 |\n",
        "|maxdepth | 7 | 20 |\n",
        "\n",
        "<br>\n",
        "<br>\n",
        "\n",
        "\n",
        "| ordinal | semilla | ganancia1 | ganancia2 | p-value |\n",
        "| --- | --- |  --- |  --- |  --- |\n",
        "| 1 |378821 | 41,470,000 | 37,790,000 | 1.000 |\n",
        "| 2 | 964333  | 48,480,000  | 43,660,000 | 0.500 |\n",
        "| 3 | 187049 | 50,610,000 | 47,840,000 | 0.250 |\n",
        "| 4 | 205151 | 45,580,000 | 44,490,000 | 0.125 |\n",
        "| 5 | 813697 | 52,780,000 | 46,750,000 |  0.063 |\n",
        "| 6 | 344719 | 49,970,000 | 44,300,000 | 0.031 |\n",
        "|7 |127217  |52,810,000 | 42,840,000 |0.016 |\n",
        "| 8 | 464371 | 43,060,000 | 37,300,000 | 0.008 |\n",
        "| 9 | 645137 | 49,660,000 |43,730,000 | 0.004|\n",
        "\n",
        "\n"
      ],
      "metadata": {
        "id": "k4PJGTDViZne"
      }
    },
    {
      "cell_type": "markdown",
      "source": [
        "## 8.3 Codigo Test de Wilcoxon"
      ],
      "metadata": {
        "id": "gAeSRdWRhg61"
      }
    },
    {
      "cell_type": "code",
      "source": [
        "# 1 sola ganancia\n",
        "wilcox.test(\n",
        "  c(41470000),\n",
        "  c(37790000),\n",
        "  paired = TRUE\n",
        ")\n"
      ],
      "metadata": {
        "id": "6r5M0J0HdsE8",
        "outputId": "33d4f566-fa3d-4d03-ad67-d40f50a0fd1d",
        "colab": {
          "base_uri": "https://localhost:8080/",
          "height": 123
        }
      },
      "execution_count": 71,
      "outputs": [
        {
          "output_type": "display_data",
          "data": {
            "text/plain": [
              "\n",
              "\tWilcoxon signed rank exact test\n",
              "\n",
              "data:  c(41470000) and c(37790000)\n",
              "V = 1, p-value = 1\n",
              "alternative hypothesis: true location shift is not equal to 0\n"
            ]
          },
          "metadata": {}
        }
      ]
    },
    {
      "cell_type": "code",
      "source": [
        "# 2 ganancias\n",
        "wilcox.test(\n",
        "  c(41470000, 48480000),\n",
        "  c(37790000, 43660000),\n",
        "  paired = TRUE\n",
        ")\n"
      ],
      "metadata": {
        "id": "1pscqL9vLzYE",
        "outputId": "a3638376-f277-4006-92c1-3e333feef757",
        "colab": {
          "base_uri": "https://localhost:8080/",
          "height": 123
        }
      },
      "execution_count": 72,
      "outputs": [
        {
          "output_type": "display_data",
          "data": {
            "text/plain": [
              "\n",
              "\tWilcoxon signed rank exact test\n",
              "\n",
              "data:  c(41470000, 48480000) and c(37790000, 43660000)\n",
              "V = 3, p-value = 0.5\n",
              "alternative hypothesis: true location shift is not equal to 0\n"
            ]
          },
          "metadata": {}
        }
      ]
    },
    {
      "cell_type": "code",
      "source": [
        "# 3 ganancias\n",
        "wilcox.test(\n",
        "  c(41470000, 48480000, 50610000),\n",
        "  c(37790000, 43660000, 47840000),\n",
        "  paired = TRUE\n",
        ")"
      ],
      "metadata": {
        "id": "p3f_mtKwhSHA",
        "outputId": "c08dbeff-e924-48d3-b65d-43845bf83bf9",
        "colab": {
          "base_uri": "https://localhost:8080/",
          "height": 123
        }
      },
      "execution_count": 73,
      "outputs": [
        {
          "output_type": "display_data",
          "data": {
            "text/plain": [
              "\n",
              "\tWilcoxon signed rank exact test\n",
              "\n",
              "data:  c(41470000, 48480000, 50610000) and c(37790000, 43660000, 47840000)\n",
              "V = 6, p-value = 0.25\n",
              "alternative hypothesis: true location shift is not equal to 0\n"
            ]
          },
          "metadata": {}
        }
      ]
    },
    {
      "cell_type": "code",
      "source": [
        "# 4 ganancias\n",
        "wilcox.test(\n",
        "  c(41470000, 48480000, 50610000, 45580000),\n",
        "  c(37790000, 43660000, 47840000, 44490000),\n",
        "  paired = TRUE\n",
        ")\n"
      ],
      "metadata": {
        "id": "-ijX69r9hT6Z",
        "outputId": "3f0baadf-d3a0-4857-c1b4-651f8615dffe",
        "colab": {
          "base_uri": "https://localhost:8080/",
          "height": 123
        }
      },
      "execution_count": 74,
      "outputs": [
        {
          "output_type": "display_data",
          "data": {
            "text/plain": [
              "\n",
              "\tWilcoxon signed rank exact test\n",
              "\n",
              "data:  c(41470000, 48480000, 50610000, 45580000) and c(37790000, 43660000, 47840000, 44490000)\n",
              "V = 10, p-value = 0.125\n",
              "alternative hypothesis: true location shift is not equal to 0\n"
            ]
          },
          "metadata": {}
        }
      ]
    },
    {
      "cell_type": "code",
      "source": [
        "# 5 ganancias\n",
        "wilcox.test(\n",
        "  c(41470000, 48480000, 50610000, 45580000, 52780000),\n",
        "  c(37790000, 43660000, 47840000, 44490000, 46750000),\n",
        "  paired = TRUE\n",
        ")"
      ],
      "metadata": {
        "id": "X9J_CHGehVfr",
        "outputId": "dc2a5e8d-a867-4f8f-c8db-0cba6ba5854d",
        "colab": {
          "base_uri": "https://localhost:8080/",
          "height": 123
        }
      },
      "execution_count": 75,
      "outputs": [
        {
          "output_type": "display_data",
          "data": {
            "text/plain": [
              "\n",
              "\tWilcoxon signed rank exact test\n",
              "\n",
              "data:  c(41470000, 48480000, 50610000, 45580000, 52780000) and c(37790000, 43660000, 47840000, 44490000, 46750000)\n",
              "V = 15, p-value = 0.0625\n",
              "alternative hypothesis: true location shift is not equal to 0\n"
            ]
          },
          "metadata": {}
        }
      ]
    },
    {
      "cell_type": "code",
      "source": [
        "# 6 ganancias\n",
        "wilcox.test(\n",
        "  c(41470000, 48480000, 50610000, 45580000, 52780000, 49970000),\n",
        "  c(37790000, 43660000, 47840000, 44490000, 46750000, 44300000),\n",
        "  paired = TRUE\n",
        ")"
      ],
      "metadata": {
        "id": "H3CNNonOhXp0",
        "outputId": "1a752187-07ce-43b2-f46b-120c6f50c6f6",
        "colab": {
          "base_uri": "https://localhost:8080/",
          "height": 123
        }
      },
      "execution_count": 76,
      "outputs": [
        {
          "output_type": "display_data",
          "data": {
            "text/plain": [
              "\n",
              "\tWilcoxon signed rank exact test\n",
              "\n",
              "data:  c(41470000, 48480000, 50610000, 45580000, 52780000, 49970000) and c(37790000, 43660000, 47840000, 44490000, 46750000, 44300000)\n",
              "V = 21, p-value = 0.03125\n",
              "alternative hypothesis: true location shift is not equal to 0\n"
            ]
          },
          "metadata": {}
        }
      ]
    },
    {
      "cell_type": "code",
      "source": [
        "# Finalmente el p-value es  0.03125  < 0.05\n",
        "# hicieron falta  SEIS semillas, seis ganancias, para\n",
        "#   afirmar que el modelo 1 es superior al modelo 2\n",
        "\n",
        "# 7 ganancias\n",
        "wilcox.test(\n",
        "  c(41470000, 48480000, 50610000, 45580000, 52780000, 49970000, 52810000),\n",
        "  c(37790000, 43660000, 47840000, 44490000, 46750000, 44300000, 42840000),\n",
        "  paired = TRUE\n",
        ")\n"
      ],
      "metadata": {
        "id": "NTW8kwY8hamz",
        "outputId": "9783f145-e694-470f-8dd6-951d36091cd1",
        "colab": {
          "base_uri": "https://localhost:8080/",
          "height": 141
        }
      },
      "execution_count": 77,
      "outputs": [
        {
          "output_type": "display_data",
          "data": {
            "text/plain": [
              "\n",
              "\tWilcoxon signed rank exact test\n",
              "\n",
              "data:  c(41470000, 48480000, 50610000, 45580000, 52780000, 49970000, 52810000) and c(37790000, 43660000, 47840000, 44490000, 46750000, 44300000, 42840000)\n",
              "V = 28, p-value = 0.01563\n",
              "alternative hypothesis: true location shift is not equal to 0\n"
            ]
          },
          "metadata": {}
        }
      ]
    },
    {
      "cell_type": "code",
      "source": [
        "# 8 ganancias\n",
        "wilcox.test(\n",
        "  c(41470000, 48480000, 50610000, 45580000, 52780000, 49970000, 52810000, 43060000),\n",
        "  c(37790000, 43660000, 47840000, 44490000, 46750000, 44300000, 42840000, 37300000),\n",
        "  paired = TRUE\n",
        ")\n"
      ],
      "metadata": {
        "id": "Xks918w8hcgC",
        "outputId": "a249a924-2f4e-4353-ef18-3bff86443bb8",
        "colab": {
          "base_uri": "https://localhost:8080/",
          "height": 141
        }
      },
      "execution_count": 78,
      "outputs": [
        {
          "output_type": "display_data",
          "data": {
            "text/plain": [
              "\n",
              "\tWilcoxon signed rank exact test\n",
              "\n",
              "data:  c(41470000, 48480000, 50610000, 45580000, 52780000, 49970000, 52810000, 43060000) and c(37790000, 43660000, 47840000, 44490000, 46750000, 44300000, 42840000, 37300000)\n",
              "V = 36, p-value = 0.007813\n",
              "alternative hypothesis: true location shift is not equal to 0\n"
            ]
          },
          "metadata": {}
        }
      ]
    },
    {
      "cell_type": "code",
      "source": [
        "# 9 ganancias\n",
        "wilcox.test(\n",
        "  c(41470000, 48480000, 50610000, 45580000, 52780000, 49970000, 52810000, 43060000, 49660000),\n",
        "  c(37790000, 43660000, 47840000, 44490000, 46750000, 44300000, 42840000, 37300000, 43730000),\n",
        "  paired = TRUE\n",
        ")"
      ],
      "metadata": {
        "id": "5x8L1PMGhdJR",
        "outputId": "480c0931-099b-4d98-d415-76e6ddae7987",
        "colab": {
          "base_uri": "https://localhost:8080/",
          "height": 141
        }
      },
      "execution_count": 79,
      "outputs": [
        {
          "output_type": "display_data",
          "data": {
            "text/plain": [
              "\n",
              "\tWilcoxon signed rank exact test\n",
              "\n",
              "data:  c(41470000, 48480000, 50610000, 45580000, 52780000, 49970000, 52810000, 43060000, 49660000) and c(37790000, 43660000, 47840000, 44490000, 46750000, 44300000, 42840000, 37300000, 43730000)\n",
              "V = 45, p-value = 0.003906\n",
              "alternative hypothesis: true location shift is not equal to 0\n"
            ]
          },
          "metadata": {}
        }
      ]
    },
    {
      "cell_type": "markdown",
      "source": [
        "\n",
        "\n",
        "---\n",
        "\n"
      ],
      "metadata": {
        "id": "Qjay2WBIkhNm"
      }
    },
    {
      "cell_type": "markdown",
      "source": [
        "# 9 Comparando automaticamente modelos con test de Wilcoxon\n",
        "## Clase 02  Experimento 9"
      ],
      "metadata": {
        "id": "g2aqxlCIk3fk"
      }
    },
    {
      "cell_type": "markdown",
      "source": [],
      "metadata": {
        "id": "FhCY4sH8k3fw"
      }
    },
    {
      "cell_type": "markdown",
      "source": [
        "## 9.1  Objetivos\n",
        "\n",
        "Proveer un script que permita comparar dos arboles de decisión con la librería rpart utilizando la menor cantidad de cómputo que permita el Test de Wilxcoxon"
      ],
      "metadata": {
        "id": "a_ZVBKBHk3fx"
      }
    },
    {
      "cell_type": "markdown",
      "source": [
        "## 9.2  Introduccion\n",
        "\n",
        "| Hiperparámetro | Arbol 1 | Arbol 2 |\n",
        "| --- | --- |  --- |\n",
        "| cp | -1 | -1 |\n",
        "|minsplit | 1050 | 650 |\n",
        "|minbucket | 550 | 300 |\n",
        "|maxdepth |67 | 6 |\n",
        "\n",
        "\n"
      ],
      "metadata": {
        "id": "qCd56L0Ik3fx"
      }
    },
    {
      "cell_type": "markdown",
      "source": [
        "## 9.3 Codigo comparacion automatica Wilcoxon"
      ],
      "metadata": {
        "id": "NBtQsG3vk3fx"
      }
    },
    {
      "cell_type": "markdown",
      "source": [
        "Esta parte se debe correr con el runtime en lenguaje **R** Ir al menu, Runtime -> Change Runtime Tipe -> Runtime type -> R"
      ],
      "metadata": {
        "id": "-ARzDPORlpG6"
      }
    },
    {
      "cell_type": "markdown",
      "source": [
        "limpio el ambiente de R"
      ],
      "metadata": {
        "id": "-Sy-sLMXlpHI"
      }
    },
    {
      "cell_type": "code",
      "source": [
        "# limpio la memoria\n",
        "rm(list=ls(all.names=TRUE)) # remove all objects\n",
        "gc(full=TRUE, verbose=FALSE) # garbage collection"
      ],
      "metadata": {
        "id": "ZpST7lcHlpHI",
        "outputId": "b756956c-a154-4d40-b531-2d130ca8826b",
        "colab": {
          "base_uri": "https://localhost:8080/",
          "height": 129
        }
      },
      "execution_count": 80,
      "outputs": [
        {
          "output_type": "display_data",
          "data": {
            "text/html": [
              "<table class=\"dataframe\">\n",
              "<caption>A matrix: 2 × 6 of type dbl</caption>\n",
              "<thead>\n",
              "\t<tr><th></th><th scope=col>used</th><th scope=col>(Mb)</th><th scope=col>gc trigger</th><th scope=col>(Mb)</th><th scope=col>max used</th><th scope=col>(Mb)</th></tr>\n",
              "</thead>\n",
              "<tbody>\n",
              "\t<tr><th scope=row>Ncells</th><td>1446900</td><td>77.3</td><td> 2477894</td><td>132.4</td><td>  2477894</td><td>132.4</td></tr>\n",
              "\t<tr><th scope=row>Vcells</th><td>2624774</td><td>20.1</td><td>51229501</td><td>390.9</td><td>103910653</td><td>792.8</td></tr>\n",
              "</tbody>\n",
              "</table>\n"
            ],
            "text/markdown": "\nA matrix: 2 × 6 of type dbl\n\n| <!--/--> | used | (Mb) | gc trigger | (Mb) | max used | (Mb) |\n|---|---|---|---|---|---|---|\n| Ncells | 1446900 | 77.3 |  2477894 | 132.4 |   2477894 | 132.4 |\n| Vcells | 2624774 | 20.1 | 51229501 | 390.9 | 103910653 | 792.8 |\n\n",
            "text/latex": "A matrix: 2 × 6 of type dbl\n\\begin{tabular}{r|llllll}\n  & used & (Mb) & gc trigger & (Mb) & max used & (Mb)\\\\\n\\hline\n\tNcells & 1446900 & 77.3 &  2477894 & 132.4 &   2477894 & 132.4\\\\\n\tVcells & 2624774 & 20.1 & 51229501 & 390.9 & 103910653 & 792.8\\\\\n\\end{tabular}\n",
            "text/plain": [
              "       used    (Mb) gc trigger (Mb)  max used  (Mb) \n",
              "Ncells 1446900 77.3  2477894   132.4   2477894 132.4\n",
              "Vcells 2624774 20.1 51229501   390.9 103910653 792.8"
            ]
          },
          "metadata": {}
        }
      ]
    },
    {
      "cell_type": "markdown",
      "source": [
        "* Instalacion de la libreria  rpart.plot  para dibujar el arbol\n",
        "* invocacion de las librerias  **data.table** y  **rpart**"
      ],
      "metadata": {
        "id": "jHhAx3cvlpHJ"
      }
    },
    {
      "cell_type": "code",
      "source": [
        "# cargo las librerias que necesito\n",
        "require(\"data.table\")\n",
        "require(\"rpart\")\n",
        "require(\"parallel\")\n",
        "\n",
        "if (!require(\"primes\")) install.packages(\"primes\")\n",
        "require(\"primes\")\n",
        "\n",
        "require(\"ggplot2\")"
      ],
      "metadata": {
        "id": "cbPnXeeqlpHJ"
      },
      "execution_count": 81,
      "outputs": []
    },
    {
      "cell_type": "markdown",
      "source": [
        "###  Accion a Realizar\n",
        "PARAM$semilla_primigenia  debe reemplazarse por SU primer semilla"
      ],
      "metadata": {
        "id": "_GQk_NEUlpHK"
      }
    },
    {
      "cell_type": "code",
      "source": [
        "PARAM <- list()\n",
        "PARAM$semilla_primigenia <- 200003\n",
        "PARAM$qsemillas_tope <- 50\n",
        "PARAM$training_pct <- 70L     # entre 1 y 100\n"
      ],
      "metadata": {
        "id": "Do801PIHlpHK"
      },
      "execution_count": 82,
      "outputs": []
    },
    {
      "cell_type": "code",
      "source": [
        "# los dos arboles\n",
        "PARAM$rpart1 <- list (\n",
        "  \"cp\" = -1,\n",
        "  \"minsplit\" = 800,\n",
        "  \"minbucket\" = 400,\n",
        "  \"maxdepth\" = 7\n",
        ")\n",
        "\n",
        "\n",
        "PARAM$rpart2 <- list (\n",
        "  \"cp\" = -1,\n",
        "  \"minsplit\" = 650,\n",
        "  \"minbucket\" = 300,\n",
        "  \"maxdepth\" = 6\n",
        ")\n"
      ],
      "metadata": {
        "id": "KlC7gTc7lpHK"
      },
      "execution_count": 83,
      "outputs": []
    },
    {
      "cell_type": "code",
      "source": [
        "# particionar agrega una columna llamada fold a un dataset\n",
        "#  que consiste en una particion estratificada segun agrupa\n",
        "\n",
        "# particionar( data=dataset, division=c(70,30),\n",
        "#  agrupa=clase_ternaria, seed=semilla)   crea una particion 70, 30\n",
        "\n",
        "particionar <- function(\n",
        "    data, division, agrupa = \"\",\n",
        "    campo = \"fold\", start = 1, seed = NA) {\n",
        "  if (!is.na(seed)) set.seed(seed)\n",
        "\n",
        "  bloque <- unlist(mapply(function(x, y) {\n",
        "    rep(y, x)\n",
        "  }, division, seq(from = start, length.out = length(division))))\n",
        "\n",
        "  data[, (campo) := sample(rep(bloque, ceiling(.N / length(bloque))))[1:.N],\n",
        "    by = agrupa\n",
        "  ]\n",
        "}\n"
      ],
      "metadata": {
        "id": "I7hOkZrxlpHL"
      },
      "execution_count": 84,
      "outputs": []
    },
    {
      "cell_type": "code",
      "source": [
        "DosArbolesEstimarGanancia <- function(semilla, training_pct, param_rpart1, param_rpart2) {\n",
        "  # particiono estratificadamente el dataset\n",
        "  particionar(dataset,\n",
        "    division = c(training_pct, 100L -training_pct),\n",
        "    agrupa = \"clase_ternaria\",\n",
        "    seed = semilla # aqui se usa SU semilla\n",
        "  )\n",
        "\n",
        "  # genero el modelo\n",
        "  # predecir clase_ternaria a partir del resto\n",
        "  modelo1 <- rpart(\"clase_ternaria ~ .\",\n",
        "    data = dataset[fold == 1], # fold==1  es training,  el 70% de los datos\n",
        "    xval = 0,\n",
        "    control = param_rpart1\n",
        "  ) # aqui van los parametros del arbol\n",
        "\n",
        "  # aplico el modelo a los datos de testing\n",
        "  prediccion1 <- predict(modelo1, # el modelo que genere recien\n",
        "    dataset[fold == 2], # fold==2  es testing, el 30% de los datos\n",
        "    type = \"prob\"\n",
        "  ) # type= \"prob\"  es que devuelva la probabilidad\n",
        "\n",
        "\n",
        "  # calculo la ganancia en testing  qu es fold==2\n",
        "  ganancia_test1 <- dataset[\n",
        "    fold == 2,\n",
        "    sum(ifelse(prediccion1[, \"BAJA+2\"] > 0.025,\n",
        "      ifelse(clase_ternaria == \"BAJA+2\", 117000, -3000),\n",
        "      0\n",
        "    ))\n",
        "  ]\n",
        "\n",
        "  # escalo la ganancia como si fuera todo el dataset\n",
        "  ganancia_test_normalizada1 <- ganancia_test1 / (( 100 - training_pct ) / 100 )\n",
        "\n",
        "  modelo2 <- rpart(\"clase_ternaria ~ .\",\n",
        "    data = dataset[fold == 1], # fold==1  es training,  el 70% de los datos\n",
        "    xval = 0,\n",
        "    control = param_rpart2\n",
        "  ) # aqui van los parametros del arbol\n",
        "\n",
        "  # aplico el modelo a los datos de testing\n",
        "  prediccion2 <- predict(modelo2, # el modelo que genere recien\n",
        "    dataset[fold == 2], # fold==2  es testing, el 30% de los datos\n",
        "    type = \"prob\"\n",
        "  ) # type= \"prob\"  es que devuelva la probabilidad\n",
        "\n",
        "\n",
        "  # calculo la ganancia en testing  qu es fold==2\n",
        "  ganancia_test2 <- dataset[\n",
        "    fold == 2,\n",
        "    sum(ifelse(prediccion2[, \"BAJA+2\"] > 0.025,\n",
        "      ifelse(clase_ternaria == \"BAJA+2\", 117000, -3000),\n",
        "      0\n",
        "    ))\n",
        "  ]\n",
        "\n",
        "  # escalo la ganancia como si fuera todo el dataset\n",
        "  ganancia_test_normalizada2 <- ganancia_test2 / (( 100 - training_pct ) / 100 )\n",
        "\n",
        "  return(list(\n",
        "    \"semilla\" = semilla,\n",
        "    \"ganancia1\" = ganancia_test_normalizada1,\n",
        "    \"ganancia2\" = ganancia_test_normalizada2\n",
        "  ))\n",
        "}"
      ],
      "metadata": {
        "id": "vFpBSFBYlpHL"
      },
      "execution_count": 85,
      "outputs": []
    },
    {
      "cell_type": "code",
      "source": [
        "# 1  ->  el modelo 1 es mejor\n",
        "# 2  ->  el modelo 2 es mejor\n",
        "# 0  ->  No se pudo determinar con el tope de qsemillas_tope\n",
        "\n",
        "\n",
        "MejorArbol <- function( qsemillas_tope, training_pct, param_rpart1, param_rpart2) {\n",
        "\n",
        "  # genero numeros primos\n",
        "  primos <- generate_primes(min = 100000, max = 1000000)\n",
        "  set.seed(PARAM$semilla_primigenia) # inicializo\n",
        "  # me quedo con PARAM$qsemillas   semillas\n",
        "  semillas <- sample(primos, qsemillas_tope )\n",
        "\n",
        "  pvalue <- 1.0\n",
        "  isem <- 1\n",
        "  vgan1 <- c() # almaceno ganancias del modelo1\n",
        "  vgan2 <- c() # almaceno ganancias del modelo2\n",
        "\n",
        "  while( (isem <= qsemillas_tope)  & (pvalue > 0.05) ) {\n",
        "\n",
        "    res <- DosArbolesEstimarGanancia(\n",
        "       semillas[ isem ],\n",
        "       training_pct,\n",
        "       param_rpart1,\n",
        "       param_rpart2\n",
        "    )\n",
        "\n",
        "    vgan1 <- c( vgan1, res$ganancia1 )\n",
        "    vgan2 <- c( vgan2, res$ganancia2 )\n",
        "\n",
        "    wt <- wilcox.test( vgan1, vgan2, paired=TRUE )\n",
        "    pvalue <- wt$p.value\n",
        "\n",
        "    cat( isem, res$ganancia1, res$ganancia2, pvalue, \"\\n\" )\n",
        "    flush.console()\n",
        "    isem <- isem + 1\n",
        "  }\n",
        "\n",
        "  out <- 0\n",
        "\n",
        "  if( pvalue < 0.05 & mean(vgan1) > mean(vgan2)  )  out <- 1\n",
        "  if( pvalue < 0.05 & mean(vgan1) < mean(vgan2)  )  out <- 2\n",
        "\n",
        "\n",
        "  return( list( \"out\" = out,\n",
        "    \"qsemillas\" = length(vgan1),\n",
        "    \"m1\" = mean( vgan1 ),\n",
        "    \"m2\" = mean( vgan2 )\n",
        "   ) )\n",
        "}\n"
      ],
      "metadata": {
        "id": "Cp8RnA_NmE8g"
      },
      "execution_count": 86,
      "outputs": []
    },
    {
      "cell_type": "code",
      "source": [
        "# carpeta de trabajo\n",
        "setwd(\"/content/buckets/b1/exp\")\n",
        "experimento <- \"exp209\"\n",
        "dir.create(experimento, showWarnings=FALSE)\n",
        "setwd( paste0(\"/content/buckets/b1/exp/\", experimento ))"
      ],
      "metadata": {
        "id": "r1motpfOlpHM"
      },
      "execution_count": 87,
      "outputs": []
    },
    {
      "cell_type": "code",
      "source": [
        "# lectura del dataset\n",
        "dataset <- fread(\"/content/datasets/dataset_pequeno.csv\")\n",
        "\n",
        "# trabajo solo con los datos con clase, es decir 202107\n",
        "dataset <- dataset[clase_ternaria != \"\"]"
      ],
      "metadata": {
        "id": "hT0LaKWumTSu"
      },
      "execution_count": 88,
      "outputs": []
    },
    {
      "cell_type": "code",
      "source": [
        "Sys.time()\n",
        "\n",
        "comparacion <- MejorArbol(\n",
        "   PARAM$qsemillas_tope,\n",
        "   PARAM$training_pct,\n",
        "   PARAM$rpart1,\n",
        "   PARAM$rpart2\n",
        " )\n",
        "\n",
        "\n",
        "print( comparacion )\n",
        "\n",
        "Sys.time()"
      ],
      "metadata": {
        "id": "wsk0F77ambVW",
        "outputId": "655fe7ce-e73a-451e-e289-c60c7d18887f",
        "colab": {
          "base_uri": "https://localhost:8080/",
          "height": 406
        }
      },
      "execution_count": 90,
      "outputs": [
        {
          "output_type": "display_data",
          "data": {
            "text/plain": [
              "[1] \"2025-10-09 20:25:49 UTC\""
            ]
          },
          "metadata": {}
        },
        {
          "output_type": "stream",
          "name": "stdout",
          "text": [
            "1 49500000 49680000 1 \n",
            "2 42760000 46110000 0.5 \n",
            "3 58380000 5.8e+07 0.75 \n",
            "4 43650000 46120000 0.375 \n",
            "5 52970000 54290000 0.1875 \n",
            "6 46820000 46900000 0.15625 \n",
            "7 48980000 50340000 0.078125 \n",
            "8 54050000 55770000 0.0390625 \n",
            "$out\n",
            "[1] 2\n",
            "\n",
            "$qsemillas\n",
            "[1] 8\n",
            "\n",
            "$m1\n",
            "[1] 49638750\n",
            "\n",
            "$m2\n",
            "[1] 50901250\n",
            "\n"
          ]
        },
        {
          "output_type": "display_data",
          "data": {
            "text/plain": [
              "[1] \"2025-10-09 20:39:28 UTC\""
            ]
          },
          "metadata": {}
        }
      ]
    },
    {
      "cell_type": "markdown",
      "source": [
        "### Acciones a realizar\n",
        "* Reportar la  los resultados en la planilla colaborativa hoja  **C2-Wilcox**\n"
      ],
      "metadata": {
        "id": "d2br1bgJlpHQ"
      }
    },
    {
      "cell_type": "markdown",
      "source": [
        "\n",
        "\n",
        "---\n",
        "\n"
      ],
      "metadata": {
        "id": "x7SebtV2lpHQ"
      }
    }
  ]
}